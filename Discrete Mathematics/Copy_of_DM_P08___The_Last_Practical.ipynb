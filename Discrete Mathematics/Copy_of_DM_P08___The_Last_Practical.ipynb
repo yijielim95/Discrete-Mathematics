{
  "cells": [
    {
      "cell_type": "markdown",
      "metadata": {
        "id": "Dajafvz5obcM",
        "label": "title"
      },
      "source": [
        "# Practical 08 - The Last Practical"
      ]
    },
    {
      "cell_type": "markdown",
      "metadata": {
        "id": "dGUHvpDUobcN",
        "label": "setup"
      },
      "source": [
        "## Setup"
      ]
    },
    {
      "cell_type": "code",
      "execution_count": 1,
      "metadata": {
        "cellView": "form",
        "execution": {
          "iopub.execute_input": "2020-12-09T15:42:29.982255Z",
          "iopub.status.busy": "2020-12-09T15:42:29.981490Z",
          "iopub.status.idle": "2020-12-09T15:42:29.983917Z",
          "shell.execute_reply": "2020-12-09T15:42:29.984737Z"
        },
        "id": "CXsnfskuobcN",
        "label": "bio"
      },
      "outputs": [],
      "source": [
        "#@markdown **Please enter your following details and press Shift-Enter to save:**\n",
        "your_student_number = '20104720' #@param {type: \"string\"}\n",
        "your_name = 'Yi Jie Lim' #@param {type: \"string\"}"
      ]
    },
    {
      "cell_type": "code",
      "execution_count": 2,
      "metadata": {
        "execution": {
          "iopub.execute_input": "2020-12-09T15:42:29.993133Z",
          "iopub.status.busy": "2020-12-09T15:42:29.991762Z",
          "iopub.status.idle": "2020-12-09T15:42:33.917889Z",
          "shell.execute_reply": "2020-12-09T15:42:33.917207Z"
        },
        "id": "gI-1sOMPobcN",
        "label": "setup",
        "outputId": "b357e86a-799f-4de4-e354-3e86acfb7d67",
        "colab": {
          "base_uri": "https://localhost:8080/",
          "height": 52
        }
      },
      "outputs": [
        {
          "output_type": "execute_result",
          "data": {
            "text/plain": [
              "<IPython.core.display.HTML object>"
            ],
            "text/html": [
              "<style>\n",
              "\n",
              "\n",
              "\n",
              "/* counting headers and my styling */\n",
              "\n",
              ".navbar-collapse.collapse {\n",
              "display: block!important;\n",
              "}\n",
              "\n",
              ".navbar-nav>li, .navbar-nav {\n",
              "float: left !important;\n",
              "}\n",
              "\n",
              ".navbar-nav.navbar-right:last-child {\n",
              "margin-right: -15px !important;\n",
              "}\n",
              "\n",
              ".navbar-right {\n",
              "float: right!important;\n",
              "}\n",
              "\n",
              "#notebook_name {\n",
              "    font-weight: 600;\n",
              "}\n",
              "\n",
              "h1 {\n",
              "\ttext-align: center;\n",
              "\tbackground-color: rgba(0,255,1,0.15);\n",
              "\tborder-bottom: 1px solid #cccccc;\n",
              "\tcounter-reset: h2counter;\t\n",
              "}\n",
              "\n",
              "h2 {\n",
              "\ttext-align: center;\n",
              "\twidth: 75%;\n",
              "\tmargin-left: 25%;\n",
              "\tbackground-color: rgba(255,255,1,0.15);\n",
              "\tborder-bottom: 1px solid #cccccc;\n",
              "\tcounter-reset: h3counter;\t\n",
              "}\n",
              "h2:before {\n",
              "\tcounter-increment: h2counter;\n",
              "}\n",
              "\n",
              "h3 {\n",
              "\tborder-bottom: 1px solid #cccccc;\t\n",
              "}\n",
              "h3:before {\n",
              "\tcounter-increment: h3counter;\n",
              "}\n",
              "\n",
              "h4 {\n",
              "\tborder-bottom: 1px solid #cccccc;\t\n",
              "}\n",
              "h4:before {\n",
              "\tcounter-increment: h4counter;\n",
              "}\n",
              " </style>Python practical setup tools version 23.2. See <a target=\"_blank\" href=\"https://setu-discretemathematics.github.io/live/00-Module_Introduction/33-Python_Practicals\">https://setu-discretemathematics.github.io/live/00-Module_Introduction/33-Python_Practicals</a>"
            ]
          },
          "metadata": {},
          "execution_count": 2
        }
      ],
      "source": [
        "# setup magic, do not edit this cell! Just press Shift+Enter or click on arrow at top-left\n",
        "\n",
        "import urllib.request\n",
        "content = urllib.request.urlretrieve (\"https://setu-discretemathematics.github.io/live/files/setup_practical_magic.py\")\n",
        "exec(open(content[0]).read())\n",
        "setup_practical(locals(),_ih)"
      ]
    },
    {
      "cell_type": "markdown",
      "metadata": {
        "id": "miGSbNwvobcO"
      },
      "source": [
        "---\n",
        "### Question 1\n",
        "\n",
        "Given a paragraph of text, for example the text below, containing numbers. Use python to extract the numbers and calculate their sum.\n",
        "\n",
        "Hints:\n",
        "\n",
        " * Use string method `.split()` to convert a string to a list of words.\n",
        " * Use string method `.isnumeric()` to check if word is a number.\n",
        " * Use function `int` to convert a string containing an integer to an `int`.  \n"
      ]
    },
    {
      "cell_type": "code",
      "execution_count": 3,
      "metadata": {
        "tags": [
          "Q1"
        ],
        "id": "Oj9w_oBuZF-Y",
        "colab": {
          "base_uri": "https://localhost:8080/"
        },
        "outputId": "712eb420-60e9-4d4c-e9b4-9369cdec6b7e"
      },
      "outputs": [
        {
          "output_type": "stream",
          "name": "stdout",
          "text": [
            "The total is  1527\n"
          ]
        }
      ],
      "source": [
        "# Question 1\n",
        "\n",
        "text = \"\"\"\n",
        "1 day, 3 integers walked into a bar. The bartender says, \"Sorry, we don't serve your type here.\"\n",
        "The integers replied, \"Well, that's not very positive!\"\n",
        "\n",
        "In the bustling city of Integerburg, where the avenues were named after consecutive Fibonacci numbers,\n",
        "there lived a character known as Integerella. She lived in apartment 987, on the 42 floor of 15 Prime Tower,\n",
        "with a view that could only be described as the square root of spectacular.\n",
        "\n",
        "Integerella's daily routine was as structured as a perfectly balanced equation.\n",
        "She woke up at 23 minutes past 7 AM, brewed exactly 314 milliliters of coffee,\n",
        "and set out for her job at the Multiplication Factory on 123 st. The factory, renowned for\n",
        "producing products in quantities divisible by 10, was a hub of numerical activity.\n",
        "\n",
        "I asked my computer for a joke, and it replied, \"Why was the math book sad? Because it had 2 many problems!\"\n",
        "\"\"\"\n",
        "total = 0\n",
        "words = text.replace(\",\",\" \").replace(\".\", \" \").split()\n",
        "for word in words:\n",
        "  # print(word, word.isnumeric())\n",
        "  if word.isnumeric():\n",
        "    total = total + int(word)\n",
        "\n",
        "print(\"The total is \", total)"
      ]
    },
    {
      "cell_type": "markdown",
      "metadata": {
        "id": "1hgcwI-xobcO"
      },
      "source": [
        "### Question 2\n",
        "\n",
        "Write code to generate the permutations of the letters in __\"abcdcba\"__ taking 4 letters at a time. Count how many of these permutations are palindromes. (A __palindrome__ is a word that reads the same forwards and backwards.)\n",
        "\n",
        "Hints:\n",
        "\n",
        " * Use string method `\"\".join()` to convert a list into a string.\n",
        " * Use slicing `[::-1]` to reverse any ordered collection - a list or a string."
      ]
    },
    {
      "cell_type": "code",
      "execution_count": 4,
      "metadata": {
        "execution": {
          "iopub.execute_input": "2020-12-09T15:42:33.966926Z",
          "iopub.status.busy": "2020-12-09T15:42:33.966394Z",
          "iopub.status.idle": "2020-12-09T15:42:33.968845Z",
          "shell.execute_reply": "2020-12-09T15:42:33.968311Z"
        },
        "tags": [
          "Q2"
        ],
        "id": "zTKL2TznZF-Z",
        "colab": {
          "base_uri": "https://localhost:8080/"
        },
        "outputId": "7f6387d4-065a-431c-98fc-3dc5ea6bd587"
      },
      "outputs": [
        {
          "output_type": "execute_result",
          "data": {
            "text/plain": [
              "{'abba', 'acca', 'baab', 'bccb', 'caac', 'cbbc'}"
            ]
          },
          "metadata": {},
          "execution_count": 4
        }
      ],
      "source": [
        "# Question 2\n",
        "import itertools as its\n",
        "ans = [\"\".join(x) for x in its.permutations(\"abcdcba\", 4)]\n",
        "\n",
        "# keep words that are palindrome\n",
        "ans = { x for x in ans if x==x[::-1] }\n",
        "ans"
      ]
    },
    {
      "cell_type": "markdown",
      "metadata": {
        "id": "i-lLas88ZF-Z"
      },
      "source": [
        "---\n",
        "The Tribonacci sequence\n",
        "\n",
        "    0, 1, 1, 2, 4, 7, 13, 24, ...\n",
        "\n",
        "where it starts with 0, 1, and 1, then each following term is the sum of the preceding terms."
      ]
    },
    {
      "cell_type": "markdown",
      "metadata": {
        "id": "ZDMbY9bKZF-Z"
      },
      "source": [
        "### Question 3\n",
        "\n",
        "Write a python function, `tribonacci(n)`, to generate the nth term of the Tribonacci sequence."
      ]
    },
    {
      "cell_type": "code",
      "execution_count": 5,
      "metadata": {
        "execution": {
          "iopub.execute_input": "2020-12-09T15:42:33.976777Z",
          "iopub.status.busy": "2020-12-09T15:42:33.976266Z",
          "iopub.status.idle": "2020-12-09T15:42:33.978556Z",
          "shell.execute_reply": "2020-12-09T15:42:33.978136Z"
        },
        "id": "W4s5pckBobcP",
        "tags": [
          "Q3"
        ],
        "colab": {
          "base_uri": "https://localhost:8080/"
        },
        "outputId": "5ce2c65c-c389-4101-965b-ba55f6be9016"
      },
      "outputs": [
        {
          "output_type": "stream",
          "name": "stdout",
          "text": [
            "n=0\t output=0\t expected=0\t correct=True\n",
            "n=1\t output=1\t expected=1\t correct=True\n",
            "n=2\t output=1\t expected=1\t correct=True\n",
            "n=3\t output=2\t expected=2\t correct=True\n",
            "n=6\t output=13\t expected=13\t correct=True\n"
          ]
        }
      ],
      "source": [
        "# Question 3\n",
        "def tribonacci(n):\n",
        "  assert type(n)==int and n>=0, f\"Parameter {n=} must be a non-negative integer\"\n",
        "\n",
        "  previous = previous_previous = previous_previous_previous = 0\n",
        "\n",
        "  for k in range(n+1):\n",
        "    if k==0:\n",
        "      current = 0\n",
        "    elif k==1:\n",
        "      current = 1\n",
        "    elif k==2:\n",
        "      current = 1\n",
        "    else:\n",
        "      current = previous + previous_previous + previous_previous_previous\n",
        "\n",
        "    previous_previous_previous = previous_previous\n",
        "    previous_previous = previous\n",
        "    previous = current\n",
        "\n",
        "\n",
        "  return current\n",
        "\n",
        "\n",
        "for n, expected in [(0,0),(1,1),(2,1),(3,2),(6,13)]:\n",
        "  output = tribonacci(n)\n",
        "  correct = (output==expected)\n",
        "  print(f\"{n=}\\t {output=}\\t {expected=}\\t {correct=}\")"
      ]
    },
    {
      "cell_type": "markdown",
      "metadata": {
        "id": "cfzRlku6ZF-a"
      },
      "source": [
        "### Question 4\n",
        "\n",
        "Write a python function, `nextTribonacci(n)`, to return the next Tribonacci number after `n`.\n"
      ]
    },
    {
      "cell_type": "code",
      "execution_count": 8,
      "metadata": {
        "tags": [
          "Q4"
        ],
        "id": "HVZD16CJZF-a",
        "colab": {
          "base_uri": "https://localhost:8080/"
        },
        "outputId": "c4f4e1f8-0c2e-4ae9-eb11-c7574ddd670c"
      },
      "outputs": [
        {
          "output_type": "stream",
          "name": "stdout",
          "text": [
            "n=0\t output=1\t expected=1\t correct=True\n",
            "n=1\t output=2\t expected=2\t correct=True\n",
            "n=2\t output=3\t expected=3\t correct=True\n",
            "n=3\t output=4\t expected=4\t correct=True\n",
            "n=5\t output=6\t expected=6\t correct=True\n"
          ]
        }
      ],
      "source": [
        "# Question 4\n",
        "def nextTribonacci(n):\n",
        "  assert type(n)== int and n>=0, f'Parameter {n=} to check the next Tribonacci number after n'\n",
        "  a = n + 1\n",
        "  while True:\n",
        "    if tribonacci(a):\n",
        "      return a\n",
        "    a += 1\n",
        "\n",
        "for n, expected in [(0,1),(1,2),(2,3),(3,4),(5,6)]:\n",
        "  output = nextTribonacci(n)\n",
        "  correct = (output==expected)\n",
        "  print(f\"{n=}\\t {output=}\\t {expected=}\\t {correct=}\")"
      ]
    },
    {
      "cell_type": "markdown",
      "metadata": {
        "id": "sWddqWVrZF-a"
      },
      "source": [
        "### Question 5\n",
        "\n",
        "Write a python function, `previousTribonacci(n)`, to return the previous Tribonacci number to `n`.\n"
      ]
    },
    {
      "cell_type": "code",
      "execution_count": 15,
      "metadata": {
        "tags": [
          "Q5"
        ],
        "id": "Z35UiEMAZF-a",
        "colab": {
          "base_uri": "https://localhost:8080/"
        },
        "outputId": "b44919ae-4893-4501-af8a-ee8c906dacc4"
      },
      "outputs": [
        {
          "output_type": "stream",
          "name": "stdout",
          "text": [
            "n=3\t output=2\t expected=2\t correct=True\n",
            "n=4\t output=3\t expected=3\t correct=True\n",
            "n=2\t output=1\t expected=1\t correct=True\n",
            "n=8\t output=7\t expected=7\t correct=True\n",
            "n=6\t output=5\t expected=5\t correct=True\n"
          ]
        }
      ],
      "source": [
        "# Question 5\n",
        "def previousTribonacci(n):\n",
        "  assert type(n)== int and n>=0, f'Parameter {n=} to check the previous Tribonacci number after n'\n",
        "  b = n - 1\n",
        "  while True:\n",
        "    if tribonacci(b):\n",
        "      return b\n",
        "    b -= 1\n",
        "\n",
        "for n, expected in [(3,2),(4,3),(2,1),(8,7),(6,5)]:\n",
        "  output = previousTribonacci(n)\n",
        "  correct = (output==expected)\n",
        "  print(f\"{n=}\\t {output=}\\t {expected=}\\t {correct=}\")"
      ]
    },
    {
      "cell_type": "markdown",
      "metadata": {
        "id": "Fupb7zMXobcQ"
      },
      "source": [
        "---\n",
        "## Review/Feedback (P08)"
      ]
    },
    {
      "cell_type": "code",
      "execution_count": null,
      "metadata": {
        "cellView": "form",
        "execution": {
          "iopub.execute_input": "2020-12-09T15:42:33.994006Z",
          "iopub.status.busy": "2020-12-09T15:42:33.993446Z",
          "iopub.status.idle": "2020-12-09T15:42:33.996456Z",
          "shell.execute_reply": "2020-12-09T15:42:33.995595Z"
        },
        "id": "2TW5QrGFobcQ"
      },
      "outputs": [],
      "source": [
        "#@markdown This a a short questionnaire for you to provide feedback on how you think the semester is progressing and in particular for __Discrete Mathematics__, how easy/difficult, interesting/boring, useful/confusing you find the material. By completing the following you will help us improve our delivery.<br />Please enter your feedback and click on arrow at top-left to save.\n",
        "\n",
        "#@markdown **This practical**\n",
        "\n",
        "#@markdown How difficult did you find this practical?\n",
        "practical_difficulty = 'Some bits were hard but overall it was doable' #@param ['No opinion', \"Too easy', 'Easy', 'About right', 'Some bits were hard but overall it was doable', 'Too difficult', 'Impossible']\n",
        "\n",
        "#@markdown Including online session time, how long (in minutes) did it take for you to finish this practical?\n",
        "practical_duration = 60 #@param {type: \"number\"}\n",
        "\n",
        "#@markdown **This week's material**\n",
        "\n",
        "#@markdown How difficult did you find each of the following this week?\n",
        "lecture_difficulty = 'Some bits were hard but overall it was doable' #@param ['No opinion', \"Too easy', 'Easy', 'About right', 'Some bits were hard but overall it was doable', 'Too difficult', 'Impossible']\n",
        "\n",
        "tutorial_questions_difficulty = 'Some bits were hard but overall it was doable' #@param ['No opinion', \"Too easy', 'Easy', 'About right', 'Some bits were hard but overall it was doable', 'Too difficult', 'Impossible']\n",
        "\n",
        "#@markdown Use the line below to enter any comments &mdash; what you liked, what you did not like. Again all feedback is welcome.\n",
        "general_comment = \"-\" #@param {type: \"string\"}"
      ]
    }
  ],
  "metadata": {
    "colab": {
      "provenance": []
    },
    "kernelspec": {
      "display_name": "Python 3",
      "language": "python",
      "name": "python3"
    },
    "language_info": {
      "codemirror_mode": {
        "name": "ipython",
        "version": 3
      },
      "file_extension": ".py",
      "mimetype": "text/x-python",
      "name": "python",
      "nbconvert_exporter": "python",
      "pygments_lexer": "ipython3",
      "version": "3.9.10"
    },
    "toc": {
      "toc_cell": false,
      "toc_number_sections": true,
      "toc_threshold": 6,
      "toc_window_display": false
    },
    "toc-autonumbering": false
  },
  "nbformat": 4,
  "nbformat_minor": 0
}