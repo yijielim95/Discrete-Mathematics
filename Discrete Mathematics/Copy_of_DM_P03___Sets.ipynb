{
  "cells": [
    {
      "cell_type": "markdown",
      "metadata": {
        "id": "GbC9UdF9Q8b_",
        "label": "title"
      },
      "source": [
        "# Practical 03 - Sets"
      ]
    },
    {
      "cell_type": "markdown",
      "metadata": {
        "id": "_-UuIfogtpi2",
        "label": "setup"
      },
      "source": [
        "## Setup"
      ]
    },
    {
      "cell_type": "code",
      "execution_count": 1,
      "metadata": {
        "cellView": "form",
        "id": "yW3AQAQHt02b"
      },
      "outputs": [],
      "source": [
        "#@markdown **Please enter your following details and press Shift-Enter to save:**\n",
        "your_student_number = '20104720' #@param {type: \"string\"}\n",
        "your_name = 'Yi Jie Lim' #@param {type: \"string\"}"
      ]
    },
    {
      "cell_type": "code",
      "execution_count": 2,
      "metadata": {
        "id": "PMOHc55Ft4xa",
        "colab": {
          "base_uri": "https://localhost:8080/",
          "height": 34
        },
        "outputId": "3d441b6f-4596-4b84-c3b4-181a7c2f753e"
      },
      "outputs": [
        {
          "output_type": "execute_result",
          "data": {
            "text/plain": [
              "<IPython.core.display.HTML object>"
            ],
            "text/html": [
              "<style>\n",
              "\n",
              "\n",
              "\n",
              "/* counting headers and my styling */\n",
              "\n",
              ".navbar-collapse.collapse {\n",
              "display: block!important;\n",
              "}\n",
              "\n",
              ".navbar-nav>li, .navbar-nav {\n",
              "float: left !important;\n",
              "}\n",
              "\n",
              ".navbar-nav.navbar-right:last-child {\n",
              "margin-right: -15px !important;\n",
              "}\n",
              "\n",
              ".navbar-right {\n",
              "float: right!important;\n",
              "}\n",
              "\n",
              "#notebook_name {\n",
              "    font-weight: 600;\n",
              "}\n",
              "\n",
              "h1 {\n",
              "\ttext-align: center;\n",
              "\tbackground-color: rgba(0,255,1,0.15);\n",
              "\tborder-bottom: 1px solid #cccccc;\n",
              "\tcounter-reset: h2counter;\t\n",
              "}\n",
              "\n",
              "h2 {\n",
              "\ttext-align: center;\n",
              "\twidth: 75%;\n",
              "\tmargin-left: 25%;\n",
              "\tbackground-color: rgba(255,255,1,0.15);\n",
              "\tborder-bottom: 1px solid #cccccc;\n",
              "\tcounter-reset: h3counter;\t\n",
              "}\n",
              "h2:before {\n",
              "\tcounter-increment: h2counter;\n",
              "}\n",
              "\n",
              "h3 {\n",
              "\tborder-bottom: 1px solid #cccccc;\t\n",
              "}\n",
              "h3:before {\n",
              "\tcounter-increment: h3counter;\n",
              "}\n",
              "\n",
              "h4 {\n",
              "\tborder-bottom: 1px solid #cccccc;\t\n",
              "}\n",
              "h4:before {\n",
              "\tcounter-increment: h4counter;\n",
              "}\n",
              " </style>Python practical setup tools version 23.2. See <a target=\"_blank\" href=\"https://setu-discretemathematics.github.io/live/00-Module_Introduction/33-Python_Practicals\">https://setu-discretemathematics.github.io/live/00-Module_Introduction/33-Python_Practicals</a>"
            ]
          },
          "metadata": {},
          "execution_count": 2
        }
      ],
      "source": [
        "# setup magic, do not edit this cell! Just press Shift+Enter or click on arrow at top-left\n",
        "\n",
        "import urllib.request\n",
        "content = urllib.request.urlretrieve (\"https://setu-discretemathematics.github.io/live/files/setup_practical_magic.py\")\n",
        "exec(open(content[0]).read())\n",
        "setup_practical(locals(),_ih)"
      ]
    },
    {
      "cell_type": "markdown",
      "metadata": {
        "id": "oK5ZteDstpi3",
        "label": "Introduction"
      },
      "source": [
        "---\n",
        "## Introduction\n",
        "\n",
        "In this practical we will\n",
        "\n",
        "  * Demonstrate the Python implementation of sets\n",
        "  * Builder notation in Python"
      ]
    },
    {
      "cell_type": "markdown",
      "metadata": {
        "id": "G8GHkwbDQ8cO"
      },
      "source": [
        "### Mathematics Concepts\n",
        "\n",
        " * Sets, definition and membership  \\\\(\\in\\\\) vs \\\\(\\notin\\\\)\n",
        " * Builder notation\n"
      ]
    },
    {
      "cell_type": "markdown",
      "metadata": {
        "id": "bHJ_wW9gQ8cP"
      },
      "source": [
        "### Python Concepts\n",
        "\n",
        " * Create an empty set: `set()`\n",
        " * Define a set by listing its elements.\n",
        " * Check for membership, using `in` operator.\n",
        " * Generating a sequence using `range`"
      ]
    },
    {
      "cell_type": "markdown",
      "metadata": {
        "id": "EOvqtEKFQ8cQ"
      },
      "source": [
        "---\n",
        "\n",
        "## Defining Sets and Membership\n",
        "\n",
        "Define an empty set using  \n",
        "\n",
        "~~~python\n",
        "A = set()\n",
        "~~~\n",
        "\n",
        "Then add element `3` to the set using\n",
        "\n",
        "~~~python\n",
        "A.add(3)\n",
        "~~~\n",
        "\n",
        "and check for membership using `in` as\n",
        "\n",
        "~~~python\n",
        "4 in A\n",
        "~~~\n",
        "\n",
        "to print the set use\n",
        "\n",
        "~~~python\n",
        "print(A)\n",
        "~~~\n",
        "\n",
        "**Notes:**\n",
        "\n",
        " * To cut down on unwanted output, the output of all commands (except for the last command) and all assignment commands are not shown. So, if you want to see more output you should use the `print` command. Also rather than just using\n",
        "\n",
        "~~~python\n",
        "print(A)\n",
        "~~~\n",
        "\n",
        "   consider making your print statements more informative by including extra information such as\n",
        "  \n",
        "~~~python\n",
        "print(\"A = \", A)\n",
        "~~~  \n",
        "\n",
        " * We are using uppercase letters for our sets &mdash; this is the usual convention in Mathematics for sets. Note: your programming lecturers have hopefully talked to you about naming conventions (in Processing/Java) and would use lowercase letters here. The default naming convention in Processing/Java is great but as a programmer you should know when to break from it  (see [Hungarian Wars](https://blog.codinghorror.com/hungarian-wars/))."
      ]
    },
    {
      "cell_type": "markdown",
      "metadata": {
        "id": "Kc7nPuEwQ8cQ"
      },
      "source": [
        "### Example 1\n",
        "\n",
        "Write code to\n",
        "\n",
        " * create a empty set,\n",
        " * output the set,\n",
        " * add the numbers 1, 4 and 5 to it,\n",
        " * output the set,\n",
        " * check if 2 is a member of the set."
      ]
    },
    {
      "cell_type": "code",
      "execution_count": 3,
      "metadata": {
        "id": "5_SteEfFQ8cR",
        "colab": {
          "base_uri": "https://localhost:8080/"
        },
        "outputId": "4e9b70a7-e21e-446c-8006-0e30e67efe68"
      },
      "outputs": [
        {
          "output_type": "stream",
          "name": "stdout",
          "text": [
            "A = set()\n",
            "A = {1, 4, 5}\n"
          ]
        },
        {
          "output_type": "execute_result",
          "data": {
            "text/plain": [
              "False"
            ]
          },
          "metadata": {},
          "execution_count": 3
        }
      ],
      "source": [
        "A = set()\n",
        "print(\"A =\", A)\n",
        "A.add(1)\n",
        "A.add(4)\n",
        "A.add(5)\n",
        "print(\"A =\", A)\n",
        "2 in A"
      ]
    },
    {
      "cell_type": "markdown",
      "metadata": {
        "id": "7NugzJfnQ8cU"
      },
      "source": [
        "### Question 1\n",
        "\n",
        "Write code to\n",
        "\n",
        " * create a empty set, called `C`,\n",
        " * Add the letters 'a', 'b' and 'g' to it,\n",
        " * Display/print the set with a label,\n",
        " * Check if 'g' is a member of the set.\n",
        "\n",
        "**Note:** Characters must be within quotes &mdash; use `'g'` or `\"g\"` and not `g`"
      ]
    },
    {
      "cell_type": "code",
      "execution_count": 4,
      "metadata": {
        "id": "Q-LvUtwYQ8cU",
        "label": "Q1",
        "tags": [
          "Q1"
        ],
        "colab": {
          "base_uri": "https://localhost:8080/"
        },
        "outputId": "476ef2d6-635a-462f-a641-ab125e751928"
      },
      "outputs": [
        {
          "output_type": "stream",
          "name": "stdout",
          "text": [
            "C = set()\n",
            "C = {'b', 'a', 'g'}\n"
          ]
        },
        {
          "output_type": "execute_result",
          "data": {
            "text/plain": [
              "True"
            ]
          },
          "metadata": {},
          "execution_count": 4
        }
      ],
      "source": [
        "# Question 1\n",
        "C = set()\n",
        "print(\"C =\", C)\n",
        "C.add(\"a\")\n",
        "C.add(\"b\")\n",
        "C.add(\"g\")\n",
        "print(\"C =\", C)\n",
        "\"g\" in C\n"
      ]
    },
    {
      "cell_type": "markdown",
      "metadata": {
        "id": "7T0_TvsqQ8cX"
      },
      "source": [
        "### Question 2\n",
        "\n",
        "Write code to\n",
        "\n",
        " * Create a set, called `P`, containing the primes less than 50.\n",
        " * Determine how many primes are less than 50 using the `len` function."
      ]
    },
    {
      "cell_type": "code",
      "execution_count": 5,
      "metadata": {
        "id": "ZaCWhXI9Q8cY",
        "label": "Q2",
        "tags": [
          "Q2"
        ],
        "colab": {
          "base_uri": "https://localhost:8080/"
        },
        "outputId": "d51c93aa-089d-4673-b720-e256491f04bf"
      },
      "outputs": [
        {
          "output_type": "stream",
          "name": "stdout",
          "text": [
            "P= set()\n",
            "Primes Numbers are less than 50= 15\n"
          ]
        }
      ],
      "source": [
        "# Question 2\n",
        "P = set()\n",
        "print(\"P=\", P)\n",
        "P = {2,3,5,7,11,13,17,19,23,29,31,37,41,43,47}\n",
        "print(\"Primes Numbers are less than 50=\", len(P))\n",
        "\n"
      ]
    },
    {
      "cell_type": "markdown",
      "metadata": {
        "id": "IVnDfN72Q8cb",
        "label": "Q1"
      },
      "source": [
        "---\n",
        "## Generating Larger Sets using Range Function\n",
        "\n",
        "The listing of individual elements that we did above is painful.  It would make life easier if we have a simple function to generate sequences of numbers satisfying a pattern.  The Python function `range` does exactly that &mdash; all we need do is convert the sequence to a set using `set` function. For example\n",
        "\n",
        "Set containing integers from 0 to 10, including 0 and excluding 10.\n",
        "\n",
        "~~~python\n",
        "set(range(10))             # -> {0, 1, 2, 3, 4, 5, 6, 7, 8, 9}\n",
        "~~~\n",
        "\n",
        "Set containing integers from 3 to 10, including 3 and excluding 10.\n",
        "\n",
        "~~~python\n",
        "set(range(3,10))           # -> {3, 4, 5, 6, 7, 8, 9}\n",
        "~~~    \n",
        "\n",
        "Set containing integers from 3 to 10, including 3 and excluding 10, in steps of 2.\n",
        "\n",
        "~~~python\n",
        "set(range(3,10,2))         # -> {3, 5, 7, 9}\n",
        "~~~    "
      ]
    },
    {
      "cell_type": "markdown",
      "metadata": {
        "id": "5euvhQ80Q8cf"
      },
      "source": [
        "### Question 3\n",
        "\n",
        "Write code to generate and display the set, `D`, the set of all odd positive integers less than 10"
      ]
    },
    {
      "cell_type": "code",
      "execution_count": 6,
      "metadata": {
        "id": "XMI6qMjaQ8cf",
        "label": "Q3",
        "tags": [
          "Q3"
        ],
        "colab": {
          "base_uri": "https://localhost:8080/"
        },
        "outputId": "2f314fb5-4f82-48d2-8654-bebcad9bfb3c"
      },
      "outputs": [
        {
          "output_type": "stream",
          "name": "stdout",
          "text": [
            "D= {0, 1, 2, 3, 4, 5, 6, 7, 8, 9}\n"
          ]
        }
      ],
      "source": [
        "# Question 3\n",
        "D = set(range(0,10))\n",
        "print(\"D=\" ,D)"
      ]
    },
    {
      "cell_type": "markdown",
      "metadata": {
        "id": "3Jm87NtbQ8ci"
      },
      "source": [
        "### Question 4\n",
        "\n",
        "Write code to generate and display the set, `E`, a set of multiples of 17 between 0 and 1000 inclusive, and determine how many elements in the set."
      ]
    },
    {
      "cell_type": "code",
      "execution_count": 7,
      "metadata": {
        "id": "qeL8kmc4Q8cj",
        "label": "Q4",
        "tags": [
          "Q4"
        ],
        "colab": {
          "base_uri": "https://localhost:8080/"
        },
        "outputId": "8a4345d6-0845-404c-fb6f-97e4eedda4f4"
      },
      "outputs": [
        {
          "output_type": "stream",
          "name": "stdout",
          "text": [
            "E= {0, 901, 646, 391, 136, 782, 527, 272, 17, 918, 663, 408, 153, 799, 544, 289, 34, 935, 680, 425, 170, 816, 561, 306, 51, 952, 697, 442, 187, 833, 578, 323, 68, 969, 714, 459, 204, 850, 595, 340, 85, 986, 731, 476, 221, 867, 612, 357, 102, 748, 493, 238, 884, 629, 374, 119, 765, 510, 255}\n"
          ]
        }
      ],
      "source": [
        "# Question 4\n",
        "E = set(range(0,1000,17))\n",
        "print(\"E=\", E)"
      ]
    },
    {
      "cell_type": "markdown",
      "metadata": {
        "id": "VmP8JAksQ8cl"
      },
      "source": [
        "---\n",
        "## Generating Sets using Builder Notation\n",
        "\n",
        "We covered the builder notation in class\n",
        "$$\n",
        "    A = \\{\\text{pattern} \\mid \\text{rule} \\}\n",
        "$$\n",
        "For example the set of positive odd numbers less than 100 was\n",
        "$$\n",
        "    A = \\{x \\mid x=2k+1, 0<x<100, k\\in \\mathbb{N} \\}\n",
        "$$\n",
        "which is same as\n",
        "$$\n",
        "    A = \\{2k+1 \\mid 0\\le k<49, k\\in \\mathbb{N} \\}\n",
        "$$\n",
        "\n",
        "In python we implement this using\n",
        "\n",
        "~~~python\n",
        "set(2*k+1 for k in range(49))\n",
        "~~~\n",
        "or more simply\n",
        "\n",
        "~~~python\n",
        "{2*k+1 for k in range(49)}\n",
        "~~~\n",
        "\n",
        "Alternatively we can use `step=2` in `range` command\n",
        "\n",
        "~~~python\n",
        "{k for k in range(1,100,2)}\n",
        "~~~\n",
        "\n",
        "Alternatively we can filter out the even numbers using an `if` clause\n",
        "\n",
        "\n",
        "~~~python\n",
        "{k for k in range(1,100) if k%2==1}\n",
        "~~~\n",
        "\n",
        "Note here `k%2` gives the remainder of dividing `k` by `2`."
      ]
    },
    {
      "cell_type": "markdown",
      "metadata": {
        "id": "kPO3bcFTQ8cl"
      },
      "source": [
        "### Question 5\n",
        "\n",
        "Write code to generate and display the set, `F`, a set of positive integers less than 1000 that are multiples of 3. Also output the number of elements in the set."
      ]
    },
    {
      "cell_type": "code",
      "execution_count": 8,
      "metadata": {
        "id": "b5h8jp6IQ8cl",
        "label": "Q5",
        "tags": [
          "Q5"
        ],
        "colab": {
          "base_uri": "https://localhost:8080/"
        },
        "outputId": "58b43760-20c0-4d9e-f801-138d73f0ba99"
      },
      "outputs": [
        {
          "output_type": "stream",
          "name": "stdout",
          "text": [
            "F= {3, 6, 9, 12, 15, 18, 21, 24, 27, 30, 33, 36, 39, 42, 45, 48, 51, 54, 57, 60, 63, 66, 69, 72, 75, 78, 81, 84, 87, 90, 93, 96, 99, 102, 105, 108, 111, 114, 117, 120, 123, 126, 129, 132, 135, 138, 141, 144, 147, 150, 153, 156, 159, 162, 165, 168, 171, 174, 177, 180, 183, 186, 189, 192, 195, 198, 201, 204, 207, 210, 213, 216, 219, 222, 225, 228, 231, 234, 237, 240, 243, 246, 249, 252, 255, 258, 261, 264, 267, 270, 273, 276, 279, 282, 285, 288, 291, 294, 297, 300, 303, 306, 309, 312, 315, 318, 321, 324, 327, 330, 333, 336, 339, 342, 345, 348, 351, 354, 357, 360, 363, 366, 369, 372, 375, 378, 381, 384, 387, 390, 393, 396, 399, 402, 405, 408, 411, 414, 417, 420, 423, 426, 429, 432, 435, 438, 441, 444, 447, 450, 453, 456, 459, 462, 465, 468, 471, 474, 477, 480, 483, 486, 489, 492, 495, 498, 501, 504, 507, 510, 513, 516, 519, 522, 525, 528, 531, 534, 537, 540, 543, 546, 549, 552, 555, 558, 561, 564, 567, 570, 573, 576, 579, 582, 585, 588, 591, 594, 597, 600, 603, 606, 609, 612, 615, 618, 621, 624, 627, 630, 633, 636, 639, 642, 645, 648, 651, 654, 657, 660, 663, 666, 669, 672, 675, 678, 681, 684, 687, 690, 693, 696, 699, 702, 705, 708, 711, 714, 717, 720, 723, 726, 729, 732, 735, 738, 741, 744, 747, 750, 753, 756, 759, 762, 765, 768, 771, 774, 777, 780, 783, 786, 789, 792, 795, 798, 801, 804, 807, 810, 813, 816, 819, 822, 825, 828, 831, 834, 837, 840, 843, 846, 849, 852, 855, 858, 861, 864, 867, 870, 873, 876, 879, 882, 885, 888, 891, 894, 897, 900, 903, 906, 909, 912, 915, 918, 921, 924, 927, 930, 933, 936, 939, 942, 945, 948, 951, 954, 957, 960, 963, 966, 969, 972, 975, 978, 981, 984, 987, 990, 993, 996, 999}\n"
          ]
        }
      ],
      "source": [
        "# Question 5\n",
        "F = set(k for k in range(1,1000) if k%3==0)\n",
        "print(\"F=\", F)"
      ]
    },
    {
      "cell_type": "markdown",
      "metadata": {
        "id": "W1GLmiRgQ8co"
      },
      "source": [
        "### Question 6\n",
        "\n",
        "Write code to generate and display the set, `G`, a set of positive integers less than 1000 that are multiples of 5. Also output the number of elements in the set."
      ]
    },
    {
      "cell_type": "code",
      "execution_count": 9,
      "metadata": {
        "id": "vcRS97p0Q8cp",
        "label": "Q6",
        "tags": [
          "Q6"
        ],
        "colab": {
          "base_uri": "https://localhost:8080/"
        },
        "outputId": "310ec03b-5d17-4321-844f-8ea0026b7f4b"
      },
      "outputs": [
        {
          "output_type": "stream",
          "name": "stdout",
          "text": [
            "G= {515, 5, 520, 10, 525, 15, 530, 20, 535, 25, 540, 30, 545, 35, 550, 40, 555, 45, 560, 50, 565, 55, 570, 60, 575, 65, 580, 70, 585, 75, 590, 80, 595, 85, 600, 90, 605, 95, 610, 100, 615, 105, 620, 110, 625, 115, 630, 120, 635, 125, 640, 130, 645, 135, 650, 140, 655, 145, 660, 150, 665, 155, 670, 160, 675, 165, 680, 170, 685, 175, 690, 180, 695, 185, 700, 190, 705, 195, 710, 200, 715, 205, 720, 210, 725, 215, 730, 220, 735, 225, 740, 230, 745, 235, 750, 240, 755, 245, 760, 250, 765, 255, 770, 260, 775, 265, 780, 270, 785, 275, 790, 280, 795, 285, 800, 290, 805, 295, 810, 300, 815, 305, 820, 310, 825, 315, 830, 320, 835, 325, 840, 330, 845, 335, 850, 340, 855, 345, 860, 350, 865, 355, 870, 360, 875, 365, 880, 370, 885, 375, 890, 380, 895, 385, 900, 390, 905, 395, 910, 400, 915, 405, 920, 410, 925, 415, 930, 420, 935, 425, 940, 430, 945, 435, 950, 440, 955, 445, 960, 450, 965, 455, 970, 460, 975, 465, 980, 470, 985, 475, 990, 480, 995, 485, 490, 495, 500, 505, 510}\n"
          ]
        }
      ],
      "source": [
        "# Question 6\n",
        "G = set(k for k in range(1,1000) if k%5==0)\n",
        "print(\"G=\", G)"
      ]
    },
    {
      "cell_type": "markdown",
      "metadata": {
        "id": "xnF7o6QMQ8cr"
      },
      "source": [
        "### Question 7\n",
        "\n",
        "Write code to generate and display the set, `H`, a set of positive integers less than 1000 that are multiples of 3 or multiples of 5. Also output the number of elements in the set.\n",
        "\n",
        "Hint: Use a filter (as shown above)"
      ]
    },
    {
      "cell_type": "code",
      "execution_count": 10,
      "metadata": {
        "id": "N5Yosx_nQ8cs",
        "label": "Q7",
        "tags": [
          "Q7"
        ],
        "colab": {
          "base_uri": "https://localhost:8080/"
        },
        "outputId": "616f86b8-cc6e-4272-df44-9dde1c5652fb"
      },
      "outputs": [
        {
          "output_type": "stream",
          "name": "stdout",
          "text": [
            "H= {3, 5, 6, 9, 10, 12, 15, 18, 20, 21, 24, 25, 27, 30, 33, 35, 36, 39, 40, 42, 45, 48, 50, 51, 54, 55, 57, 60, 63, 65, 66, 69, 70, 72, 75, 78, 80, 81, 84, 85, 87, 90, 93, 95, 96, 99, 100, 102, 105, 108, 110, 111, 114, 115, 117, 120, 123, 125, 126, 129, 130, 132, 135, 138, 140, 141, 144, 145, 147, 150, 153, 155, 156, 159, 160, 162, 165, 168, 170, 171, 174, 175, 177, 180, 183, 185, 186, 189, 190, 192, 195, 198, 200, 201, 204, 205, 207, 210, 213, 215, 216, 219, 220, 222, 225, 228, 230, 231, 234, 235, 237, 240, 243, 245, 246, 249, 250, 252, 255, 258, 260, 261, 264, 265, 267, 270, 273, 275, 276, 279, 280, 282, 285, 288, 290, 291, 294, 295, 297, 300, 303, 305, 306, 309, 310, 312, 315, 318, 320, 321, 324, 325, 327, 330, 333, 335, 336, 339, 340, 342, 345, 348, 350, 351, 354, 355, 357, 360, 363, 365, 366, 369, 370, 372, 375, 378, 380, 381, 384, 385, 387, 390, 393, 395, 396, 399, 400, 402, 405, 408, 410, 411, 414, 415, 417, 420, 423, 425, 426, 429, 430, 432, 435, 438, 440, 441, 444, 445, 447, 450, 453, 455, 456, 459, 460, 462, 465, 468, 470, 471, 474, 475, 477, 480, 483, 485, 486, 489, 490, 492, 495, 498, 500, 501, 504, 505, 507, 510, 513, 515, 516, 519, 520, 522, 525, 528, 530, 531, 534, 535, 537, 540, 543, 545, 546, 549, 550, 552, 555, 558, 560, 561, 564, 565, 567, 570, 573, 575, 576, 579, 580, 582, 585, 588, 590, 591, 594, 595, 597, 600, 603, 605, 606, 609, 610, 612, 615, 618, 620, 621, 624, 625, 627, 630, 633, 635, 636, 639, 640, 642, 645, 648, 650, 651, 654, 655, 657, 660, 663, 665, 666, 669, 670, 672, 675, 678, 680, 681, 684, 685, 687, 690, 693, 695, 696, 699, 700, 702, 705, 708, 710, 711, 714, 715, 717, 720, 723, 725, 726, 729, 730, 732, 735, 738, 740, 741, 744, 745, 747, 750, 753, 755, 756, 759, 760, 762, 765, 768, 770, 771, 774, 775, 777, 780, 783, 785, 786, 789, 790, 792, 795, 798, 800, 801, 804, 805, 807, 810, 813, 815, 816, 819, 820, 822, 825, 828, 830, 831, 834, 835, 837, 840, 843, 845, 846, 849, 850, 852, 855, 858, 860, 861, 864, 865, 867, 870, 873, 875, 876, 879, 880, 882, 885, 888, 890, 891, 894, 895, 897, 900, 903, 905, 906, 909, 910, 912, 915, 918, 920, 921, 924, 925, 927, 930, 933, 935, 936, 939, 940, 942, 945, 948, 950, 951, 954, 955, 957, 960, 963, 965, 966, 969, 970, 972, 975, 978, 980, 981, 984, 985, 987, 990, 993, 995, 996, 999}\n"
          ]
        }
      ],
      "source": [
        "# Question 7\n",
        "H = set(k for k in range(1,1000) if k%5==0 or k%3==0)\n",
        "print(\"H=\", H)\n"
      ]
    },
    {
      "cell_type": "markdown",
      "metadata": {
        "id": "CCHysYiYuEhY"
      },
      "source": [
        "---\n",
        "## Review/Feedback (P03)"
      ]
    },
    {
      "cell_type": "code",
      "execution_count": 11,
      "metadata": {
        "cellView": "form",
        "id": "H7PIHTZVt_ww"
      },
      "outputs": [],
      "source": [
        "#@markdown This a a short questionnaire for you to provide feedback on how you think the semester is progressing and in particular for __Discrete Mathematics__, how easy/difficult, interesting/boring, useful/confusing you find the material. By completing the following you will help us improve our delivery.<br />Please enter your feedback and click on arrow at top-left to save.\n",
        "\n",
        "#@markdown **This practical**\n",
        "\n",
        "#@markdown How difficult did you find this practical?\n",
        "practical_difficulty = 'Too easy' #@param ['No opinion', \"Too easy', 'Easy', 'About right', 'Some bits were hard but overall it was doable', 'Too difficult', 'Impossible']\n",
        "\n",
        "#@markdown Including online session time, how long (in minutes) did it take for you to finish this practical?\n",
        "practical_duration = 10 #@param {type: \"number\"}\n",
        "\n",
        "#@markdown **This week's material**\n",
        "\n",
        "#@markdown How difficult did you find each of the following this week?\n",
        "lecture_difficulty = 'Too easy' #@param ['No opinion', \"Too easy', 'Easy', 'About right', 'Some bits were hard but overall it was doable', 'Too difficult', 'Impossible']\n",
        "\n",
        "tutorial_questions_difficulty = 'Too easy' #@param ['No opinion', \"Too easy', 'Easy', 'About right', 'Some bits were hard but overall it was doable', 'Too difficult', 'Impossible']\n",
        "\n",
        "#@markdown Use the line below to enter any comments &mdash; what you liked, what you did not like. Again all feedback is welcome.\n",
        "general_comment = \"-\" #@param {type: \"string\"}"
      ]
    },
    {
      "cell_type": "code",
      "source": [],
      "metadata": {
        "id": "FlaPX3j6REcV"
      },
      "execution_count": 11,
      "outputs": []
    }
  ],
  "metadata": {
    "colab": {
      "provenance": [],
      "toc_visible": true
    },
    "kernelspec": {
      "display_name": "Python 3",
      "language": "python",
      "name": "python3"
    },
    "language_info": {
      "codemirror_mode": {
        "name": "ipython",
        "version": 3
      },
      "file_extension": ".py",
      "mimetype": "text/x-python",
      "name": "python",
      "nbconvert_exporter": "python",
      "pygments_lexer": "ipython3",
      "version": "3.9.10"
    },
    "toc": {
      "toc_cell": false,
      "toc_number_sections": true,
      "toc_threshold": 6,
      "toc_window_display": false
    }
  },
  "nbformat": 4,
  "nbformat_minor": 0
}