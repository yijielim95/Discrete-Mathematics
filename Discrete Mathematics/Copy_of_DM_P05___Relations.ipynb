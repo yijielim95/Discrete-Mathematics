{
  "cells": [
    {
      "cell_type": "markdown",
      "metadata": {
        "id": "Dajafvz5obcM",
        "label": "title"
      },
      "source": [
        "# Practical 05 - Relations"
      ]
    },
    {
      "cell_type": "markdown",
      "metadata": {
        "id": "dGUHvpDUobcN",
        "label": "setup"
      },
      "source": [
        "## Setup"
      ]
    },
    {
      "cell_type": "code",
      "execution_count": 1,
      "metadata": {
        "cellView": "form",
        "id": "CXsnfskuobcN",
        "label": "bio"
      },
      "outputs": [],
      "source": [
        "#@markdown **Please enter your following details and press Shift-Enter to save:**\n",
        "your_student_number = '20104720' #@param {type: \"string\"}\n",
        "your_name = 'Yi Jie Lim' #@param {type: \"string\"}"
      ]
    },
    {
      "cell_type": "code",
      "execution_count": 2,
      "metadata": {
        "id": "gI-1sOMPobcN",
        "label": "setup",
        "colab": {
          "base_uri": "https://localhost:8080/",
          "height": 34
        },
        "outputId": "8d2092b3-aca0-4b9b-8dc3-09392c715455"
      },
      "outputs": [
        {
          "output_type": "execute_result",
          "data": {
            "text/plain": [
              "<IPython.core.display.HTML object>"
            ],
            "text/html": [
              "<style>\n",
              "\n",
              "\n",
              "\n",
              "/* counting headers and my styling */\n",
              "\n",
              ".navbar-collapse.collapse {\n",
              "display: block!important;\n",
              "}\n",
              "\n",
              ".navbar-nav>li, .navbar-nav {\n",
              "float: left !important;\n",
              "}\n",
              "\n",
              ".navbar-nav.navbar-right:last-child {\n",
              "margin-right: -15px !important;\n",
              "}\n",
              "\n",
              ".navbar-right {\n",
              "float: right!important;\n",
              "}\n",
              "\n",
              "#notebook_name {\n",
              "    font-weight: 600;\n",
              "}\n",
              "\n",
              "h1 {\n",
              "\ttext-align: center;\n",
              "\tbackground-color: rgba(0,255,1,0.15);\n",
              "\tborder-bottom: 1px solid #cccccc;\n",
              "\tcounter-reset: h2counter;\t\n",
              "}\n",
              "\n",
              "h2 {\n",
              "\ttext-align: center;\n",
              "\twidth: 75%;\n",
              "\tmargin-left: 25%;\n",
              "\tbackground-color: rgba(255,255,1,0.15);\n",
              "\tborder-bottom: 1px solid #cccccc;\n",
              "\tcounter-reset: h3counter;\t\n",
              "}\n",
              "h2:before {\n",
              "\tcounter-increment: h2counter;\n",
              "}\n",
              "\n",
              "h3 {\n",
              "\tborder-bottom: 1px solid #cccccc;\t\n",
              "}\n",
              "h3:before {\n",
              "\tcounter-increment: h3counter;\n",
              "}\n",
              "\n",
              "h4 {\n",
              "\tborder-bottom: 1px solid #cccccc;\t\n",
              "}\n",
              "h4:before {\n",
              "\tcounter-increment: h4counter;\n",
              "}\n",
              " </style>Python practical setup tools version 23.2. See <a target=\"_blank\" href=\"https://setu-discretemathematics.github.io/live/00-Module_Introduction/33-Python_Practicals\">https://setu-discretemathematics.github.io/live/00-Module_Introduction/33-Python_Practicals</a>"
            ]
          },
          "metadata": {},
          "execution_count": 2
        }
      ],
      "source": [
        "# setup magic, do not edit this cell! Just press Shift+Enter or click on arrow at top-left\n",
        "\n",
        "import urllib.request\n",
        "content = urllib.request.urlretrieve (\"https://setu-discretemathematics.github.io/live/files/setup_practical_magic.py\")\n",
        "exec(open(content[0]).read())\n",
        "setup_practical(locals(),_ih)"
      ]
    },
    {
      "cell_type": "markdown",
      "metadata": {
        "id": "gIumxI6cobcN",
        "label": "Introduction"
      },
      "source": [
        "---\n",
        "## Introduction\n",
        "\n",
        "In this practical we will construct relations and use python to verify their properties"
      ]
    },
    {
      "cell_type": "markdown",
      "metadata": {
        "id": "33Q2c3APobcN"
      },
      "source": [
        "### Mathematics Concepts\n",
        "\n",
        "**Cartesian product**\n",
        "\n",
        " * The __Cartesian product__ of two sets, $A$ and $B$, is\n",
        "$$A \\times B = \\{ (a,b) \\mid  a\\in A, b\\in B\\}$$\n",
        "or in English, it is the set of pairs of __ordered__ values. \"Ordered\" means that the first value in the pair is from the first set, $A$, and the second value is from the second set $B$.\n",
        "\n",
        " * The __Cartesian product__ of a set, $A$ with itself is\n",
        "$$A \\times A = \\{ (a,b) \\mid a\\in A, b\\in A\\}$$\n",
        "or in English, it is the set of pairs of ordered values, the first value is from set $A$ and the second value is from set $A$.\n",
        "\n",
        "**Relations**\n",
        "\n",
        "  * A __relation__ from set $A$ to set $B$ is a subset of the __Cartesian product__ $A \\times B$.\n",
        "    * Hence we can use the subset property to check if something is a relation or not.\n",
        "    * General expression for a relation from set $A$ to set $B$ is\n",
        "    $$ R = \\{ (a,b) \\mid  a\\in A, b\\in B\\ \\text{with}\\ SOME\\_CONDITION \\} $$\n",
        "  \n",
        "  * Relations on a set have properties such as (check your notes for precise definitions).\n",
        "    * symmetric, reflexive, transitive\n",
        "    * irreflexive, asymmetric, anti-symmetric\n",
        "    \n"
      ]
    },
    {
      "cell_type": "markdown",
      "metadata": {
        "id": "0vNLy3ZBobcO"
      },
      "source": [
        "### Python Concepts\n",
        "\n",
        " * Cartesian product\n",
        " * Relations\n",
        "   * Checking relations using the `issubset` property of sets.\n",
        "   * Checking properties of relations using python programming\n",
        "\n",
        "From earlier practicals:\n",
        "\n",
        " * Set builder notation, check membership using `in` operator.\n",
        " * Using `len` to check for cardinality.\n",
        " * Using sets to check for duplicates &mdash; remember converting a `list` to `set` and results in fewer elements if there are duplicates.\n",
        "\n"
      ]
    },
    {
      "cell_type": "markdown",
      "metadata": {
        "id": "gE6P3C-VobcO"
      },
      "source": [
        "---\n",
        "## Cartesian Product  \n",
        "\n",
        " * The __Cartesian product__ of two sets, `A` and `B`, in python is\n",
        "\n",
        "~~~python\n",
        "    { (a,b) for a in A for b in B }\n",
        "~~~\n",
        "\n",
        " * The __Cartesian product__ of a set, `A` with itself, in python is\n",
        "\n",
        "~~~python\n",
        "    { (a,b) for a in A for b in A }\n",
        "~~~\n",
        "   Note: Just like in the Mathematics version above we needed to use a second symbol (here `b`) to represent the second value in the ordered pair.\n",
        "\n",
        "Finally to output the number of elements in a set (or a relation), `S`, we can use a `print` call.\n",
        "\n",
        "~~~python\n",
        "print(\"Number of elements in S =\", len(S))\n",
        "~~~"
      ]
    },
    {
      "cell_type": "markdown",
      "metadata": {
        "id": "t1PZ9jnUobcO"
      },
      "source": [
        "### Question 1\n",
        "\n",
        "To simply matters later we will start by defining some sets that will be used in subsequent questions.\n",
        "\n",
        "Define the following sets in python, and print them with a label and print out its size. (The first set is done for you.)\n",
        "\n",
        " * Define set `A`, the set of positive integers less than or equal to 20, i.e., $A = \\{1,\\ldots,20\\}$\n",
        " * Define set `P`, the set of prime numbers less than or equal to 20. (there are only 8 so you can just list them)\n",
        " * Define set `V`, the set of lowercase vowels. Remember you need the put characters within quotes in python.\n",
        " * Define set `D`, the set of digits (0 to 9).\n",
        " * Define set `E`, the empty set.\n"
      ]
    },
    {
      "cell_type": "code",
      "execution_count": 72,
      "metadata": {
        "id": "atuZEJKEobcO",
        "label": "Q0",
        "tags": [
          "Q1"
        ],
        "colab": {
          "base_uri": "https://localhost:8080/"
        },
        "outputId": "5b0ab84e-f14c-4940-e3c4-73946123e4c6"
      },
      "outputs": [
        {
          "output_type": "stream",
          "name": "stdout",
          "text": [
            "A = {1, 2, 3, 4, 5, 6, 7, 8, 9, 10, 11, 12, 13, 14, 15, 16, 17, 18, 19, 20} \n",
            "Number of elements = 20\n",
            "P = {2, 3, 5, 7, 11, 13, 17, 19} \n",
            "Number of elements = 8\n",
            "V= {'i', 'o', 'a', 'e', 'u'} \n",
            "Number of elements = 5\n",
            "D= {0, 1, 2, 3, 4, 5, 6, 7, 8, 9} \n",
            "Number of elements = 10\n",
            "E= set() \n",
            "Number of elements = 0\n"
          ]
        }
      ],
      "source": [
        "# Question 1\n",
        "A = set(range(1,21))\n",
        "print(\"A =\", A, \"\\nNumber of elements =\", len(A))\n",
        "\n",
        "P = {2,3,5,7,11,13,17,19}\n",
        "print(\"P =\", P, \"\\nNumber of elements =\", len(P))\n",
        "\n",
        "V = {'a','e','i','o','u'}\n",
        "print(\"V=\", V, \"\\nNumber of elements =\", len(V))\n",
        "\n",
        "D = set(range(0,10))\n",
        "print(\"D=\", D, \"\\nNumber of elements =\", len(D))\n",
        "\n",
        "E = set()\n",
        "print(\"E=\", E, \"\\nNumber of elements =\", len(E))\n",
        "\n"
      ]
    },
    {
      "cell_type": "markdown",
      "metadata": {
        "id": "dRvaBCsLobcO"
      },
      "source": [
        "### Question 2\n",
        "\n",
        "Define set `C` as the Cartesian product of the set `A` and the set `V` (from Question 1).\n",
        "Print out `C` and print out the size of `C`.\n",
        "\n",
        "Notes on answer:\n",
        "\n",
        " * The Cartesian set becomes very large when input sets are large.\n",
        " * The pairs contain ordered values - \"ordered\" is not the same as \"sorted\". Ordered here means that within each pair the first value (a number) comes form the first set, and the second value (a letter) comes from the second set.\n",
        " * The \"pairs contain ordered values\" is different to saying \"the pairs are ordered\". In fact, since a Cartesian product is a set the  order of the pairs is not a concern."
      ]
    },
    {
      "cell_type": "code",
      "execution_count": 73,
      "metadata": {
        "id": "eC0CoL88obcO",
        "tags": [
          "Q2"
        ],
        "colab": {
          "base_uri": "https://localhost:8080/"
        },
        "outputId": "697b8b03-600c-4a22-fad0-3d2d1c350fb2"
      },
      "outputs": [
        {
          "output_type": "stream",
          "name": "stdout",
          "text": [
            "C = {(10, 'i'), (6, 'u'), (12, 'e'), (6, 'o'), (1, 'a'), (10, 'u'), (19, 'o'), (3, 'a'), (14, 'a'), (16, 'i'), (12, 'u'), (16, 'a'), (15, 'e'), (2, 'e'), (12, 'o'), (20, 'a'), (6, 'i'), (4, 'e'), (9, 'a'), (8, 'e'), (19, 'e'), (8, 'i'), (19, 'i'), (2, 'u'), (5, 'e'), (15, 'o'), (2, 'o'), (10, 'a'), (4, 'u'), (12, 'i'), (8, 'u'), (19, 'u'), (4, 'o'), (12, 'a'), (8, 'o'), (11, 'e'), (5, 'o'), (15, 'i'), (2, 'i'), (17, 'e'), (2, 'a'), (1, 'e'), (4, 'i'), (6, 'a'), (11, 'u'), (15, 'u'), (11, 'o'), (8, 'a'), (19, 'a'), (17, 'u'), (5, 'i'), (1, 'u'), (20, 'e'), (7, 'e'), (18, 'e'), (17, 'o'), (18, 'i'), (1, 'o'), (9, 'e'), (5, 'u'), (13, 'e'), (14, 'o'), (13, 'i'), (11, 'i'), (7, 'u'), (18, 'u'), (11, 'a'), (10, 'e'), (20, 'o'), (7, 'o'), (18, 'o'), (15, 'a'), (9, 'u'), (17, 'i'), (13, 'u'), (1, 'i'), (9, 'o'), (17, 'a'), (4, 'a'), (3, 'e'), (14, 'e'), (13, 'o'), (3, 'i'), (14, 'i'), (16, 'e'), (10, 'o'), (5, 'a'), (20, 'i'), (7, 'i'), (3, 'u'), (14, 'u'), (7, 'a'), (18, 'a'), (6, 'e'), (9, 'i'), (3, 'o'), (16, 'u'), (20, 'u'), (16, 'o'), (13, 'a')} \n",
            "Number of elements = 100\n"
          ]
        }
      ],
      "source": [
        "# Question 2\n",
        "C = {(a,v) for a in A for v in V}\n",
        "print(\"C =\", C, \"\\nNumber of elements =\", len(C))\n"
      ]
    },
    {
      "cell_type": "markdown",
      "metadata": {
        "id": "5shfOgLsobcO",
        "tags": []
      },
      "source": [
        "### Question 3 (Cartesian product with empty sets)\n",
        "\n",
        "For each of the following, write python to generate the Cartesian product, print out the resulting set and its number of elements.\n",
        "\n",
        " * $C = A \\times E$\n",
        " * $C = E \\times A$\n",
        " * $C = E \\times E$"
      ]
    },
    {
      "cell_type": "code",
      "execution_count": 74,
      "metadata": {
        "id": "zaGBqPjPobcO",
        "tags": [
          "Q3"
        ],
        "colab": {
          "base_uri": "https://localhost:8080/"
        },
        "outputId": "4b088991-a1c3-4166-9387-1fb2fbe8c037"
      },
      "outputs": [
        {
          "output_type": "stream",
          "name": "stdout",
          "text": [
            "C = set() \n",
            "Number of elements = 0\n",
            "C = set() \n",
            "Number of elements = 0\n",
            "C = set() \n",
            "Number of elements = 0\n"
          ]
        }
      ],
      "source": [
        "# Question 3\n",
        "C = {(a,e) for a in A for e in E}\n",
        "print(\"C =\", C, \"\\nNumber of elements =\", len(C))\n",
        "\n",
        "C = {(e,a) for e in E for a in A}\n",
        "print(\"C =\", C, \"\\nNumber of elements =\", len(C))\n",
        "\n",
        "C = {(e,e) for e in E for e in E}\n",
        "print(\"C =\", C, \"\\nNumber of elements =\", len(C))"
      ]
    },
    {
      "cell_type": "markdown",
      "metadata": {
        "id": "HL31e30KobcO"
      },
      "source": [
        "---\n",
        "## Relations\n",
        "\n",
        " * A __Relation__ from set `A` to set `B`, in python can be written as\n",
        "\n",
        "~~~python\n",
        "    R = { (a, b) for a in A for b in B if CONDITION }\n",
        "~~~\n",
        "\n",
        "where\n",
        "\n",
        " * `CONDITION` can be any boolean expression involving `a` and `b`. Or can be dropped entirely.\n",
        "     \n",
        "\n",
        " * A __Relation__ on set `A` in python can be written as\n",
        "\n",
        "~~~python\n",
        "    R = { (a, b) for a in A for b in A if CONDITION }\n",
        "~~~\n",
        "\n",
        " * Again, note the different symbol for the elements from the second set.\n"
      ]
    },
    {
      "cell_type": "markdown",
      "metadata": {
        "id": "miGSbNwvobcO"
      },
      "source": [
        "### Example\n",
        "\n",
        "Consider, $R$, the relation _\"has the same remainder when divided by 5\"_ on the set D (defined in Question 1).  \n",
        "\n",
        " * Implement this relation in python.\n",
        " * Print the relation and its number of elements (pairs).\n",
        " * Verify that $R$ is a subset of $D\\times D$, but is not a subset of $A\\times A$ (defined in Question 1)."
      ]
    },
    {
      "cell_type": "code",
      "execution_count": 75,
      "metadata": {
        "id": "1hgcwI-xobcO"
      },
      "outputs": [],
      "source": [
        "# Implement this relation in python\n",
        "\n",
        "R = { (a,b) for a in D for b in D if a%5==b%5}"
      ]
    },
    {
      "cell_type": "code",
      "execution_count": 76,
      "metadata": {
        "id": "W4s5pckBobcP",
        "colab": {
          "base_uri": "https://localhost:8080/"
        },
        "outputId": "59204ec8-b078-4df5-9a1e-a5a952488495"
      },
      "outputs": [
        {
          "output_type": "stream",
          "name": "stdout",
          "text": [
            "R = {(4, 9), (8, 3), (0, 5), (2, 2), (1, 6), (7, 7), (3, 3), (5, 0), (9, 4), (8, 8), (2, 7), (6, 1), (4, 4), (3, 8), (5, 5), (0, 0), (9, 9), (1, 1), (7, 2), (6, 6)} \n",
            "Number of elements = 20\n"
          ]
        }
      ],
      "source": [
        "# Print the relation and its number of elements (pairs)\n",
        "\n",
        "print(\"R =\", R, \"\\nNumber of elements =\", len(R))"
      ]
    },
    {
      "cell_type": "code",
      "execution_count": 77,
      "metadata": {
        "id": "jEqk-RYyobcP",
        "colab": {
          "base_uri": "https://localhost:8080/"
        },
        "outputId": "e0fe424b-bafc-4994-dc67-2c34de8a772c"
      },
      "outputs": [
        {
          "output_type": "stream",
          "name": "stdout",
          "text": [
            "Is R a subset of DxD? True\n"
          ]
        }
      ],
      "source": [
        "# Verify that 𝑅 is a subset of DxD\n",
        "\n",
        "DxD = { (a,b) for a in D for b in D }\n",
        "print(\"Is R a subset of DxD?\", R.issubset(DxD) )"
      ]
    },
    {
      "cell_type": "code",
      "execution_count": 78,
      "metadata": {
        "id": "09WJfLV6obcP",
        "colab": {
          "base_uri": "https://localhost:8080/"
        },
        "outputId": "2c9889a5-5bd0-48cb-fd44-77617aa5acbf"
      },
      "outputs": [
        {
          "output_type": "stream",
          "name": "stdout",
          "text": [
            "Is R a subset of AxA? False\n",
            "R is not a subset of AxA because R contains the following pairs (which are not in AxA) {(5, 0), (0, 5), (0, 0)}\n"
          ]
        }
      ],
      "source": [
        "# Verify that 𝑅 is not a subset of AxA\n",
        "\n",
        "AxA = { (a,b) for a in A for b in A }\n",
        "print(\"Is R a subset of AxA?\", R.issubset(AxA) )\n",
        "\n",
        "# (for extra points) Why is R not a subset of AxA? What pairs are \"causing the problem?\"\n",
        "\n",
        "# To answer this we build a set of pairs NOT in AxA\n",
        "\n",
        "pairs = { pair for pair in R if pair not in AxA }\n",
        "\n",
        "print(\"R is not a subset of AxA because R contains the following pairs (which are not in AxA)\", pairs)"
      ]
    },
    {
      "cell_type": "markdown",
      "metadata": {
        "id": "e6QRltySobcP"
      },
      "source": [
        "### Question 4\n",
        "\n",
        "Consider R, a relation from $A$ to $D$ (both defined in Question 1) defined by\n",
        "\n",
        "$$ R = \\{(a,d) \\mid a \\in A, d \\in D, \\text{where}\\  a>d  \\} $$\n",
        "\n",
        " * Implement $R$ in python\n",
        " * Print out $R$ and its number of elements.\n",
        " * Verify that $R$ is a subset of $A\\times D$, but $R$ is not a subset of $D\\times A$."
      ]
    },
    {
      "cell_type": "code",
      "execution_count": 79,
      "metadata": {
        "id": "_LP5fsMxobcP",
        "tags": [
          "Q4"
        ],
        "colab": {
          "base_uri": "https://localhost:8080/"
        },
        "outputId": "8100cede-44cd-46ec-dacd-223bba166b50"
      },
      "outputs": [
        {
          "output_type": "stream",
          "name": "stdout",
          "text": [
            "R= {(12, 4), (4, 0), (5, 1), (8, 0), (17, 3), (19, 0), (19, 9), (10, 6), (9, 8), (11, 5), (13, 8), (15, 5), (6, 2), (7, 1), (18, 1), (4, 2), (5, 3), (8, 2), (17, 5), (9, 1), (19, 2), (11, 7), (13, 1), (15, 7), (6, 4), (16, 6), (7, 3), (18, 3), (14, 8), (17, 7), (8, 4), (19, 4), (9, 3), (11, 0), (11, 9), (13, 3), (15, 0), (15, 9), (16, 8), (7, 5), (18, 5), (20, 8), (3, 1), (14, 1), (17, 0), (17, 9), (19, 6), (9, 5), (11, 2), (13, 5), (15, 2), (16, 1), (18, 7), (20, 1), (12, 6), (14, 3), (5, 0), (17, 2), (9, 7), (11, 4), (10, 8), (13, 7), (15, 4), (6, 1), (16, 3), (7, 0), (18, 0), (18, 9), (20, 3), (12, 8), (14, 5), (5, 2), (17, 4), (9, 0), (10, 1), (13, 0), (13, 9), (15, 6), (16, 5), (7, 2), (18, 2), (20, 5), (12, 1), (14, 7), (5, 4), (9, 2), (8, 6), (10, 3), (1, 0), (13, 2), (16, 7), (7, 4), (18, 4), (20, 7), (12, 3), (3, 0), (14, 0), (14, 9), (19, 8), (10, 5), (13, 4), (2, 1), (16, 0), (16, 9), (20, 0), (20, 9), (12, 5), (3, 2), (14, 2), (4, 1), (8, 1), (19, 1), (10, 7), (11, 6), (16, 2), (6, 3), (20, 2), (12, 7), (14, 4), (4, 3), (17, 6), (8, 3), (10, 0), (19, 3), (10, 9), (11, 8), (16, 4), (15, 8), (6, 5), (20, 4), (12, 0), (12, 9), (14, 6), (17, 8), (8, 5), (10, 2), (9, 4), (11, 1), (19, 5), (15, 1), (20, 6), (7, 6), (18, 6), (12, 2), (17, 1), (8, 7), (10, 4), (9, 6), (11, 3), (2, 0), (19, 7), (13, 6), (15, 3), (6, 0), (18, 8)} \n",
            "Number of elements 155\n",
            "Is R a subset of A x D? True\n",
            "Is R a subset of D x A? False\n"
          ]
        }
      ],
      "source": [
        "# Question 4\n",
        "R = {(a,d) for a in A for d in D if a > d}\n",
        "print(\"R=\", R, \"\\nNumber of elements\", len(R))\n",
        "\n",
        "AxD = {(a,d) for a in A for d in D}\n",
        "print(\"Is R a subset of A x D?\",R.issubset(AxD))\n",
        "\n",
        "DxA = {(d,a) for d in D for a in A}\n",
        "print(\"Is R a subset of D x A?\", R.issubset(DxA))"
      ]
    },
    {
      "cell_type": "markdown",
      "metadata": {
        "id": "Tr_oJPG9obcP"
      },
      "source": [
        "### Question 5\n",
        "\n",
        "Consider, $R$, the relation _\"comes before it in the alphabet\"_ on $V$, the set of vowels (defined in question 1),\n",
        "\n",
        "$$  R = \\{(a,b) \\mid a \\in V, b \\in V \\text{ where } a<b \\} $$\n",
        "\n",
        " * Implement this relation in python. Note operator `<` works with letters (if both are lower (or upper) case)  \n",
        " * Output the relation and its size.\n",
        " * Verify that $R$ is a subset of $V\\times V$."
      ]
    },
    {
      "cell_type": "code",
      "execution_count": 80,
      "metadata": {
        "id": "djFsK-0QobcP",
        "label": "Q2",
        "tags": [
          "Q5"
        ],
        "colab": {
          "base_uri": "https://localhost:8080/"
        },
        "outputId": "983ad25f-d0aa-4c9d-fd85-27822667f8b1"
      },
      "outputs": [
        {
          "output_type": "stream",
          "name": "stdout",
          "text": [
            "R= {('a', 'i'), ('a', 'u'), ('i', 'u'), ('e', 'i'), ('e', 'u'), ('a', 'e'), ('o', 'u'), ('a', 'o'), ('i', 'o'), ('e', 'o')} \n",
            "Number of elements 10\n",
            "Is R a subset of V x V? True\n"
          ]
        }
      ],
      "source": [
        "# Question 5\n",
        "R = {(a,b)for a in V for b in V if a < b}\n",
        "print(\"R=\", R, \"\\nNumber of elements\", len(R))\n",
        "\n",
        "VxV = {(a,b) for a in V for b in V}\n",
        "print(\"Is R a subset of V x V?\", R.issubset(VxV))\n",
        "\n"
      ]
    },
    {
      "cell_type": "markdown",
      "metadata": {
        "id": "CcKA5AcwobcP"
      },
      "source": [
        "---\n",
        "## Properties of Relations (Harder questions)\n",
        "\n",
        "These questions are a little harder as they require you to combine multiple concepts to generate the required result."
      ]
    },
    {
      "cell_type": "markdown",
      "metadata": {
        "id": "DXn0eeARobcP"
      },
      "source": [
        "### Question 6 (reflexive)\n",
        "\n",
        "Consider, $R$, the relation implemented in question 6, i.e.,\n",
        "\n",
        "$$  R = \\{(a,b) \\mid a \\in V, b \\in V \\text{ where } a<b \\} $$\n",
        "\n",
        " * Write code to test whether this relation is reflexive.  \n",
        "\n",
        "\n",
        "Hint: generate a set of pairs of the form $(a,a)$ where $a \\in V$ and check if the generated set is a subset of $R$.\n"
      ]
    },
    {
      "cell_type": "code",
      "execution_count": 81,
      "metadata": {
        "id": "YZKd1CjhobcP",
        "label": "Q3",
        "tags": [
          "Q6"
        ],
        "colab": {
          "base_uri": "https://localhost:8080/"
        },
        "outputId": "36a75f5f-0c97-4b01-a8c6-88c87cd59f15"
      },
      "outputs": [
        {
          "output_type": "stream",
          "name": "stdout",
          "text": [
            "R= {('a', 'i'), ('a', 'u'), ('i', 'u'), ('e', 'i'), ('e', 'u'), ('a', 'e'), ('o', 'u'), ('a', 'o'), ('i', 'o'), ('e', 'o')} \n",
            "Number of element= 10\n",
            "Is this relation reflexive? False\n"
          ]
        }
      ],
      "source": [
        "# Question 6\n",
        "R = {(a,b)for a in V for b in V if a < b}\n",
        "print(\"R=\", R, \"\\nNumber of element=\",len(R))\n",
        "\n",
        "K = {(a,a) for a in V for a in V }\n",
        "print(\"Is this relation reflexive?\",K.issubset(R) )"
      ]
    },
    {
      "cell_type": "markdown",
      "metadata": {
        "id": "GoQkI01-obcQ"
      },
      "source": [
        "### Question 7 (symmetric)\n",
        "\n",
        "Consider, $R$, the relation implemented in question 6, i.e.,\n",
        "\n",
        "$$  R = \\{(a,b) \\mid a \\in V, b \\in V \\text{ where } a<b \\} $$\n",
        "\n",
        "\n",
        " * Write code to test whether this relation is symmetric.\n",
        "\n",
        "Hint: Generate a set of pairs with the order of the elements reversed. Then check that this set is a subset of $R$.\n",
        "\n",
        "To generate a set of pairs with the order of the elements reversed, you could use\n",
        "\n",
        "~~~python\n",
        "   K = { (b,a) for (a,b) in R }\n",
        "~~~\n"
      ]
    },
    {
      "cell_type": "code",
      "execution_count": 82,
      "metadata": {
        "id": "IybXeWvCobcQ",
        "label": "Q3",
        "tags": [
          "Q7"
        ],
        "colab": {
          "base_uri": "https://localhost:8080/"
        },
        "outputId": "22ba4337-97bd-496a-9e0d-16da7e5ede55"
      },
      "outputs": [
        {
          "output_type": "stream",
          "name": "stdout",
          "text": [
            "R= {('a', 'i'), ('a', 'u'), ('i', 'u'), ('e', 'i'), ('e', 'u'), ('a', 'e'), ('o', 'u'), ('a', 'o'), ('i', 'o'), ('e', 'o')} \n",
            "Number of element= 10\n",
            "Is this relation symmetric? False\n"
          ]
        }
      ],
      "source": [
        "# Question 7\n",
        "R = {(a,b)for a in V for b in V if a < b}\n",
        "print(\"R=\", R, \"\\nNumber of element=\",len(R))\n",
        "\n",
        "L = {(b,a) for b in V for a in V}\n",
        "print(\"Is this relation symmetric?\", L==R)"
      ]
    },
    {
      "cell_type": "markdown",
      "metadata": {
        "id": "BMH-XP09obcQ"
      },
      "source": [
        "---\n",
        "## Optional &mdash; Other properties of Relations (Even Harder questions)\n",
        "\n",
        "Due to time constraints we have not covered the transitive property or the irreflexive, asymmetric, and anti-symmetric properties. All of these properties can be implemented in python using code similar to that used in the previous two questions. Feel free to implement\n"
      ]
    },
    {
      "cell_type": "markdown",
      "metadata": {
        "id": "VpdcGge7obcQ"
      },
      "source": [
        "### Question 8 (transitive)\n",
        "\n",
        "Consider, $R$, the relation implemented in question 6, i.e.,\n",
        "\n",
        "$$  R = \\{(a,b) \\mid a \\in V, b \\in V \\text{ where } a<b \\} $$\n",
        "\n",
        "\n",
        " * Write code to test whether this relation is transitive."
      ]
    },
    {
      "cell_type": "code",
      "execution_count": 83,
      "metadata": {
        "id": "uDjwEi8bobcQ",
        "tags": [
          "Q8"
        ],
        "colab": {
          "base_uri": "https://localhost:8080/"
        },
        "outputId": "c1405daa-2d5c-47cf-92a7-51d0f3f426af"
      },
      "outputs": [
        {
          "output_type": "stream",
          "name": "stdout",
          "text": [
            "R= {('a', 'i'), ('a', 'u'), ('i', 'u'), ('e', 'i'), ('e', 'u'), ('a', 'e'), ('o', 'u'), ('a', 'o'), ('i', 'o'), ('e', 'o')} \n",
            "Number of element= 10\n",
            "M= {('u', 'u'), ('e', 'i'), ('i', 'e'), ('u', 'o'), ('e', 'a'), ('i', 'i'), ('o', 'e'), ('e', 'u'), ('a', 'e'), ('o', 'i'), ('e', 'o'), ('i', 'a'), ('a', 'i'), ('i', 'u'), ('o', 'a'), ('u', 'e'), ('o', 'u'), ('a', 'a'), ('i', 'o'), ('u', 'i'), ('a', 'u'), ('o', 'o'), ('u', 'a'), ('e', 'e'), ('a', 'o')} \n",
            "Number of element= 25\n",
            "Is this relation transitive? False\n"
          ]
        }
      ],
      "source": [
        "# Question 8\n",
        "R = {(a,b)for a in V for b in V if a < b}\n",
        "print(\"R=\", R, \"\\nNumber of element=\",len(R))\n",
        "\n",
        "M = {(b,c)for b in V for c in V }\n",
        "print(\"M=\", M, \"\\nNumber of element=\", len(M))\n",
        "\n",
        "N = {(a,c)for a in V for c in V}\n",
        "print(\"Is this relation transitive?\", N==R==M)"
      ]
    },
    {
      "cell_type": "markdown",
      "metadata": {
        "id": "Vm1oxTv-obcQ"
      },
      "source": [
        "### Question 9 (asymmetric)\n",
        "\n",
        "Consider, $R$, the relation implemented in question 6, i.e.,\n",
        "\n",
        "$$  R = \\{(a,b) \\mid a \\in V, b \\in V \\text{ where } a<b \\} $$\n",
        "\n",
        "\n",
        " * Write code to test whether this relation is asymmetric."
      ]
    },
    {
      "cell_type": "code",
      "execution_count": 84,
      "metadata": {
        "id": "LkqImU6YobcQ",
        "tags": [
          "Q9"
        ],
        "colab": {
          "base_uri": "https://localhost:8080/"
        },
        "outputId": "d35305bc-be9b-4527-cc86-8e71d65c4281"
      },
      "outputs": [
        {
          "output_type": "stream",
          "name": "stdout",
          "text": [
            "R= {('a', 'i'), ('a', 'u'), ('i', 'u'), ('e', 'i'), ('e', 'u'), ('a', 'e'), ('o', 'u'), ('a', 'o'), ('i', 'o'), ('e', 'o')} \n",
            "Number of element = 10\n",
            "Is this relation is asymmetric? True\n"
          ]
        }
      ],
      "source": [
        "# Question 9\n",
        "R = {(a,b)for a in V for b in V if a < b}\n",
        "print(\"R=\", R, \"\\nNumber of element =\", len(R))\n",
        "\n",
        "Z = {(b,a)for b in V for a in V}\n",
        "print(\"Is this relation is asymmetric?\", R != Z)"
      ]
    },
    {
      "cell_type": "markdown",
      "metadata": {
        "id": "kW1xTDTnobcQ"
      },
      "source": [
        "### Question 10 (transitive)\n",
        "\n",
        "Consider, $R$, the relation implemented in question 6, i.e.,\n",
        "\n",
        "$$  R = \\{(a,b) \\mid a \\in V, b \\in V \\text{ where } a<b \\} $$\n",
        "\n",
        "\n",
        " * Write code to test whether this relation is transitive."
      ]
    },
    {
      "cell_type": "code",
      "execution_count": 88,
      "metadata": {
        "id": "Cx2fyUwDobcQ",
        "tags": [
          "Q10"
        ],
        "colab": {
          "base_uri": "https://localhost:8080/"
        },
        "outputId": "e3425cae-b9f3-453d-ec43-cf7e992691d6"
      },
      "outputs": [
        {
          "output_type": "stream",
          "name": "stdout",
          "text": [
            "R= {('a', 'i'), ('a', 'u'), ('i', 'u'), ('e', 'i'), ('e', 'u'), ('a', 'e'), ('o', 'u'), ('a', 'o'), ('i', 'o'), ('e', 'o')} \n",
            "Number of element = 10\n",
            "Is this relation irreflexive? False\n"
          ]
        }
      ],
      "source": [
        "# Question 10\n",
        "# I change the question to irreflexive because this question is same as question 8.\n",
        "R = {(a,b)for a in V for b in V if a < b}\n",
        "print(\"R=\", R, \"\\nNumber of element =\", len(R))\n",
        "\n",
        "X = {(b,b)for b in V for b in V}\n",
        "print(\"Is this relation irreflexive?\", X.issubset(R))"
      ]
    },
    {
      "cell_type": "markdown",
      "metadata": {
        "id": "ufMvKIZKobcQ"
      },
      "source": [
        "### Question 11 (anti-symmetric)\n",
        "\n",
        "Consider, $R$, the relation implemented in question 6, i.e.,\n",
        "\n",
        "$$  R = \\{(a,b) \\mid a \\in V, b \\in V \\text{ where } a<b \\} $$\n",
        "\n",
        "\n",
        " * Write code to test whether this relation is anti-symmetric."
      ]
    },
    {
      "cell_type": "code",
      "execution_count": 120,
      "metadata": {
        "id": "s5_vFEnrobcQ",
        "tags": [
          "Q11"
        ],
        "colab": {
          "base_uri": "https://localhost:8080/"
        },
        "outputId": "c446c891-03ed-404f-d7a5-935cbbf727e9"
      },
      "outputs": [
        {
          "output_type": "stream",
          "name": "stdout",
          "text": [
            "R= {('a', 'i'), ('a', 'u'), ('i', 'u'), ('e', 'i'), ('e', 'u'), ('a', 'e'), ('o', 'u'), ('a', 'o'), ('i', 'o'), ('e', 'o')} \n",
            "Number of element = 10\n",
            "W= {('u', 'u'), ('e', 'i'), ('i', 'e'), ('u', 'o'), ('e', 'a'), ('i', 'i'), ('o', 'e'), ('e', 'u'), ('a', 'e'), ('o', 'i'), ('e', 'o'), ('i', 'a'), ('a', 'i'), ('i', 'u'), ('o', 'a'), ('u', 'e'), ('o', 'u'), ('a', 'a'), ('i', 'o'), ('u', 'i'), ('a', 'u'), ('o', 'o'), ('u', 'a'), ('e', 'e'), ('a', 'o')} \n",
            "Number of element = 25\n"
          ]
        }
      ],
      "source": [
        "# Question 11\n",
        "R = {(a,b)for a in V for b in V if a < b}\n",
        "print(\"R=\", R, \"\\nNumber of element =\", len(R))\n",
        "\n",
        "W = {(b,a)for b in V for a in V}\n",
        "print(\"W=\", W, \"\\nNumber of element =\", len(W))\n",
        "\n",
        "# no idea for anti-symmetric"
      ]
    },
    {
      "cell_type": "markdown",
      "metadata": {
        "id": "Fupb7zMXobcQ"
      },
      "source": [
        "---\n",
        "## Review/Feedback (P05)"
      ]
    },
    {
      "cell_type": "code",
      "execution_count": null,
      "metadata": {
        "cellView": "form",
        "id": "2TW5QrGFobcQ"
      },
      "outputs": [],
      "source": [
        "#@markdown This a a short questionnaire for you to provide feedback on how you think the semester is progressing and in particular for __Discrete Mathematics__, how easy/difficult, interesting/boring, useful/confusing you find the material. By completing the following you will help us improve our delivery.<br />Please enter your feedback and click on arrow at top-left to save.\n",
        "\n",
        "#@markdown **This practical**\n",
        "\n",
        "#@markdown How difficult did you find this practical?\n",
        "practical_difficulty = 'No opinion' #@param ['No opinion', \"Too easy', 'Easy', 'About right', 'Some bits were hard but overall it was doable', 'Too difficult', 'Impossible']\n",
        "\n",
        "#@markdown Including online session time, how long (in minutes) did it take for you to finish this practical?\n",
        "practical_duration = 0 #@param {type: \"number\"}\n",
        "\n",
        "#@markdown **This week's material**\n",
        "\n",
        "#@markdown How difficult did you find each of the following this week?\n",
        "lecture_difficulty = 'No opinion' #@param ['No opinion', \"Too easy', 'Easy', 'About right', 'Some bits were hard but overall it was doable', 'Too difficult', 'Impossible']\n",
        "\n",
        "tutorial_questions_difficulty = 'No opinion' #@param ['No opinion', \"Too easy', 'Easy', 'About right', 'Some bits were hard but overall it was doable', 'Too difficult', 'Impossible']\n",
        "\n",
        "#@markdown Use the line below to enter any comments &mdash; what you liked, what you did not like. Again all feedback is welcome.\n",
        "general_comment = \"\" #@param {type: \"string\"}"
      ]
    }
  ],
  "metadata": {
    "colab": {
      "provenance": []
    },
    "kernelspec": {
      "display_name": "Python 3",
      "language": "python",
      "name": "python3"
    },
    "language_info": {
      "codemirror_mode": {
        "name": "ipython",
        "version": 3
      },
      "file_extension": ".py",
      "mimetype": "text/x-python",
      "name": "python",
      "nbconvert_exporter": "python",
      "pygments_lexer": "ipython3",
      "version": "3.10.11"
    },
    "toc": {
      "toc_cell": false,
      "toc_number_sections": true,
      "toc_threshold": 6,
      "toc_window_display": false
    },
    "toc-autonumbering": false
  },
  "nbformat": 4,
  "nbformat_minor": 0
}