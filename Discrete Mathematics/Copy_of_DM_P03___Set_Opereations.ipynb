{
  "cells": [
    {
      "cell_type": "markdown",
      "metadata": {
        "id": "6jbA4MqoBNFx"
      },
      "source": [
        "# Practical 04 - Set Operations"
      ]
    },
    {
      "cell_type": "markdown",
      "metadata": {
        "id": "Z9QdrCBaBNF1"
      },
      "source": [
        "## Setup"
      ]
    },
    {
      "cell_type": "code",
      "execution_count": 91,
      "metadata": {
        "cellView": "form",
        "id": "OuYTVHm3BNF1"
      },
      "outputs": [],
      "source": [
        "#@markdown **Please enter your following details and press Shift-Enter to save:**\n",
        "your_student_number = '20104720' #@param {type: \"string\"}\n",
        "your_name = 'Yi Jie Lim' #@param {type: \"string\"}"
      ]
    },
    {
      "cell_type": "code",
      "execution_count": 92,
      "metadata": {
        "colab": {
          "base_uri": "https://localhost:8080/",
          "height": 34
        },
        "id": "AeNio9YlBNF2",
        "outputId": "b1ac1ccf-296b-4846-8586-8ac11ba40c4a"
      },
      "outputs": [
        {
          "output_type": "execute_result",
          "data": {
            "text/plain": [
              "<IPython.core.display.HTML object>"
            ],
            "text/html": [
              "<style>\n",
              "\n",
              "\n",
              "\n",
              "/* counting headers and my styling */\n",
              "\n",
              ".navbar-collapse.collapse {\n",
              "display: block!important;\n",
              "}\n",
              "\n",
              ".navbar-nav>li, .navbar-nav {\n",
              "float: left !important;\n",
              "}\n",
              "\n",
              ".navbar-nav.navbar-right:last-child {\n",
              "margin-right: -15px !important;\n",
              "}\n",
              "\n",
              ".navbar-right {\n",
              "float: right!important;\n",
              "}\n",
              "\n",
              "#notebook_name {\n",
              "    font-weight: 600;\n",
              "}\n",
              "\n",
              "h1 {\n",
              "\ttext-align: center;\n",
              "\tbackground-color: rgba(0,255,1,0.15);\n",
              "\tborder-bottom: 1px solid #cccccc;\n",
              "\tcounter-reset: h2counter;\t\n",
              "}\n",
              "\n",
              "h2 {\n",
              "\ttext-align: center;\n",
              "\twidth: 75%;\n",
              "\tmargin-left: 25%;\n",
              "\tbackground-color: rgba(255,255,1,0.15);\n",
              "\tborder-bottom: 1px solid #cccccc;\n",
              "\tcounter-reset: h3counter;\t\n",
              "}\n",
              "h2:before {\n",
              "\tcounter-increment: h2counter;\n",
              "}\n",
              "\n",
              "h3 {\n",
              "\tborder-bottom: 1px solid #cccccc;\t\n",
              "}\n",
              "h3:before {\n",
              "\tcounter-increment: h3counter;\n",
              "}\n",
              "\n",
              "h4 {\n",
              "\tborder-bottom: 1px solid #cccccc;\t\n",
              "}\n",
              "h4:before {\n",
              "\tcounter-increment: h4counter;\n",
              "}\n",
              " </style>Python practical setup tools version 23.2. See <a target=\"_blank\" href=\"https://setu-discretemathematics.github.io/live/00-Module_Introduction/33-Python_Practicals\">https://setu-discretemathematics.github.io/live/00-Module_Introduction/33-Python_Practicals</a>"
            ]
          },
          "metadata": {},
          "execution_count": 92
        }
      ],
      "source": [
        "# setup magic, do not edit this cell! Just press Shift+Enter or click on arrow at top-left\n",
        "\n",
        "import urllib.request\n",
        "content = urllib.request.urlretrieve (\"https://setu-discretemathematics.github.io/live/files/setup_practical_magic.py\")\n",
        "exec(open(content[0]).read())\n",
        "setup_practical(locals(),_ih)"
      ]
    },
    {
      "cell_type": "markdown",
      "metadata": {
        "id": "noORUGI2BNF3"
      },
      "source": [
        "---\n",
        "## Introduction\n",
        "\n",
        "In this practical we will\n",
        "\n",
        "  * Determine relationship between sets (subset, etc.)\n",
        "  * Demonstrate set operations (union, intersection, etc.)\n",
        "  * Prove set identities using membership tables."
      ]
    },
    {
      "cell_type": "markdown",
      "metadata": {
        "id": "9wvr0CMxBNF3"
      },
      "source": [
        "### Mathematics Concepts\n",
        "\n",
        " * Set relations: subset $\\subseteq$, superset $\\supseteq$\n",
        " * Set operations: intersection $\\cap$, union $\\cup$, set difference $\\setminus$, symmetric difference $\\oplus$."
      ]
    },
    {
      "cell_type": "markdown",
      "metadata": {
        "id": "4Zl7ilEiBNF3"
      },
      "source": [
        "### Python Concepts\n",
        "\n",
        " * Set relations: subset  $A \\subseteq B$\n",
        "\n",
        "~~~python\n",
        "    A.issubset(B)\n",
        "~~~\n",
        "\n",
        " * Set relations: subset  $A \\supseteq B$\n",
        "\n",
        "~~~python\n",
        "    A.issuperset(B)\n",
        "~~~\n",
        "\n",
        " * Set operations: intersection $\\cap$\n",
        "\n",
        "~~~python\n",
        "    C = A.intersection(B)\n",
        "~~~\n",
        "\n",
        "\n",
        " * Set operations: union $\\cup$\n",
        "\n",
        "~~~python\n",
        "    C = A.union(B)\n",
        "~~~\n",
        "\n",
        " * Set operations: set difference $A\\setminus B$\n",
        "\n",
        "~~~python\n",
        "    C = A.difference(B)\n",
        "~~~\n",
        "\n",
        " * Set operations: Cartesian product $A\\times B$\n",
        "\n",
        "~~~python\n",
        "    C = { (a,b) for a in A for b in B }\n",
        "~~~\n",
        "\n",
        " * Set operations: Relation, for example \"less than\"\n",
        "\n",
        "~~~python\n",
        "    C = { (a,b) for a in A for b in B if a<b}\n",
        "~~~"
      ]
    },
    {
      "cell_type": "markdown",
      "metadata": {
        "id": "oL1LyY0GBNF4"
      },
      "source": [
        "Finally, remember from last week's practical:\n",
        "\n",
        " * To create an empty set:\n",
        "\n",
        "~~~python\n",
        "    A = set()\n",
        "~~~\n",
        "\n",
        " * Create a set with a given list of elements, say primes less than ten:\n",
        "\n",
        "~~~python\n",
        "   A = set(2,3,5,7)\n",
        "~~~\n",
        "\n",
        " * To print a set, $A$, with a label:\n",
        "\n",
        "~~~python\n",
        "   print(\"A = \", A)\n",
        "~~~\n",
        "\n",
        " * To print the number of elements in a set, $A$, with a label:\n",
        "\n",
        "~~~python\n",
        "   print(\"A = \", len(A))\n",
        "~~~"
      ]
    },
    {
      "cell_type": "markdown",
      "metadata": {
        "id": "laz7YslXBNF4"
      },
      "source": [
        "---\n",
        "## Set Operations"
      ]
    },
    {
      "cell_type": "markdown",
      "metadata": {
        "id": "qdbIkLAABNF4"
      },
      "source": [
        "### Question 1\n",
        "\n",
        "Write code to:\n",
        "\n",
        " * Create set $A$ containg natural numbers up to but not including 20.\n",
        " * Output the set $A$ with a label using `print`.\n",
        " * Create set $B$ containg even natural numbers up to but not including 10.\n",
        " * Output the set $B$ with a label using `print`.\n",
        " * Define set $C=A\\setminus B$.\n",
        " * Output the set $C$ with a label using `print`.\n",
        "\n",
        "\n",
        "Hint: When generating the sets $A$ and $B$, you _could_ list the numbers but try to create set using `range` function or set builder notation."
      ]
    },
    {
      "cell_type": "code",
      "execution_count": 93,
      "metadata": {
        "colab": {
          "base_uri": "https://localhost:8080/"
        },
        "id": "JllataNvBNF5",
        "outputId": "3155c69b-32ed-4ea6-f8bf-881db0941b52"
      },
      "outputs": [
        {
          "output_type": "stream",
          "name": "stdout",
          "text": [
            "A= {0, 1, 2, 3, 4, 5, 6, 7, 8, 9, 10, 11, 12, 13, 14, 15, 16, 17, 18, 19}\n",
            "B= {0, 2, 4, 6, 8}\n",
            "C= {1, 3, 5, 7, 9, 10, 11, 12, 13, 14, 15, 16, 17, 18, 19}\n"
          ]
        }
      ],
      "source": [
        "# Question 1\n",
        "A = set(x for x in range(20))\n",
        "print(\"A=\" , A)\n",
        "B = set(x for x in range(0,10,2))\n",
        "print(\"B=\" , B)\n",
        "C = set(A.difference(B))\n",
        "print(\"C=\" , C)"
      ]
    },
    {
      "cell_type": "markdown",
      "metadata": {
        "id": "miStFYC1BNF5"
      },
      "source": [
        "### Question 2 (Multiple of 3 and 5)\n",
        "\n",
        "Write code to:\n",
        "\n",
        " * Create set $A$ containing natural numbers up to but not including 100 that are multiples of 3.\n",
        " * Output the set $A$ with a label using `print`.\n",
        " * Create set $B$ containing natural numbers up to but not including 100 that are multiples of 5.\n",
        " * Output the set $B$ with a label using `print`.\n",
        " * Output set $C=A\\cap B$.\n",
        " * Output the set $C$ with a label using `print`.\n"
      ]
    },
    {
      "cell_type": "code",
      "execution_count": 94,
      "metadata": {
        "colab": {
          "base_uri": "https://localhost:8080/"
        },
        "id": "lvmRsMq2BNF5",
        "outputId": "7c5d4275-4220-465d-dbe2-05f19fa46276"
      },
      "outputs": [
        {
          "output_type": "stream",
          "name": "stdout",
          "text": [
            "A= {0, 3, 6, 9, 12, 15, 18, 21, 24, 27, 30, 33, 36, 39, 42, 45, 48, 51, 54, 57, 60, 63, 66, 69, 72, 75, 78, 81, 84, 87, 90, 93, 96, 99}\n",
            "B= {0, 5, 10, 15, 20, 25, 30, 35, 40, 45, 50, 55, 60, 65, 70, 75, 80, 85, 90, 95}\n",
            "C= {0, 90, 75, 60, 45, 30, 15}\n"
          ]
        }
      ],
      "source": [
        "# Question 2\n",
        "A = set(x for x in range(0,100,3))\n",
        "print(\"A=\" , A)\n",
        "B = set(x for x in range(0,100,5))\n",
        "print(\"B=\" , B)\n",
        "C = set(A.intersection(B))\n",
        "print(\"C=\" , C)"
      ]
    },
    {
      "cell_type": "markdown",
      "metadata": {
        "id": "VlJPVzmgBNF5"
      },
      "source": [
        "### Question 3 (properties of sets)\n",
        "\n",
        "In this question we want to use the `issubset` method that checks the subset property, i.e., $A \\subseteq B$.\n",
        "\n",
        "Write code to:\n",
        "\n",
        " * Create set $A$ containing natural numbers up to but not including 100 that are multiples of 3.\n",
        " * Output the set $A$ with a label using `print`.\n",
        " * Create set $B$ containing natural numbers up to but not including 100 that are multiples of 5.\n",
        " * Output the set $B$ with a label using `print`.\n",
        " * Create set $C$ containing natural numbers up to but not including 100 that are multiples of 15.\n",
        " * Output the set $C$ with a label using `print`.\n",
        "\n",
        "Now, if the sets are constructed correctly we should have $C\\subseteq A$ and $C\\subseteq B$, but $A\\not\\subseteq B$. Let's check this ...\n",
        "\n",
        "To check $C\\subseteq A$ use code\n",
        "~~~python\n",
        "print (\"Is C a subset of A?\", C.issubset(A))\n",
        "~~~\n",
        "\n",
        "Now, write code to check the truth value of each of the following (and compare the results with your expectations)\n",
        "\n",
        " * $C\\subseteq B$\n",
        " * $A\\subseteq B$\n",
        " * $C\\subseteq C$\n",
        "\n",
        "Why you are checking properties, write python code to check if $C=A \\cap B$."
      ]
    },
    {
      "cell_type": "code",
      "execution_count": 95,
      "metadata": {
        "colab": {
          "base_uri": "https://localhost:8080/"
        },
        "id": "L0iNr1CSBNF6",
        "outputId": "7088cc82-0912-4052-f7b7-f3796a6f2ca9"
      },
      "outputs": [
        {
          "output_type": "stream",
          "name": "stdout",
          "text": [
            "A= {0, 3, 6, 9, 12, 15, 18, 21, 24, 27, 30, 33, 36, 39, 42, 45, 48, 51, 54, 57, 60, 63, 66, 69, 72, 75, 78, 81, 84, 87, 90, 93, 96, 99}\n",
            "B= {0, 5, 10, 15, 20, 25, 30, 35, 40, 45, 50, 55, 60, 65, 70, 75, 80, 85, 90, 95}\n",
            "C= {0, 75, 45, 15, 90, 60, 30}\n",
            "Is C a subset of B? True\n",
            "Is A a subset of B? False\n",
            "Is C a subset of C? True\n",
            "Is C equals to A intersection of B? True\n"
          ]
        }
      ],
      "source": [
        "# Question 3\n",
        "A = set(x for x in range(0,100,3))\n",
        "print(\"A=\" , A)\n",
        "B = set(x for x in range(0,100,5))\n",
        "print(\"B=\" , B)\n",
        "C= set(x for x in range(0,100,15))\n",
        "print(\"C=\" , C)\n",
        "\n",
        "print(\"Is C a subset of B?\", C.issubset(B))\n",
        "print(\"Is A a subset of B?\", A.issubset(B))\n",
        "print(\"Is C a subset of C?\", C.issubset(C))\n",
        "\n",
        "print(\"Is C equals to A intersection of B?\", C == A.intersection(B))"
      ]
    },
    {
      "cell_type": "markdown",
      "metadata": {
        "id": "dUPVBPU5BNF6"
      },
      "source": [
        "---\n",
        "## Building Own Set Operations\n",
        "\n",
        "We have seen the builtin set operations (union,intersection, ... ) and set properties (issubset, isdisjoint, ... ). Now we will try to write our own version of these"
      ]
    },
    {
      "cell_type": "markdown",
      "metadata": {
        "id": "pVX217BoBNF6"
      },
      "source": [
        "### Question 4\n",
        "\n",
        "Given two sets, `A` and `B`, say\n",
        "```python\n",
        "A = {2,3,4,5}\n",
        "B = {3,5}\n",
        "```\n",
        "\n",
        "Write python code to create an empty set `C` and then build the set $C = A\\cap B$, i.e., the intersection of `A` and `B`.\n",
        "Use only python `for` and `if` statements, and set method `add`. Print set `C`."
      ]
    },
    {
      "cell_type": "code",
      "execution_count": 96,
      "metadata": {
        "colab": {
          "base_uri": "https://localhost:8080/"
        },
        "id": "Uvog5wLrBNF6",
        "outputId": "c08652f3-c3c7-4414-dc4b-ab6ddff71a1c"
      },
      "outputs": [
        {
          "output_type": "stream",
          "name": "stdout",
          "text": [
            "C = A n B {3, 5}\n"
          ]
        }
      ],
      "source": [
        "# Question 4\n",
        "A = {2,3,4,5}\n",
        "B = {3,5}\n",
        "C = set()\n",
        "for x in A:\n",
        "  if x in B:\n",
        "    C.add(x)\n",
        "print(\"C = A n B\" , C)"
      ]
    },
    {
      "cell_type": "markdown",
      "metadata": {
        "id": "mnxXGNxFBNF7"
      },
      "source": [
        "### Question 5\n",
        "\n",
        "Given two sets, `A` and `B`, say\n",
        "```python\n",
        "A = {2,3,4,5}\n",
        "B = {3,5}\n",
        "```\n",
        "\n",
        "Write python code to create an empty set `C` and then build the set $C = A\\cup B$, i.e., the union of `A` and `B`.\n",
        "Use only python `for` and `if` statements, and set method `add`. Print set `C`."
      ]
    },
    {
      "cell_type": "code",
      "execution_count": 97,
      "metadata": {
        "colab": {
          "base_uri": "https://localhost:8080/"
        },
        "id": "PZ8f-iKMBNF7",
        "outputId": "0298204a-50f3-474e-816a-e7abf9afc724"
      },
      "outputs": [
        {
          "output_type": "stream",
          "name": "stdout",
          "text": [
            "C = A u B {2, 3, 4, 5}\n"
          ]
        }
      ],
      "source": [
        "# Question 5\n",
        "A = {2,3,4,5}\n",
        "B = {3,5}\n",
        "C = set()\n",
        "for x in A:\n",
        "  C.add(x)\n",
        "\n",
        "for x in B:\n",
        "  C.add(x)\n",
        "\n",
        "print(\"C = A u B\", C)\n",
        "\n"
      ]
    },
    {
      "cell_type": "markdown",
      "metadata": {
        "id": "d3xXdJyVBNF7"
      },
      "source": [
        "### Question 6\n",
        "\n",
        "Given two sets, `A` and `B`, say\n",
        "```python\n",
        "A = {3,4,5}\n",
        "B = {2,3,4,5}\n",
        "```\n",
        "\n",
        "Write python code to output `True` if the set `A` is a proper subset of the set `B`.\n",
        "Use only python `for` and `if` statements, and set method `add`."
      ]
    },
    {
      "cell_type": "code",
      "execution_count": 102,
      "metadata": {
        "colab": {
          "base_uri": "https://localhost:8080/"
        },
        "id": "Gcxa-zhhBNF7",
        "outputId": "00e7808f-e609-4476-a2a0-e8ac107df3ae"
      },
      "outputs": [
        {
          "output_type": "stream",
          "name": "stdout",
          "text": [
            "Is A is a proper subset of the B? True\n"
          ]
        }
      ],
      "source": [
        "# Question 6\n",
        "A = {3,4,5}\n",
        "B = {2,3,4,5}\n",
        "C = True\n",
        "\n",
        "for x in A:\n",
        "  if x not in B:\n",
        "    C = False\n",
        "  break\n",
        "\n",
        "for x in A:\n",
        "  if len(A) == len (B):\n",
        "    C = False\n",
        "  break\n",
        "\n",
        "\n",
        "print(\"Is A is a proper subset of the B?\" ,C)"
      ]
    },
    {
      "cell_type": "markdown",
      "metadata": {
        "id": "gG17a7B-BNF8"
      },
      "source": [
        "### Question 7\n",
        "\n",
        "Given two sets, `A` and `B`, say\n",
        "```python\n",
        "A = {2,3,4,5}\n",
        "B = {3,5}\n",
        "```\n",
        "\n",
        "Write python code using to output `True` if the two sets are disjoint, otherwise output `False`.\n",
        "Use only python `for` and `if` statements, and set method `add`."
      ]
    },
    {
      "cell_type": "code",
      "execution_count": null,
      "metadata": {
        "colab": {
          "base_uri": "https://localhost:8080/"
        },
        "id": "BvGspwqtBNF8",
        "outputId": "8af13bf3-4704-4202-8bba-d2f7a58a4b6b"
      },
      "outputs": [
        {
          "name": "stdout",
          "output_type": "stream",
          "text": [
            "Is the two sets are disjoint? False\n"
          ]
        }
      ],
      "source": [
        "# Question 7\n",
        "A = {2,3,4,5}\n",
        "B = {3,5}\n",
        "C = True\n",
        "\n",
        "for x in A:\n",
        "  if x in B:\n",
        "    C = False\n",
        "    break\n",
        "\n",
        "print(\"Is the two sets are disjoint?\", C)"
      ]
    },
    {
      "cell_type": "markdown",
      "metadata": {
        "id": "Wbu_ZPkxBNF8"
      },
      "source": [
        "---\n",
        "## Review/Feedback (P04)"
      ]
    },
    {
      "cell_type": "code",
      "execution_count": null,
      "metadata": {
        "cellView": "form",
        "id": "r4hV_XmjBNF8"
      },
      "outputs": [],
      "source": [
        "#@markdown This a a short questionnaire for you to provide feedback on how you think the semester is progressing and in particular for __Discrete Mathematics__, how easy/difficult, interesting/boring, useful/confusing you find the material. By completing the following you will help us improve our delivery.<br />Please enter your feedback and click on arrow at top-left to save.\n",
        "\n",
        "#@markdown **This practical**\n",
        "\n",
        "#@markdown How difficult did you find this practical?\n",
        "practical_difficulty = 'About right' #@param ['No opinion', \"Too easy', 'Easy', 'About right', 'Some bits were hard but overall it was doable', 'Too difficult', 'Impossible']\n",
        "\n",
        "#@markdown Including online session time, how long (in minutes) did it take for you to finish this practical?\n",
        "practical_duration = 30 #@param {type: \"number\"}\n",
        "\n",
        "#@markdown **This week's material**\n",
        "\n",
        "#@markdown How difficult did you find each of the following this week?\n",
        "lecture_difficulty = 'About right' #@param ['No opinion', \"Too easy', 'Easy', 'About right', 'Some bits were hard but overall it was doable', 'Too difficult', 'Impossible']\n",
        "\n",
        "tutorial_questions_difficulty = 'About right' #@param ['No opinion', \"Too easy', 'Easy', 'About right', 'Some bits were hard but overall it was doable', 'Too difficult', 'Impossible']\n",
        "\n",
        "#@markdown Use the line below to enter any comments &mdash; what you liked, what you did not like. Again all feedback is welcome.\n",
        "general_comment = \"-\" #@param {type: \"string\"}"
      ]
    },
    {
      "cell_type": "code",
      "execution_count": null,
      "metadata": {
        "id": "3jueS6ewBNF8"
      },
      "outputs": [],
      "source": []
    }
  ],
  "metadata": {
    "colab": {
      "provenance": [],
      "toc_visible": true
    },
    "kernelspec": {
      "display_name": "Python 3",
      "language": "python",
      "name": "python3"
    },
    "language_info": {
      "codemirror_mode": {
        "name": "ipython",
        "version": 3
      },
      "file_extension": ".py",
      "mimetype": "text/x-python",
      "name": "python",
      "nbconvert_exporter": "python",
      "pygments_lexer": "ipython3",
      "version": "3.9.10"
    },
    "toc": {
      "toc_cell": false,
      "toc_number_sections": true,
      "toc_threshold": 6,
      "toc_window_display": false
    }
  },
  "nbformat": 4,
  "nbformat_minor": 0
}