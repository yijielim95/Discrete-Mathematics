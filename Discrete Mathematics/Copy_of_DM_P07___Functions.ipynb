{
  "cells": [
    {
      "cell_type": "markdown",
      "metadata": {
        "id": "Dajafvz5obcM"
      },
      "source": [
        "# Practical 01 &mdash; Loops and Decisions"
      ]
    },
    {
      "cell_type": "markdown",
      "metadata": {
        "id": "dGUHvpDUobcN"
      },
      "source": [
        "## Setup"
      ]
    },
    {
      "cell_type": "code",
      "execution_count": null,
      "metadata": {
        "cellView": "form",
        "id": "CXsnfskuobcN"
      },
      "outputs": [],
      "source": [
        "#@markdown **Please enter your following details and press Shift-Enter to save:**\n",
        "your_student_number = '20104720' #@param {type: \"string\"}\n",
        "your_name = 'Yi Jie Lim' #@param {type: \"string\"}"
      ]
    },
    {
      "cell_type": "code",
      "execution_count": null,
      "metadata": {
        "colab": {
          "base_uri": "https://localhost:8080/",
          "height": 34
        },
        "id": "gI-1sOMPobcN",
        "outputId": "959a6c45-5ddd-488b-83c9-21c737d26872"
      },
      "outputs": [
        {
          "output_type": "execute_result",
          "data": {
            "text/plain": [
              "<IPython.core.display.HTML object>"
            ],
            "text/html": [
              "<style>\n",
              "\n",
              "\n",
              "\n",
              "/* counting headers and my styling */\n",
              "\n",
              ".navbar-collapse.collapse {\n",
              "display: block!important;\n",
              "}\n",
              "\n",
              ".navbar-nav>li, .navbar-nav {\n",
              "float: left !important;\n",
              "}\n",
              "\n",
              ".navbar-nav.navbar-right:last-child {\n",
              "margin-right: -15px !important;\n",
              "}\n",
              "\n",
              ".navbar-right {\n",
              "float: right!important;\n",
              "}\n",
              "\n",
              "#notebook_name {\n",
              "    font-weight: 600;\n",
              "}\n",
              "\n",
              "h1 {\n",
              "\ttext-align: center;\n",
              "\tbackground-color: rgba(0,255,1,0.15);\n",
              "\tborder-bottom: 1px solid #cccccc;\n",
              "\tcounter-reset: h2counter;\t\n",
              "}\n",
              "\n",
              "h2 {\n",
              "\ttext-align: center;\n",
              "\twidth: 75%;\n",
              "\tmargin-left: 25%;\n",
              "\tbackground-color: rgba(255,255,1,0.15);\n",
              "\tborder-bottom: 1px solid #cccccc;\n",
              "\tcounter-reset: h3counter;\t\n",
              "}\n",
              "h2:before {\n",
              "\tcounter-increment: h2counter;\n",
              "}\n",
              "\n",
              "h3 {\n",
              "\tborder-bottom: 1px solid #cccccc;\t\n",
              "}\n",
              "h3:before {\n",
              "\tcounter-increment: h3counter;\n",
              "}\n",
              "\n",
              "h4 {\n",
              "\tborder-bottom: 1px solid #cccccc;\t\n",
              "}\n",
              "h4:before {\n",
              "\tcounter-increment: h4counter;\n",
              "}\n",
              " </style>Python practical setup tools version 23.2. See <a target=\"_blank\" href=\"https://setu-discretemathematics.github.io/live/00-Module_Introduction/33-Python_Practicals\">https://setu-discretemathematics.github.io/live/00-Module_Introduction/33-Python_Practicals</a>"
            ]
          },
          "metadata": {},
          "execution_count": 2
        }
      ],
      "source": [
        "# Setup magic, do not edit this cell! Just press Shift+Enter or click on arrow at top-left\n",
        "\n",
        "import urllib.request\n",
        "content = urllib.request.urlretrieve (\"https://setu-discretemathematics.github.io/live/files/setup_practical_magic.py\")\n",
        "exec(open(content[0]).read())\n",
        "setup_practical(locals(),_ih)"
      ]
    },
    {
      "cell_type": "markdown",
      "metadata": {
        "id": "gIumxI6cobcN"
      },
      "source": [
        "---\n",
        "## Introduction\n",
        "\n",
        "In this practical we will (or more accurately you will) solve a number of small tasks using python loop (`for` and `while`) and decision (`if-elif-else`) statements."
      ]
    },
    {
      "cell_type": "markdown",
      "metadata": {
        "id": "FCGxfvb8kSQC"
      },
      "source": [
        "## Questions\n",
        "\n",
        "The tasks are based on material we covered in [Fundamentals of Computation (Slides)](https://setu-discretemathematics.github.io/live/topics/01-Computational_Thinking/01-Fundamentals_of_Computation/01-01-Fundamentals_of_Computation-Slides-Presentation.pdf)\n",
        "\n"
      ]
    },
    {
      "cell_type": "markdown",
      "metadata": {
        "id": "t1PZ9jnUobcO"
      },
      "source": [
        "### Question 1\n",
        "\n",
        "Write a Python `for` loop to print out the integers from zero (inclusive) to 5 (exclusive).\n",
        "\n",
        "Hint: Use `range` to create the collection for loop over. And `print` to output the data (loop counter) value."
      ]
    },
    {
      "cell_type": "code",
      "execution_count": null,
      "metadata": {
        "colab": {
          "base_uri": "https://localhost:8080/"
        },
        "id": "atuZEJKEobcO",
        "outputId": "dc2385bf-359a-4b76-8415-bbcad7c934e7"
      },
      "outputs": [
        {
          "output_type": "stream",
          "name": "stdout",
          "text": [
            "0\n",
            "1\n",
            "2\n",
            "3\n",
            "4\n"
          ]
        }
      ],
      "source": [
        "# Question 1\n",
        "for numbers in range(5):\n",
        "  print(numbers)\n"
      ]
    },
    {
      "cell_type": "markdown",
      "metadata": {
        "id": "QFKHZWhqkSQE"
      },
      "source": [
        "### Question 2\n",
        "\n",
        "Write a Python `while` loop to print out the integers from zero (inclusive) to five (exclusive).\n",
        "\n",
        "Note: We normally would NOT use `while` for this problem because we know how many times the loop runs is wanted so would use a `for` loop instead."
      ]
    },
    {
      "cell_type": "code",
      "execution_count": null,
      "metadata": {
        "colab": {
          "base_uri": "https://localhost:8080/"
        },
        "id": "OTJR6Cb-kSQG",
        "outputId": "4c24b06c-7cfb-4a51-de45-e154e1679db4"
      },
      "outputs": [
        {
          "output_type": "stream",
          "name": "stdout",
          "text": [
            "0\n",
            "1\n",
            "2\n",
            "3\n",
            "4\n"
          ]
        }
      ],
      "source": [
        "# Question 2\n",
        "x = 0\n",
        "while x<5:\n",
        "  print(x)\n",
        "  x = x + 1\n"
      ]
    },
    {
      "cell_type": "markdown",
      "metadata": {
        "id": "xqsRA55KkSQG"
      },
      "source": [
        "### Question 3\n",
        "\n",
        "Write a Python `for` loop over the integers from zero (inclusive) to 10 (exclusive) and output the integer and its remainder when divided by three.\n",
        "\n",
        "Note: `x % 3` is the remainder when `x` is divided by `3`."
      ]
    },
    {
      "cell_type": "code",
      "execution_count": null,
      "metadata": {
        "colab": {
          "base_uri": "https://localhost:8080/"
        },
        "id": "jOSrQQbhkSQH",
        "outputId": "8c2a9bbd-68bf-42ff-ca14-1e82b45ffec6"
      },
      "outputs": [
        {
          "output_type": "stream",
          "name": "stdout",
          "text": [
            "0 has remainder of 0\n",
            "1 has remainder of 1\n",
            "2 has remainder of 2\n",
            "3 has remainder of 0\n",
            "4 has remainder of 1\n",
            "5 has remainder of 2\n",
            "6 has remainder of 0\n",
            "7 has remainder of 1\n",
            "8 has remainder of 2\n",
            "9 has remainder of 0\n"
          ]
        }
      ],
      "source": [
        "# Question 3\n",
        "for x in range(10):\n",
        "    print (x ,\"has remainder of\", x%3)"
      ]
    },
    {
      "cell_type": "markdown",
      "metadata": {
        "id": "J2UixktekSQH"
      },
      "source": [
        "### Question 4\n",
        "\n",
        "Write a Python `for` loop to print out the integers from zero (inclusive) to 20 (exclusive), that are multiples of 3.\n",
        "\n",
        "Note: There are two solutions to this. a) You can use the `STEP` parameter in `range` or b) you can use an `if` statement and the fact that `x % 3==0` is `True` when identifier `x` stores an integer that is a multiple of 3."
      ]
    },
    {
      "cell_type": "code",
      "execution_count": 13,
      "metadata": {
        "colab": {
          "base_uri": "https://localhost:8080/"
        },
        "id": "6y-tymvzkSQH",
        "outputId": "5876531a-a45e-4be7-e218-cc7b0283c8ea"
      },
      "outputs": [
        {
          "output_type": "stream",
          "name": "stdout",
          "text": [
            "0\n",
            "3\n",
            "6\n",
            "9\n",
            "12\n",
            "15\n",
            "18\n"
          ]
        }
      ],
      "source": [
        "# Question 4a (using range only)\n",
        "for x in range(0,20,3):\n",
        "   print(x)\n"
      ]
    },
    {
      "cell_type": "code",
      "execution_count": null,
      "metadata": {
        "colab": {
          "base_uri": "https://localhost:8080/"
        },
        "id": "m8ChA5V5kSQJ",
        "outputId": "4665b611-68a4-42b0-807f-78b3f2705c5c"
      },
      "outputs": [
        {
          "output_type": "stream",
          "name": "stdout",
          "text": [
            "0\n",
            "3\n",
            "6\n",
            "9\n",
            "12\n",
            "15\n",
            "18\n"
          ]
        }
      ],
      "source": [
        "# Question 4b (using range and if)\n",
        "for x in range(0,20):\n",
        "  if x % 3==0 :\n",
        "    print(x)\n"
      ]
    },
    {
      "cell_type": "markdown",
      "metadata": {
        "id": "aqNZ5Rb5kSQJ"
      },
      "source": [
        "### Question 5\n",
        "\n",
        "Given the list\n",
        "```python\n",
        "data = [1,5,7,3,7,9,6,2]\n",
        "```\n",
        "write a Python `for` loop that counts the number of odd integers in the list.\n",
        "\n",
        "Hint: Remember `x%2` returns the remainder when `x` is divided by `2`. So `x%2==1` when `x` stores an odd integer, and `x%2==0` when `x` stores an even integer."
      ]
    },
    {
      "cell_type": "code",
      "execution_count": 21,
      "metadata": {
        "colab": {
          "base_uri": "https://localhost:8080/"
        },
        "id": "9CymcGLgkSQJ",
        "outputId": "0a2e4087-dd36-41e0-8de0-619efbaaf5e8"
      },
      "outputs": [
        {
          "output_type": "stream",
          "name": "stdout",
          "text": [
            "Number of odd number is 6\n"
          ]
        }
      ],
      "source": [
        "# Question 5\n",
        "data = [1,5,7,3,7,9,6,2]\n",
        "count = 0\n",
        "for x in data:\n",
        "  if x%2==1:\n",
        "    count +=1\n",
        "\n",
        "print(\"Number of odd number is\", count)\n",
        "\n",
        "\n"
      ]
    },
    {
      "cell_type": "markdown",
      "metadata": {
        "id": "XULwh_EGkSQJ"
      },
      "source": [
        "### Question 6\n",
        "\n",
        "Given the list\n",
        "```python\n",
        "data = [1,5,7,3,7,9,6,2]\n",
        "```\n",
        "write a Python `for` loop that calculates the total of the odd integers minus the total of the even integers in the list."
      ]
    },
    {
      "cell_type": "code",
      "execution_count": 22,
      "metadata": {
        "colab": {
          "base_uri": "https://localhost:8080/"
        },
        "id": "PIqDhVhOkSQJ",
        "outputId": "b65752be-1be5-4228-a02d-8f14db8e0590"
      },
      "outputs": [
        {
          "output_type": "stream",
          "name": "stdout",
          "text": [
            "The total of the odd integers minus the total of the even integers in the list is 24\n"
          ]
        }
      ],
      "source": [
        "# Question 6\n",
        "data = [1,5,7,3,7,9,6,2]\n",
        "odd_count = 0\n",
        "even_count = 0\n",
        "\n",
        "for x in data:\n",
        "  if x%2==1:\n",
        "    odd_count += x\n",
        "  else:\n",
        "    even_count += x\n",
        "\n",
        "answer = odd_count - even_count\n",
        "print(\"The total of the odd integers minus the total of the even integers in the list is\",answer)"
      ]
    },
    {
      "cell_type": "markdown",
      "metadata": {
        "id": "n3qBcv_xkSQK"
      },
      "source": [
        "## Optional Questions\n",
        "\n",
        "The following questions are __optional__. They can all be solved just using loop and decision statements but are more tricky that the above problems and are given here for those of you who have coded in python before and want to try more advanced problems.  \n",
        "\n",
        "But we also suggest you should try problems in\n",
        "\n",
        " * [Project Euler](https://projecteuler.net)\n",
        " * [Codeforces](https://codeforces.com)"
      ]
    },
    {
      "cell_type": "markdown",
      "metadata": {
        "id": "Wj_UBRhnkSQK"
      },
      "source": [
        "### Question A\n",
        "\n",
        "Given the list\n",
        "```python\n",
        "data = [1,5,7,3,2,4,7,9,5,2,1,7,9,6,2]\n",
        "```\n",
        "write a Python `for` loop that calculates the length of the longest sub-sequence of decreasing data values. (For example `[7,3,2]` is a sub-sequence of decreasing data values of length 3, but it may not be the longest.\n"
      ]
    },
    {
      "cell_type": "code",
      "execution_count": 23,
      "metadata": {
        "id": "Hp-mMEZbkSQK"
      },
      "outputs": [],
      "source": [
        "# Question A\n",
        "data = [1,5,7,3,2,4,7,9,5,2,1,7,9,6,2]\n",
        "\n",
        "\n"
      ]
    },
    {
      "cell_type": "markdown",
      "metadata": {
        "id": "rL_jyN6-kSQK"
      },
      "source": [
        "### Question B\n",
        "\n",
        "Given the integer\n",
        "```python\n",
        "n = 190512000\n",
        "```\n",
        "write a Python loop that outputs all of the prime factors of `n`."
      ]
    },
    {
      "cell_type": "code",
      "execution_count": 24,
      "metadata": {
        "id": "Zns4cls4kSQL"
      },
      "outputs": [],
      "source": [
        "from re import I\n",
        "# Question B\n",
        "n = 190512000\n",
        "\n",
        "\n",
        "\n",
        "\n",
        "\n",
        "\n"
      ]
    },
    {
      "cell_type": "markdown",
      "metadata": {
        "id": "Fupb7zMXobcQ"
      },
      "source": [
        "---\n",
        "## Review/Feedback (P01)"
      ]
    },
    {
      "cell_type": "code",
      "execution_count": null,
      "metadata": {
        "cellView": "form",
        "colab": {
          "background_save": true
        },
        "id": "2TW5QrGFobcQ"
      },
      "outputs": [],
      "source": [
        "#@markdown This a a short questionnaire for you to provide feedback on how you think the semester is progressing and in particular for __Discrete Mathematics__, how easy/difficult, interesting/boring, useful/confusing you find the material. By completing the following you will help us improve our delivery.<br />Please enter your feedback and click on arrow at top-left to save.\n",
        "\n",
        "#@markdown **This practical**\n",
        "\n",
        "#@markdown How difficult did you find this practical?\n",
        "practical_difficulty = 'Some bits were hard but overall it was doable' #@param ['No opinion', \"Too easy', 'Easy', 'About right', 'Some bits were hard but overall it was doable', 'Too difficult', 'Impossible']\n",
        "\n",
        "#@markdown Including online session time, how long (in minutes) did it take for you to finish this practical?\n",
        "practical_duration = 30 #@param {type: \"number\"}\n",
        "\n",
        "#@markdown **This week's material**\n",
        "\n",
        "#@markdown How difficult did you find each of the following this week?\n",
        "lecture_difficulty = 'Some bits were hard but overall it was doable' #@param ['No opinion', \"Too easy', 'Easy', 'About right', 'Some bits were hard but overall it was doable', 'Too difficult', 'Impossible']\n",
        "\n",
        "tutorial_questions_difficulty = 'Some bits were hard but overall it was doable' #@param ['No opinion', \"Too easy', 'Easy', 'About right', 'Some bits were hard but overall it was doable', 'Too difficult', 'Impossible']\n",
        "\n",
        "#@markdown Use the line below to enter any comments &mdash; what you liked, what you did not like. Again all feedback is welcome.\n",
        "general_comment = \"Have some problems in optional questions.\" #@param {type: \"string\"}"
      ]
    }
  ],
  "metadata": {
    "colab": {
      "provenance": []
    },
    "kernelspec": {
      "display_name": "Python 3",
      "language": "python",
      "name": "python3"
    },
    "language_info": {
      "codemirror_mode": {
        "name": "ipython",
        "version": 3
      },
      "file_extension": ".py",
      "mimetype": "text/x-python",
      "name": "python",
      "nbconvert_exporter": "python",
      "pygments_lexer": "ipython3",
      "version": "3.9.10"
    },
    "toc": {
      "toc_cell": false,
      "toc_number_sections": true,
      "toc_threshold": 6,
      "toc_window_display": false
    },
    "toc-autonumbering": false
  },
  "nbformat": 4,
  "nbformat_minor": 0
}