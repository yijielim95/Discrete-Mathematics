{
  "cells": [
    {
      "cell_type": "markdown",
      "metadata": {
        "id": "Dajafvz5obcM",
        "label": "title"
      },
      "source": [
        "# Practical 06 &mdash; Functions"
      ]
    },
    {
      "cell_type": "markdown",
      "metadata": {
        "id": "dGUHvpDUobcN",
        "label": "setup"
      },
      "source": [
        "## Setup"
      ]
    },
    {
      "cell_type": "code",
      "execution_count": 5,
      "metadata": {
        "cellView": "form",
        "execution": {
          "iopub.execute_input": "2020-12-03T00:44:42.767299Z",
          "iopub.status.busy": "2020-12-03T00:44:42.766557Z",
          "iopub.status.idle": "2020-12-03T00:44:42.770348Z",
          "shell.execute_reply": "2020-12-03T00:44:42.769416Z"
        },
        "id": "CXsnfskuobcN",
        "label": "bio"
      },
      "outputs": [],
      "source": [
        "#@markdown **Please enter your following details and press Shift-Enter to save:**\n",
        "your_student_number = '20104720' #@param {type: \"string\"}\n",
        "your_name = 'Yi Jie Lim' #@param {type: \"string\"}"
      ]
    },
    {
      "cell_type": "code",
      "execution_count": 6,
      "metadata": {
        "execution": {
          "iopub.execute_input": "2020-12-03T00:44:42.779190Z",
          "iopub.status.busy": "2020-12-03T00:44:42.776937Z",
          "iopub.status.idle": "2020-12-03T00:44:46.637905Z",
          "shell.execute_reply": "2020-12-03T00:44:46.638342Z"
        },
        "id": "gI-1sOMPobcN",
        "label": "setup",
        "outputId": "8cb37b45-b2b5-4698-ed3b-876a71e4be25",
        "colab": {
          "base_uri": "https://localhost:8080/",
          "height": 34
        }
      },
      "outputs": [
        {
          "output_type": "execute_result",
          "data": {
            "text/plain": [
              "<IPython.core.display.HTML object>"
            ],
            "text/html": [
              "<style>\n",
              "\n",
              "\n",
              "\n",
              "/* counting headers and my styling */\n",
              "\n",
              ".navbar-collapse.collapse {\n",
              "display: block!important;\n",
              "}\n",
              "\n",
              ".navbar-nav>li, .navbar-nav {\n",
              "float: left !important;\n",
              "}\n",
              "\n",
              ".navbar-nav.navbar-right:last-child {\n",
              "margin-right: -15px !important;\n",
              "}\n",
              "\n",
              ".navbar-right {\n",
              "float: right!important;\n",
              "}\n",
              "\n",
              "#notebook_name {\n",
              "    font-weight: 600;\n",
              "}\n",
              "\n",
              "h1 {\n",
              "\ttext-align: center;\n",
              "\tbackground-color: rgba(0,255,1,0.15);\n",
              "\tborder-bottom: 1px solid #cccccc;\n",
              "\tcounter-reset: h2counter;\t\n",
              "}\n",
              "\n",
              "h2 {\n",
              "\ttext-align: center;\n",
              "\twidth: 75%;\n",
              "\tmargin-left: 25%;\n",
              "\tbackground-color: rgba(255,255,1,0.15);\n",
              "\tborder-bottom: 1px solid #cccccc;\n",
              "\tcounter-reset: h3counter;\t\n",
              "}\n",
              "h2:before {\n",
              "\tcounter-increment: h2counter;\n",
              "}\n",
              "\n",
              "h3 {\n",
              "\tborder-bottom: 1px solid #cccccc;\t\n",
              "}\n",
              "h3:before {\n",
              "\tcounter-increment: h3counter;\n",
              "}\n",
              "\n",
              "h4 {\n",
              "\tborder-bottom: 1px solid #cccccc;\t\n",
              "}\n",
              "h4:before {\n",
              "\tcounter-increment: h4counter;\n",
              "}\n",
              " </style>Python practical setup tools version 23.2. See <a target=\"_blank\" href=\"https://setu-discretemathematics.github.io/live/00-Module_Introduction/33-Python_Practicals\">https://setu-discretemathematics.github.io/live/00-Module_Introduction/33-Python_Practicals</a>"
            ]
          },
          "metadata": {},
          "execution_count": 6
        }
      ],
      "source": [
        "# setup magic, do not edit this cell! Just press Shift+Enter or click on arrow at top-left\n",
        "\n",
        "import urllib.request\n",
        "content = urllib.request.urlretrieve (\"https://setu-discretemathematics.github.io/live/files/setup_practical_magic.py\")\n",
        "exec(open(content[0]).read())\n",
        "setup_practical(locals(),_ih)"
      ]
    },
    {
      "cell_type": "markdown",
      "metadata": {
        "id": "gIumxI6cobcN",
        "label": "Introduction"
      },
      "source": [
        "---\n",
        "## Introduction\n",
        "\n",
        "In this practical we will implement functions in python and use python to verify their properties"
      ]
    },
    {
      "cell_type": "markdown",
      "metadata": {
        "id": "33Q2c3APobcN"
      },
      "source": [
        "### Mathematics Concepts\n",
        "\n",
        " * Functions\n",
        " * Prime numbers"
      ]
    },
    {
      "cell_type": "markdown",
      "metadata": {
        "id": "0vNLy3ZBobcO"
      },
      "source": [
        "### Python Concepts\n",
        "\n",
        " * Using assertions to verify function inputs.\n",
        " * \"Automatic\" testing of functions against known (simple) examples."
      ]
    },
    {
      "cell_type": "markdown",
      "metadata": {
        "id": "gE6P3C-VobcO"
      },
      "source": [
        "---\n",
        "## The Collatz function\n",
        "\n",
        "The [Collatz](https://en.wikipedia.org/wiki/Collatz_conjecture) function is the multi-rule function\n",
        "$$\n",
        "        \\mathrm{collatz}(n) = \\begin{cases}\n",
        "        3n+1 & n\\text{ is odd} \\\\\n",
        "        n/2 & n\\text{ is even}\n",
        "        \\end{cases}\n",
        "$$\n",
        "where different rules are applied based on whether the input is odd or is even.\n",
        "\n",
        "What make this function interesting is that, if we start with a positive integer, and apply the function over and over again, we get a sequence of integers that __appear__ to end up at 1.\n",
        "\n",
        "For example,\n",
        "\n",
        " * Starting with $n = 12$, we get the sequence\n",
        "$$\n",
        "12, 6, 3, 10, 5, 16, 8, 4, 2, 1.\n",
        "$$\n",
        " * Starting with $n = 7$, we get the longer sequence\n",
        "$$\n",
        "7,22,11,34,17,52,26,13,40,20,10,5,16,8,4,2,1\n",
        "$$\n",
        "\n",
        "However, despite how \"simple\" the Collatz function is, the claim that all starting values will ultimately reach one is unproved. (It has been tested for all integers up to $5.8\\times10^{18}$.)\n",
        "\n",
        "\n",
        " * [The Simple Math Problem We Still Can’t Solve](https://www.quantamagazine.org/why-mathematicians-still-cant-solve-the-collatz-conjecture-20200922/)\n",
        "\n",
        "In today's practical we are going to implement a few functions to help study the Collatz sequence."
      ]
    },
    {
      "cell_type": "markdown",
      "metadata": {
        "id": "t1PZ9jnUobcO"
      },
      "source": [
        "### Question 1\n",
        "\n",
        "Define  function `collatz(n)`, where\n",
        "$$\n",
        "        \\mathrm{collatz}(n) = \\begin{cases}\n",
        "        3n+1 & n\\text{ is odd} \\\\\n",
        "        n/2 & n\\text{ is even}\n",
        "        \\end{cases}\n",
        "$$\n",
        "\n",
        "Things to note:\n",
        "\n",
        " * To perform integer division use need to use __//__ in place of standard float division operator _/_.\n",
        " * The input should be an integer, so use assertions to check for type.\n",
        " * We want to test our function against known results. So before we start coding we list some (simple) examples we use to test out functions. For the `collatz` function we could use examples:\n",
        "\n",
        "   * `collatz(1) = 4`\n",
        "   * `collatz(4) = 2`   \n",
        "   * `collatz(7) = 22`   \n",
        "   \n",
        "\n",
        " * **The testing of our functions is vital**, to the point that there is an entire style of programming called [Test Driven Development](https://medium.com/javascript-scene/tdd-changed-my-life-5af0ce099f80) focused on writing tests before implementing functions. Here we won't do anything fancy &mdash; we will just run a loop to check output of function against expected output.  \n",
        "\n",
        "There is a lot here, so to help you get started we have given you most of the supporting code &mdash; you need to implement the function.\n",
        "\n",
        "In the cell below we have given you the outline of the function, an assertion to verify that the input data was valid, and a loop to check output for the examples listed above.\n",
        "\n",
        "**Note: The is an error in the test code loop which you must also fix.**"
      ]
    },
    {
      "cell_type": "code",
      "execution_count": 7,
      "metadata": {
        "execution": {
          "iopub.execute_input": "2020-12-03T00:44:46.644579Z",
          "iopub.status.busy": "2020-12-03T00:44:46.643958Z",
          "iopub.status.idle": "2020-12-03T00:44:46.647816Z",
          "shell.execute_reply": "2020-12-03T00:44:46.646967Z"
        },
        "id": "atuZEJKEobcO",
        "label": "Q0",
        "tags": [
          "Q1"
        ],
        "colab": {
          "base_uri": "https://localhost:8080/"
        },
        "outputId": "2dc07c5d-d9f5-47e2-b09b-f9bb3e10d6e5"
      },
      "outputs": [
        {
          "output_type": "stream",
          "name": "stdout",
          "text": [
            "input=1\t output=4\t expected=4\t correct=True\n",
            "input=4\t output=2\t expected=2\t correct=True\n",
            "input=7\t output=22\t expected=22\t correct=True\n"
          ]
        }
      ],
      "source": [
        "# Question 1\n",
        "\n",
        "# define function\n",
        "def collatz(n):\n",
        "    assert type(n)==int and n>0, f\"Hey, input value ({n}) should be a positive integer!\"\n",
        "\n",
        "    if n%2==1:\n",
        "      return 3 * n + 1\n",
        "    else:\n",
        "      return n//2\n",
        "\n",
        "# test our function - want Match=True for all examples\n",
        "for input, expected in [ (1,4), (4,2), (7,22) ]:\n",
        "    output = collatz(input)\n",
        "    correct = output==expected\n",
        "    print(f\"{input=}\\t {output=}\\t {expected=}\\t {correct=}\")\n"
      ]
    },
    {
      "cell_type": "markdown",
      "metadata": {
        "id": "dRvaBCsLobcO"
      },
      "source": [
        "### Question 2\n",
        "\n",
        "Now that we have `collatz` function implemented we next to implement a function, `collatzSequence(n)` which will build up the sequence of outputs until we reach a one.\n",
        "\n",
        "Write function `collatzSequence(n)` which returns the sequence of outputs from `collatz` stopping at 1.\n",
        "\n",
        "Some example to help development:\n",
        "\n",
        " * `collatzSequence(1) = [1]`\n",
        " * `collatzSequence(8) = [8,4,2,1]`\n",
        " * `collatzSequence(12) = [12,6,3,10,5,16,8,4,2,1]`\n",
        "\n",
        "Again, some of the code has been provided"
      ]
    },
    {
      "cell_type": "code",
      "execution_count": 8,
      "metadata": {
        "execution": {
          "iopub.execute_input": "2020-12-03T00:44:46.653442Z",
          "iopub.status.busy": "2020-12-03T00:44:46.652773Z",
          "iopub.status.idle": "2020-12-03T00:44:46.656249Z",
          "shell.execute_reply": "2020-12-03T00:44:46.656907Z"
        },
        "tags": [
          "Q2"
        ],
        "id": "JJM-cvELsoU9",
        "colab": {
          "base_uri": "https://localhost:8080/"
        },
        "outputId": "62c52feb-c0ee-4caa-e02b-8781e5acd222"
      },
      "outputs": [
        {
          "output_type": "stream",
          "name": "stdout",
          "text": [
            "n=1\t output=[1]\t expected=[1]\t correct=True\n",
            "n=8\t output=[8, 4, 2, 1]\t expected=[8, 4, 2, 1]\t correct=True\n",
            "n=12\t output=[12, 6, 3, 10, 5, 16, 8, 4, 2, 1]\t expected=[12, 6, 3, 10, 5, 16, 8, 4, 2, 1]\t correct=True\n"
          ]
        }
      ],
      "source": [
        "# Question 2\n",
        "def collatzSequence(n):\n",
        "\n",
        "    # TODO - assertion needed here\n",
        "    assert type(n)==int and n>0, f\"Parameter ({n=}) should be a positive integer.\"\n",
        "    # TODO - implement function\n",
        "    result = [n]\n",
        "    while n != 1:\n",
        "      n = collatz(n)\n",
        "      result.append(n)\n",
        "\n",
        "    return result\n",
        "\n",
        "# test our function - want Match=True for all examples\n",
        "for n, expected in [ (1,[1]), (8,[8,4,2,1]), (12, [12,6,3,10,5,16,8,4,2,1]) ]:\n",
        "    output = collatzSequence(n)\n",
        "    correct = output==expected\n",
        "    print(f\"{n=}\\t {output=}\\t {expected=}\\t {correct=}\")"
      ]
    },
    {
      "cell_type": "markdown",
      "metadata": {
        "id": "5shfOgLsobcO"
      },
      "source": [
        "### Question 3\n",
        "\n",
        "Write function `collatzLen(n)` which returns the number of iterations of `collatz` is needed to reach 1.\n",
        "\n",
        "Some example to help development:\n",
        "\n",
        " * `collatzLen(1) = 0`\n",
        " * `collatzLen(2) = 1`\n",
        " * `collatzLen(8) = 3`\n",
        " * `collatzLen(7) = 16`\n",
        "\n",
        "You should use the same structure as given in the previous two questions and implement your function in the following steps:\n",
        " * Write the function signature and return a dummy value.\n",
        " * Write the test loop.\n",
        " * Implement the assertions to check for valid input.\n",
        " * __Finally__, implement the function.\n"
      ]
    },
    {
      "cell_type": "code",
      "execution_count": 9,
      "metadata": {
        "execution": {
          "iopub.execute_input": "2020-12-03T00:44:46.660836Z",
          "iopub.status.busy": "2020-12-03T00:44:46.660294Z",
          "iopub.status.idle": "2020-12-03T00:44:46.662137Z",
          "shell.execute_reply": "2020-12-03T00:44:46.662558Z"
        },
        "id": "zaGBqPjPobcO",
        "tags": [
          "Q3"
        ],
        "colab": {
          "base_uri": "https://localhost:8080/"
        },
        "outputId": "8bc8ca38-fd88-464c-d5da-c9521f63538b"
      },
      "outputs": [
        {
          "output_type": "stream",
          "name": "stdout",
          "text": [
            "n=1\t output=0\t expected=0\t correct=True\n",
            "n=2\t output=1\t expected=1\t correct=True\n",
            "n=8\t output=3\t expected=3\t correct=True\n",
            "n=7\t output=16\t expected=16\t correct=True\n"
          ]
        }
      ],
      "source": [
        "# Question 3\n",
        "def collatzLen(n):\n",
        "  assert type(n)== int and n>0, f\"Parameter ({n=}) to check for valid input\"\n",
        "# TODO - implement function\n",
        "  count = 0\n",
        "  while n != 1:\n",
        "    n = collatz(n)\n",
        "    count += 1\n",
        "  return count\n",
        "\n",
        "# TODO - implement test code\n",
        "for n, expected in [(1,0), (2,1), (8,3), (7,16)]:\n",
        "  output = collatzLen(n)\n",
        "  correct = output==expected\n",
        "  print(f\"{n=}\\t {output=}\\t {expected=}\\t {correct=}\")"
      ]
    },
    {
      "cell_type": "markdown",
      "metadata": {
        "id": "HL31e30KobcO"
      },
      "source": [
        "---\n",
        "## Prime Number Generation\n",
        "\n",
        "Recall, a __prime number__ is a positive integer bigger than 1, with only two factors &mdash; itself and one.\n",
        "\n",
        "There are many ways to determine whether a given number is prime. The simplest, for small numbers is to check if any integer from 2 (inclusive) up to the number (exclusive) divides evenly. Once one divisor is found we know the number is not a prime and we can stop searching.  \n",
        "\n",
        "Hints:\n",
        "\n",
        " * Our divisor does not have to go up as far as $n$.\n",
        " * To use square root, you first need to import the math module using `import math`."
      ]
    },
    {
      "cell_type": "markdown",
      "metadata": {
        "id": "miGSbNwvobcO"
      },
      "source": [
        "### Question 4\n",
        "\n",
        "Write function `isPrime(n)` which returns `True` if $n$ is prime, otherwise `False`.\n",
        "\n",
        "You should verify using assertions that $n$ is a positive integer.\n",
        "\n",
        "Again, some example you should test against\n",
        "\n",
        " * `isPrime(1) = False`\n",
        " * `isPrime(2) = True`\n",
        " * `isPrime(3) = True`\n",
        " * `isPrime(9) = False`\n",
        " * `isPrime(1234321) = False`"
      ]
    },
    {
      "cell_type": "code",
      "execution_count": 13,
      "metadata": {
        "execution": {
          "iopub.execute_input": "2020-12-03T00:44:46.665716Z",
          "iopub.status.busy": "2020-12-03T00:44:46.665127Z",
          "iopub.status.idle": "2020-12-03T00:44:46.667506Z",
          "shell.execute_reply": "2020-12-03T00:44:46.667056Z"
        },
        "tags": [
          "Q4"
        ],
        "id": "qt3cC62xsoU-",
        "colab": {
          "base_uri": "https://localhost:8080/"
        },
        "outputId": "cb20440f-97bd-44be-8507-6d517286d1be"
      },
      "outputs": [
        {
          "output_type": "stream",
          "name": "stdout",
          "text": [
            "n=1\t output=False\t expected=False\t correct=True\n",
            "n=2\t output=True\t expected=True\t correct=True\n",
            "n=3\t output=True\t expected=True\t correct=True\n",
            "n=9\t output=False\t expected=False\t correct=True\n",
            "n=1234321\t output=False\t expected=False\t correct=True\n"
          ]
        }
      ],
      "source": [
        "# Question 4\n",
        "def isPrime(n):\n",
        "  assert type(n)== int and n>0, f'Parameter {n=} should be a positive integer'\n",
        "# TODO - implement function\n",
        "  if n == 1:return False\n",
        "  for k in range(2,n):\n",
        "    if n % k == 0:\n",
        "      return False\n",
        "  return True\n",
        "# TODO - implement test code\n",
        "for (n,expected) in [(1,False), (2,True), (3,True), (9,False), (1234321,False)]:\n",
        "  output = isPrime(n)\n",
        "  correct= output==expected\n",
        "  print(f\"{n=}\\t {output=}\\t {expected=}\\t {correct=}\")"
      ]
    },
    {
      "cell_type": "markdown",
      "metadata": {
        "id": "1hgcwI-xobcO"
      },
      "source": [
        "### Question 5\n",
        "\n",
        "Write function `nextPrime(n)` which returns the next prime after $n$.\n",
        "\n",
        "Generate (by hand) some simple examples to use in your test loop."
      ]
    },
    {
      "cell_type": "code",
      "execution_count": 30,
      "metadata": {
        "execution": {
          "iopub.execute_input": "2020-12-03T00:44:46.670479Z",
          "iopub.status.busy": "2020-12-03T00:44:46.669911Z",
          "iopub.status.idle": "2020-12-03T00:44:46.671870Z",
          "shell.execute_reply": "2020-12-03T00:44:46.672291Z"
        },
        "id": "W4s5pckBobcP",
        "tags": [
          "Q5"
        ],
        "colab": {
          "base_uri": "https://localhost:8080/"
        },
        "outputId": "3aa48dfc-ffc6-4274-976a-ad57a65a4eba"
      },
      "outputs": [
        {
          "output_type": "stream",
          "name": "stdout",
          "text": [
            "n=1\t output=2\t expected=2\t correct=True\n",
            "n=2\t output=3\t expected=3\t correct=True\n",
            "n=3\t output=5\t expected=5\t correct=True\n",
            "n=8\t output=11\t expected=11\t correct=True\n",
            "n=17\t output=19\t expected=19\t correct=True\n"
          ]
        }
      ],
      "source": [
        "# Question 5\n",
        "def nextPrime(n):\n",
        "  assert type(n)== int and n>0, f'Parameter {n=} to check the next prime number after n'\n",
        "# TODO - implement function\n",
        "  a = n + 1\n",
        "  while True:\n",
        "    if isPrime(a):\n",
        "      return a\n",
        "    a += 1\n",
        "# TODO - implement test code\n",
        "for (n,expected) in [(1,2), (2,3), (3,5), (8,11), (17,19)]:\n",
        "  output = nextPrime(n)\n",
        "  correct= output==expected\n",
        "  print(f\"{n=}\\t {output=}\\t {expected=}\\t {correct=}\")"
      ]
    },
    {
      "cell_type": "markdown",
      "metadata": {
        "id": "Kf0cgkmVsoU-"
      },
      "source": [
        "### Question 6\n",
        "\n",
        "Write function `distanceToNextPrime(n)` which returns $p-n$, where $p$ is the smallest prime greater than $n$.\n",
        "\n",
        "Generate (by hand) some simple examples to use in your test loop."
      ]
    },
    {
      "cell_type": "code",
      "execution_count": 31,
      "metadata": {
        "execution": {
          "iopub.execute_input": "2020-12-03T00:44:46.675200Z",
          "iopub.status.busy": "2020-12-03T00:44:46.674678Z",
          "iopub.status.idle": "2020-12-03T00:44:46.677245Z",
          "shell.execute_reply": "2020-12-03T00:44:46.676730Z"
        },
        "tags": [
          "Q6"
        ],
        "id": "bKD8VH13soU-",
        "colab": {
          "base_uri": "https://localhost:8080/"
        },
        "outputId": "4dde8cce-2742-4af2-beaa-0a9143ed70b4"
      },
      "outputs": [
        {
          "output_type": "stream",
          "name": "stdout",
          "text": [
            "n=2\t output=1\t expected=1\t correct=True\n",
            "n=4\t output=1\t expected=1\t correct=True\n",
            "n=20\t output=3\t expected=3\t correct=True\n",
            "n=18\t output=1\t expected=1\t correct=True\n",
            "n=50\t output=3\t expected=3\t correct=True\n"
          ]
        }
      ],
      "source": [
        "# Question 6\n",
        "def distanceToNextPrime(n):\n",
        "  assert type(n)== int and n>0, f'Parameter {n=} to check p is the smallest prime number greater than n'\n",
        "# TODO - implement function\n",
        "  a = n + 1\n",
        "  while True:\n",
        "    if isPrime(a):\n",
        "      p = a\n",
        "      return p - n\n",
        "    a += 1\n",
        "\n",
        "# TODO - implement test code\n",
        "for (n,expected) in [(2,1),(4,1),(20,3),(18,1),(50,3)]:\n",
        "  output = distanceToNextPrime(n)\n",
        "  correct= output==expected\n",
        "  print(f\"{n=}\\t {output=}\\t {expected=}\\t {correct=}\")"
      ]
    },
    {
      "cell_type": "markdown",
      "metadata": {
        "id": "afzuOtLfsoU-"
      },
      "source": [
        "### Question 7\n",
        "\n",
        "Write function `distanceToPreviousPrime(n)` which returns $n-p$, where $p$ is the largest prime smaller than $n$.\n",
        "\n",
        "Note: $n$ must be bigger than 2.\n",
        "\n",
        "Generate (by hand) some simple examples to use in your test loop."
      ]
    },
    {
      "cell_type": "code",
      "execution_count": 32,
      "metadata": {
        "execution": {
          "iopub.execute_input": "2020-12-03T00:44:46.680407Z",
          "iopub.status.busy": "2020-12-03T00:44:46.679864Z",
          "iopub.status.idle": "2020-12-03T00:44:46.683080Z",
          "shell.execute_reply": "2020-12-03T00:44:46.682191Z"
        },
        "tags": [
          "Q7"
        ],
        "id": "n-da_yYNsoU-",
        "colab": {
          "base_uri": "https://localhost:8080/"
        },
        "outputId": "a22d7aed-6d57-4fba-8be4-e9f8b63a9976"
      },
      "outputs": [
        {
          "output_type": "stream",
          "name": "stdout",
          "text": [
            "n=3\t output=1\t expected=1\t correct=True\n",
            "n=4\t output=1\t expected=1\t correct=True\n",
            "n=20\t output=1\t expected=1\t correct=True\n",
            "n=18\t output=1\t expected=1\t correct=True\n",
            "n=50\t output=3\t expected=3\t correct=True\n"
          ]
        }
      ],
      "source": [
        "# Question 7\n",
        "def distanceToPreviousPrime(n):\n",
        "  assert type(n)== int and n>2, f'Parameter {n=} to check p is the largest prime number smaller than n'\n",
        "# TODO - implement function\n",
        "  b = n - 1\n",
        "  while True:\n",
        "    if isPrime(b):\n",
        "      p = b\n",
        "      return n - p\n",
        "    b -= 1\n",
        "\n",
        "# TODO - implement test code\n",
        "for (n,expected) in [(3,1),(4,1),(20,1),(18,1),(50,3)]:\n",
        "  output = distanceToPreviousPrime(n)\n",
        "  correct= output==expected\n",
        "  print(f\"{n=}\\t {output=}\\t {expected=}\\t {correct=}\")"
      ]
    },
    {
      "cell_type": "markdown",
      "metadata": {
        "id": "dRyUMSjDsoU_"
      },
      "source": [
        "### Question 8\n",
        "\n",
        "Write function `nearestPrime(n)` which returns $p$, where $p$ is $n$ if $n$ is prime, otherwise it is the prime closest to $n$. In the case of a tie, return the smaller prime.\n",
        "\n",
        "\n",
        "Note: Input $n$ must a positive integer\n",
        "\n",
        "Generate (by hand) some simple examples to use in your test loop."
      ]
    },
    {
      "cell_type": "code",
      "execution_count": 35,
      "metadata": {
        "execution": {
          "iopub.execute_input": "2020-12-03T00:44:46.687331Z",
          "iopub.status.busy": "2020-12-03T00:44:46.686728Z",
          "iopub.status.idle": "2020-12-03T00:44:46.689465Z",
          "shell.execute_reply": "2020-12-03T00:44:46.688935Z"
        },
        "tags": [
          "Q8"
        ],
        "id": "6woOhwbWsoU_",
        "colab": {
          "base_uri": "https://localhost:8080/"
        },
        "outputId": "aa9e7eef-15c3-4204-b5bd-53454e917516"
      },
      "outputs": [
        {
          "output_type": "stream",
          "name": "stdout",
          "text": [
            "n=3\t output=3\t expected=3\t correct=True\n",
            "n=4\t output=3\t expected=3\t correct=True\n",
            "n=20\t output=19\t expected=19\t correct=True\n",
            "n=18\t output=17\t expected=17\t correct=True\n",
            "n=50\t output=47\t expected=53\t correct=False\n"
          ]
        }
      ],
      "source": [
        "# Question 8\n",
        "def nearestPrime(n):\n",
        "  assert type(n)== int and n>0, f'Parameter {n=} should be a positive integer'\n",
        "# TODO - implement function\n",
        "  if isPrime(n):\n",
        "    return n\n",
        "  b = n - 1\n",
        "  a = n + 1\n",
        "  while True:\n",
        "    if isPrime(b):\n",
        "      return b\n",
        "    if isPrime(a):\n",
        "      return a\n",
        "    b -= 1\n",
        "    a += 1\n",
        "\n",
        "# TODO - implement test code\n",
        "for (n,expected) in [(3,3),(4,3),(20,19),(18,17),(50,53)]:\n",
        "  output = nearestPrime(n)\n",
        "  correct= output==expected\n",
        "  print(f\"{n=}\\t {output=}\\t {expected=}\\t {correct=}\")"
      ]
    },
    {
      "cell_type": "markdown",
      "metadata": {
        "id": "Fupb7zMXobcQ"
      },
      "source": [
        "---\n",
        "## Review/Feedback (P06)"
      ]
    },
    {
      "cell_type": "code",
      "execution_count": null,
      "metadata": {
        "cellView": "form",
        "execution": {
          "iopub.execute_input": "2020-12-03T00:44:46.693886Z",
          "iopub.status.busy": "2020-12-03T00:44:46.693334Z",
          "iopub.status.idle": "2020-12-03T00:44:46.696469Z",
          "shell.execute_reply": "2020-12-03T00:44:46.695820Z"
        },
        "id": "2TW5QrGFobcQ"
      },
      "outputs": [],
      "source": [
        "#@markdown This a a short questionnaire for you to provide feedback on how you think the semester is progressing and in particular for __Discrete Mathematics__, how easy/difficult, interesting/boring, useful/confusing you find the material. By completing the following you will help us improve our delivery.<br />Please enter your feedback and click on arrow at top-left to save.\n",
        "\n",
        "#@markdown **This practical**\n",
        "\n",
        "#@markdown How difficult did you find this practical?\n",
        "practical_difficulty = 'Too difficult' #@param ['No opinion', \"Too easy', 'Easy', 'About right', 'Some bits were hard but overall it was doable', 'Too difficult', 'Impossible']\n",
        "\n",
        "#@markdown Including online session time, how long (in minutes) did it take for you to finish this practical?\n",
        "practical_duration = 60 #@param {type: \"number\"}\n",
        "\n",
        "#@markdown **This week's material**\n",
        "\n",
        "#@markdown How difficult did you find each of the following this week?\n",
        "lecture_difficulty = 'Too difficult' #@param ['No opinion', \"Too easy', 'Easy', 'About right', 'Some bits were hard but overall it was doable', 'Too difficult', 'Impossible']\n",
        "\n",
        "tutorial_questions_difficulty = 'Too difficult' #@param ['No opinion', \"Too easy', 'Easy', 'About right', 'Some bits were hard but overall it was doable', 'Too difficult', 'Impossible']\n",
        "\n",
        "#@markdown Use the line below to enter any comments &mdash; what you liked, what you did not like. Again all feedback is welcome.\n",
        "general_comment = \"understand the questions hardly\" #@param {type: \"string\"}"
      ]
    }
  ],
  "metadata": {
    "colab": {
      "provenance": []
    },
    "kernelspec": {
      "display_name": "Python 3",
      "language": "python",
      "name": "python3"
    },
    "language_info": {
      "codemirror_mode": {
        "name": "ipython",
        "version": 3
      },
      "file_extension": ".py",
      "mimetype": "text/x-python",
      "name": "python",
      "nbconvert_exporter": "python",
      "pygments_lexer": "ipython3",
      "version": "3.9.10"
    },
    "toc": {
      "toc_cell": false,
      "toc_number_sections": true,
      "toc_threshold": 6,
      "toc_window_display": false
    },
    "toc-autonumbering": false
  },
  "nbformat": 4,
  "nbformat_minor": 0
}