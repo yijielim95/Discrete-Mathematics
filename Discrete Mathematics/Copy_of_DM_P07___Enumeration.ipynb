{
  "cells": [
    {
      "cell_type": "markdown",
      "metadata": {
        "id": "Dajafvz5obcM",
        "label": "title"
      },
      "source": [
        "# Practical 07 - Enumeration"
      ]
    },
    {
      "cell_type": "markdown",
      "metadata": {
        "id": "dGUHvpDUobcN",
        "label": "setup"
      },
      "source": [
        "## Setup"
      ]
    },
    {
      "cell_type": "code",
      "execution_count": 7,
      "metadata": {
        "cellView": "form",
        "execution": {
          "iopub.execute_input": "2020-12-09T15:42:29.982255Z",
          "iopub.status.busy": "2020-12-09T15:42:29.981490Z",
          "iopub.status.idle": "2020-12-09T15:42:29.983917Z",
          "shell.execute_reply": "2020-12-09T15:42:29.984737Z"
        },
        "id": "CXsnfskuobcN",
        "label": "bio"
      },
      "outputs": [],
      "source": [
        "#@markdown **Please enter your following details and press Shift-Enter to save:**\n",
        "your_student_number = '20104720' #@param {type: \"string\"}\n",
        "your_name = 'Yi Jie Lim' #@param {type: \"string\"}"
      ]
    },
    {
      "cell_type": "code",
      "execution_count": 8,
      "metadata": {
        "execution": {
          "iopub.execute_input": "2020-12-09T15:42:29.993133Z",
          "iopub.status.busy": "2020-12-09T15:42:29.991762Z",
          "iopub.status.idle": "2020-12-09T15:42:33.917889Z",
          "shell.execute_reply": "2020-12-09T15:42:33.917207Z"
        },
        "id": "gI-1sOMPobcN",
        "label": "setup",
        "outputId": "28a43f34-815f-4be0-b406-794a5fe358ee",
        "colab": {
          "base_uri": "https://localhost:8080/",
          "height": 34
        }
      },
      "outputs": [
        {
          "output_type": "execute_result",
          "data": {
            "text/plain": [
              "<IPython.core.display.HTML object>"
            ],
            "text/html": [
              "<style>\n",
              "\n",
              "\n",
              "\n",
              "/* counting headers and my styling */\n",
              "\n",
              ".navbar-collapse.collapse {\n",
              "display: block!important;\n",
              "}\n",
              "\n",
              ".navbar-nav>li, .navbar-nav {\n",
              "float: left !important;\n",
              "}\n",
              "\n",
              ".navbar-nav.navbar-right:last-child {\n",
              "margin-right: -15px !important;\n",
              "}\n",
              "\n",
              ".navbar-right {\n",
              "float: right!important;\n",
              "}\n",
              "\n",
              "#notebook_name {\n",
              "    font-weight: 600;\n",
              "}\n",
              "\n",
              "h1 {\n",
              "\ttext-align: center;\n",
              "\tbackground-color: rgba(0,255,1,0.15);\n",
              "\tborder-bottom: 1px solid #cccccc;\n",
              "\tcounter-reset: h2counter;\t\n",
              "}\n",
              "\n",
              "h2 {\n",
              "\ttext-align: center;\n",
              "\twidth: 75%;\n",
              "\tmargin-left: 25%;\n",
              "\tbackground-color: rgba(255,255,1,0.15);\n",
              "\tborder-bottom: 1px solid #cccccc;\n",
              "\tcounter-reset: h3counter;\t\n",
              "}\n",
              "h2:before {\n",
              "\tcounter-increment: h2counter;\n",
              "}\n",
              "\n",
              "h3 {\n",
              "\tborder-bottom: 1px solid #cccccc;\t\n",
              "}\n",
              "h3:before {\n",
              "\tcounter-increment: h3counter;\n",
              "}\n",
              "\n",
              "h4 {\n",
              "\tborder-bottom: 1px solid #cccccc;\t\n",
              "}\n",
              "h4:before {\n",
              "\tcounter-increment: h4counter;\n",
              "}\n",
              " </style>Python practical setup tools version 23.2. See <a target=\"_blank\" href=\"https://setu-discretemathematics.github.io/live/00-Module_Introduction/33-Python_Practicals\">https://setu-discretemathematics.github.io/live/00-Module_Introduction/33-Python_Practicals</a>"
            ]
          },
          "metadata": {},
          "execution_count": 8
        }
      ],
      "source": [
        "# setup magic, do not edit this cell! Just press Shift+Enter or click on arrow at top-left\n",
        "\n",
        "import urllib.request\n",
        "content = urllib.request.urlretrieve (\"https://setu-discretemathematics.github.io/live/files/setup_practical_magic.py\")\n",
        "exec(open(content[0]).read())\n",
        "setup_practical(locals(),_ih)"
      ]
    },
    {
      "cell_type": "markdown",
      "metadata": {
        "id": "gIumxI6cobcN",
        "label": "Introduction"
      },
      "source": [
        "---\n",
        "## Introduction\n",
        "\n",
        "In this practical we will review enumeration concepts using python."
      ]
    },
    {
      "cell_type": "markdown",
      "metadata": {
        "id": "0vNLy3ZBobcO"
      },
      "source": [
        "### Python Concepts\n",
        "\n",
        " * Enumeration module `itertools`\n",
        " * Converting a list of characters to a string using `\"\".join`.\n",
        " * Converting data from `str` to `int`."
      ]
    },
    {
      "cell_type": "markdown",
      "metadata": {
        "id": "HL31e30KobcO"
      },
      "source": [
        "---\n",
        "## Enumeration\n",
        "\n",
        "The python module `itertools` has functions to support the generation of permutations and combinations.\n",
        "\n",
        "First import the module (and give it a nickname to simplify using it later)\n",
        "\n",
        "~~~python\n",
        "import itertools as its\n",
        "~~~\n",
        "\n",
        "Now all functions in `itertools` can be accessed, for example, generate all permutations of the letters in the string \"NOon\" you type.\n",
        "\n",
        "~~~python\n",
        "ans = its.permutations(\"NOon\")\n",
        "~~~\n",
        "*Note: `ans` is a `generator`, and is not a `list` or a `set`. So to determine length we need to convert it to a `list` or a `set` (if we are interested in number of unique permutations).*\n",
        "\n",
        "So to convert this to a list of lists we use\n",
        "\n",
        "~~~python\n",
        "list(ans)\n",
        "~~~   \n",
        "or\n",
        "~~~python\n",
        "[it for it in ans]\n",
        "~~~\n",
        "And to convert back to a list of \"words\" we use the string method `join` as in\n",
        "\n",
        "~~~python\n",
        "[\"\".join(it) for it in ans]\n",
        "~~~"
      ]
    },
    {
      "cell_type": "markdown",
      "metadata": {
        "id": "miGSbNwvobcO"
      },
      "source": [
        "---\n",
        "### Question 1\n",
        "\n",
        "Write code to generate the distinct permutations of the letters in __\"dog\"__. Then:\n",
        "\n",
        " * Output the distinct permutations.\n",
        " * Output the number of distinct permutations.\n",
        "\n",
        "Hint: use the string method `join` to convert each permutation into a string.\n"
      ]
    },
    {
      "cell_type": "code",
      "execution_count": 14,
      "metadata": {
        "tags": [
          "Q1"
        ],
        "id": "c-255lpQdRXa",
        "colab": {
          "base_uri": "https://localhost:8080/"
        },
        "outputId": "7b72df25-e80b-47fa-ec96-e01bd67fce82"
      },
      "outputs": [
        {
          "output_type": "stream",
          "name": "stdout",
          "text": [
            "['dog', 'dgo', 'odg', 'ogd', 'gdo', 'god']\n"
          ]
        }
      ],
      "source": [
        "# Question 1\n",
        "import itertools as its\n",
        "ans = its.permutations(\"dog\")\n",
        "ans = [''.join(item) for item in ans]\n",
        "print(ans)"
      ]
    },
    {
      "cell_type": "markdown",
      "metadata": {
        "id": "2zefw35-dRXa"
      },
      "source": [
        "**Dealing with Duplicates**\n",
        "\n",
        "The next question is identical to **Question 1** but the string now has duplicate characters, so we now need to worry about duplicates in our permutations.  If the original string has duplicate characters then the generated permutations will contain duplicates. In this case convert permutations to a `set` before you do things like get its length.\n",
        "\n",
        "*Note:  What is the difference between converting the original string to a set before generating the permutations versus converting the generated permutations to a set?*"
      ]
    },
    {
      "cell_type": "markdown",
      "metadata": {
        "id": "ZrDerBshdRXa"
      },
      "source": [
        "### Question 2\n",
        "\n",
        "Write code to generate the distinct permutations of the letters in __\"dad\"__. Then:\n",
        "\n",
        " * Output the number of distinct permutations.\n",
        " * Output the distinct permutations.\n",
        "\n",
        "Hint: use the string method `join` to convert each permutation into a string.\n"
      ]
    },
    {
      "cell_type": "code",
      "execution_count": 15,
      "metadata": {
        "execution": {
          "iopub.execute_input": "2020-12-09T15:42:33.966926Z",
          "iopub.status.busy": "2020-12-09T15:42:33.966394Z",
          "iopub.status.idle": "2020-12-09T15:42:33.968845Z",
          "shell.execute_reply": "2020-12-09T15:42:33.968311Z"
        },
        "tags": [
          "Q2"
        ],
        "id": "fw8BKrnkdRXa",
        "colab": {
          "base_uri": "https://localhost:8080/"
        },
        "outputId": "5c0a7ea8-6a66-4977-f353-883816bb3d9a"
      },
      "outputs": [
        {
          "output_type": "stream",
          "name": "stdout",
          "text": [
            "['dad', 'dda', 'add', 'add', 'dda', 'dad']\n"
          ]
        }
      ],
      "source": [
        "# Question 2\n",
        "import itertools as its\n",
        "ans = its.permutations(\"dad\")\n",
        "ans = [''.join(item) for item in ans]\n",
        "print(ans)"
      ]
    },
    {
      "cell_type": "markdown",
      "metadata": {
        "id": "mA78GLfNdRXa"
      },
      "source": [
        "**Taking only some of the objects**\n",
        "\n",
        "If you want permutations of only some of the objects (characters) you specify the second parameter. For example,\n",
        "\n",
        "~~~python\n",
        "ans = its.permutations(\"DM is Easy\")\n",
        "~~~\n",
        "generates permutations of __\"DM is Easy\"__ taking ALL characters, while\n",
        "\n",
        "~~~python\n",
        "ans = its.permutations(\"DM is Easy\", 2)\n",
        "~~~\n",
        "\n",
        "generates permutations of letters in __\"DM is Easy\"__ taking 2 characters at a time."
      ]
    },
    {
      "cell_type": "markdown",
      "metadata": {
        "id": "1hgcwI-xobcO"
      },
      "source": [
        "### Question 3\n",
        "\n",
        "Write code to generate the permutations of the letters in __\"abcde\"__ taking 3 letters at a time.\n",
        "Then:\n",
        "\n",
        " * Output the number of distinct permutations.\n",
        " * Output the distinct permutations.\n"
      ]
    },
    {
      "cell_type": "code",
      "execution_count": 16,
      "metadata": {
        "execution": {
          "iopub.execute_input": "2020-12-09T15:42:33.976777Z",
          "iopub.status.busy": "2020-12-09T15:42:33.976266Z",
          "iopub.status.idle": "2020-12-09T15:42:33.978556Z",
          "shell.execute_reply": "2020-12-09T15:42:33.978136Z"
        },
        "id": "W4s5pckBobcP",
        "tags": [
          "Q3"
        ],
        "colab": {
          "base_uri": "https://localhost:8080/"
        },
        "outputId": "621b574a-694d-40a3-c463-3b17fae86ecb"
      },
      "outputs": [
        {
          "output_type": "stream",
          "name": "stdout",
          "text": [
            "['abc', 'abd', 'abe', 'acb', 'acd', 'ace', 'adb', 'adc', 'ade', 'aeb', 'aec', 'aed', 'bac', 'bad', 'bae', 'bca', 'bcd', 'bce', 'bda', 'bdc', 'bde', 'bea', 'bec', 'bed', 'cab', 'cad', 'cae', 'cba', 'cbd', 'cbe', 'cda', 'cdb', 'cde', 'cea', 'ceb', 'ced', 'dab', 'dac', 'dae', 'dba', 'dbc', 'dbe', 'dca', 'dcb', 'dce', 'dea', 'deb', 'dec', 'eab', 'eac', 'ead', 'eba', 'ebc', 'ebd', 'eca', 'ecb', 'ecd', 'eda', 'edb', 'edc']\n"
          ]
        }
      ],
      "source": [
        "# Question 3\n",
        "import itertools as its\n",
        "ans = its.permutations(\"abcde\",3)\n",
        "ans = [''.join(item) for item in ans]\n",
        "print(ans)"
      ]
    },
    {
      "cell_type": "markdown",
      "metadata": {
        "id": "-e3oh1-sdRXb"
      },
      "source": [
        "### Question 4\n",
        "\n",
        "How many of the permutations of all of the digits 0123456789 are prime numbers?\n",
        "\n",
        "You could:\n",
        "\n",
        " * Start with the string \"0123456789\" and generate permutations.\n",
        " * Convert generated permutations, first into a string (using `join`) then an integer using `int`.\n",
        " * Use your `isPrime` function from last week to check if `n` is prime."
      ]
    },
    {
      "cell_type": "code",
      "execution_count": 32,
      "metadata": {
        "tags": [
          "Q4"
        ],
        "id": "L8MVykDzdRXb",
        "colab": {
          "base_uri": "https://localhost:8080/"
        },
        "outputId": "d83ef726-c156-41b6-967a-e460f28a6aaa"
      },
      "outputs": [
        {
          "output_type": "stream",
          "name": "stdout",
          "text": [
            "Numbers of prime numbers:  0\n"
          ]
        }
      ],
      "source": [
        "# Question 4\n",
        "def isPrime(n):\n",
        "  if n <= 1:\n",
        "    return False\n",
        "  for k in range(2,n):\n",
        "    if n % k == 0:return False\n",
        "  return True\n",
        "count = 0\n",
        "for item in its.permutations('0123456789'):\n",
        "  n = int(''.join(item))\n",
        "  if isPrime(n):\n",
        "    count += 1\n",
        "  print(item,n,isPrime(n))\n",
        "print('Numbers of prime numbers: ', count)"
      ]
    },
    {
      "cell_type": "markdown",
      "metadata": {
        "id": "rhXQpDucdRXb"
      },
      "source": [
        "---\n",
        "## Harder & Optional Questions\n",
        "\n",
        "The following questions are optional and do not count towards your CA. But, if you are interested, feel free to try them.\n",
        "\n",
        "_\"The only attitude that can absolve us when we do something apparently useless is to intensely love what we do.\"_ &mdash; Oscar Wilde"
      ]
    },
    {
      "cell_type": "markdown",
      "metadata": {
        "id": "6BQWmqUwdRXb"
      },
      "source": [
        "### Question A\n",
        "\n",
        "Given $n$ integer, write a function to generate all combinations of __well-formed parentheses__ from a string of $n$ pairs of parentheses.\n",
        "\n",
        "For example, if given $n=3$ we have string __\"()()()\"__, and the set of permutations with __well-formed parentheses__ is\n",
        "\n",
        "$$\n",
        "\\{ \"((()))\",\\quad \"(()())\",\\quad \"(())()\",\\quad \"()(())\",\\quad \"()()()\"\\}\n",
        "$$\n",
        "\n",
        "__Well-formed parentheses__ means that:\n",
        " * The number of open (left) and closing (right) parentheses match. (This will be true for all permutations if true at start.)\n",
        " * When reading from left to right, the number of open parentheses is always greater or equal to the number of closing parentheses.\n",
        "\n",
        "Note:\n",
        " * If given an integer, $n$, we can generate $n$ pairs of parentheses in python using `\"()\" * n`"
      ]
    },
    {
      "cell_type": "code",
      "execution_count": null,
      "metadata": {
        "execution": {
          "iopub.execute_input": "2020-12-09T15:42:33.982438Z",
          "iopub.status.busy": "2020-12-09T15:42:33.981912Z",
          "iopub.status.idle": "2020-12-09T15:42:33.984188Z",
          "shell.execute_reply": "2020-12-09T15:42:33.983653Z"
        },
        "tags": [
          "QA"
        ],
        "id": "_sgeoTQFdRXb"
      },
      "outputs": [],
      "source": [
        "# Question A"
      ]
    },
    {
      "cell_type": "markdown",
      "metadata": {
        "id": "Fupb7zMXobcQ"
      },
      "source": [
        "---\n",
        "## Review/Feedback (P07)"
      ]
    },
    {
      "cell_type": "code",
      "execution_count": 33,
      "metadata": {
        "cellView": "form",
        "execution": {
          "iopub.execute_input": "2020-12-09T15:42:33.994006Z",
          "iopub.status.busy": "2020-12-09T15:42:33.993446Z",
          "iopub.status.idle": "2020-12-09T15:42:33.996456Z",
          "shell.execute_reply": "2020-12-09T15:42:33.995595Z"
        },
        "id": "2TW5QrGFobcQ"
      },
      "outputs": [],
      "source": [
        "#@markdown This a a short questionnaire for you to provide feedback on how you think the semester is progressing and in particular for __Discrete Mathematics__, how easy/difficult, interesting/boring, useful/confusing you find the material. By completing the following you will help us improve our delivery.<br />Please enter your feedback and click on arrow at top-left to save.\n",
        "\n",
        "#@markdown **This practical**\n",
        "\n",
        "#@markdown How difficult did you find this practical?\n",
        "practical_difficulty = 'About right' #@param ['No opinion', \"Too easy', 'Easy', 'About right', 'Some bits were hard but overall it was doable', 'Too difficult', 'Impossible']\n",
        "\n",
        "#@markdown Including online session time, how long (in minutes) did it take for you to finish this practical?\n",
        "practical_duration = 45 #@param {type: \"number\"}\n",
        "\n",
        "#@markdown **This week's material**\n",
        "\n",
        "#@markdown How difficult did you find each of the following this week?\n",
        "lecture_difficulty = 'About right' #@param ['No opinion', \"Too easy', 'Easy', 'About right', 'Some bits were hard but overall it was doable', 'Too difficult', 'Impossible']\n",
        "\n",
        "tutorial_questions_difficulty = 'About right' #@param ['No opinion', \"Too easy', 'Easy', 'About right', 'Some bits were hard but overall it was doable', 'Too difficult', 'Impossible']\n",
        "\n",
        "#@markdown Use the line below to enter any comments &mdash; what you liked, what you did not like. Again all feedback is welcome.\n",
        "general_comment = \"\" #@param {type: \"string\"}"
      ]
    }
  ],
  "metadata": {
    "colab": {
      "provenance": []
    },
    "kernelspec": {
      "display_name": "Python 3",
      "language": "python",
      "name": "python3"
    },
    "language_info": {
      "codemirror_mode": {
        "name": "ipython",
        "version": 3
      },
      "file_extension": ".py",
      "mimetype": "text/x-python",
      "name": "python",
      "nbconvert_exporter": "python",
      "pygments_lexer": "ipython3",
      "version": "3.9.10"
    },
    "toc": {
      "toc_cell": false,
      "toc_number_sections": true,
      "toc_threshold": 6,
      "toc_window_display": false
    },
    "toc-autonumbering": false
  },
  "nbformat": 4,
  "nbformat_minor": 0
}