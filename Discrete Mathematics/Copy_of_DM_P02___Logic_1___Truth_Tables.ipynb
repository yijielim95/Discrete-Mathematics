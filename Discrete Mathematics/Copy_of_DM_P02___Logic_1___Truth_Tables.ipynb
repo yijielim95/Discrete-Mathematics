{
  "cells": [
    {
      "cell_type": "markdown",
      "metadata": {
        "id": "a3fCQB52Vsr5"
      },
      "source": [
        "# Practical 02 - Logic 1 (Truth tables)"
      ]
    },
    {
      "cell_type": "markdown",
      "metadata": {
        "id": "MI7jDjgIVsr6"
      },
      "source": [
        "## Setup"
      ]
    },
    {
      "cell_type": "code",
      "execution_count": 27,
      "metadata": {
        "cellView": "form",
        "id": "A_u9vZ6tV6ql"
      },
      "outputs": [],
      "source": [
        "#@markdown **Please enter your following details and press Shift-Enter to save:**\n",
        "your_student_number = '20104720' #@param {type: \"string\"}\n",
        "your_name = 'Yi Jie Lim' #@param {type: \"string\"}"
      ]
    },
    {
      "cell_type": "code",
      "execution_count": 28,
      "metadata": {
        "id": "wtgipwkAV-v9",
        "colab": {
          "base_uri": "https://localhost:8080/",
          "height": 34
        },
        "outputId": "88ecabc0-fbb0-493f-802a-839f59a2fd23"
      },
      "outputs": [
        {
          "output_type": "execute_result",
          "data": {
            "text/plain": [
              "<IPython.core.display.HTML object>"
            ],
            "text/html": [
              "<style>\n",
              "\n",
              "\n",
              "\n",
              "/* counting headers and my styling */\n",
              "\n",
              ".navbar-collapse.collapse {\n",
              "display: block!important;\n",
              "}\n",
              "\n",
              ".navbar-nav>li, .navbar-nav {\n",
              "float: left !important;\n",
              "}\n",
              "\n",
              ".navbar-nav.navbar-right:last-child {\n",
              "margin-right: -15px !important;\n",
              "}\n",
              "\n",
              ".navbar-right {\n",
              "float: right!important;\n",
              "}\n",
              "\n",
              "#notebook_name {\n",
              "    font-weight: 600;\n",
              "}\n",
              "\n",
              "h1 {\n",
              "\ttext-align: center;\n",
              "\tbackground-color: rgba(0,255,1,0.15);\n",
              "\tborder-bottom: 1px solid #cccccc;\n",
              "\tcounter-reset: h2counter;\t\n",
              "}\n",
              "\n",
              "h2 {\n",
              "\ttext-align: center;\n",
              "\twidth: 75%;\n",
              "\tmargin-left: 25%;\n",
              "\tbackground-color: rgba(255,255,1,0.15);\n",
              "\tborder-bottom: 1px solid #cccccc;\n",
              "\tcounter-reset: h3counter;\t\n",
              "}\n",
              "h2:before {\n",
              "\tcounter-increment: h2counter;\n",
              "}\n",
              "\n",
              "h3 {\n",
              "\tborder-bottom: 1px solid #cccccc;\t\n",
              "}\n",
              "h3:before {\n",
              "\tcounter-increment: h3counter;\n",
              "}\n",
              "\n",
              "h4 {\n",
              "\tborder-bottom: 1px solid #cccccc;\t\n",
              "}\n",
              "h4:before {\n",
              "\tcounter-increment: h4counter;\n",
              "}\n",
              " </style>Python practical setup tools version 23.2. See <a target=\"_blank\" href=\"https://setu-discretemathematics.github.io/live/00-Module_Introduction/33-Python_Practicals\">https://setu-discretemathematics.github.io/live/00-Module_Introduction/33-Python_Practicals</a>"
            ]
          },
          "metadata": {},
          "execution_count": 28
        }
      ],
      "source": [
        "# setup magic, do not edit this cell! Just press Shift+Enter or click on arrow at top-left\n",
        "\n",
        "import urllib.request\n",
        "content = urllib.request.urlretrieve (\"https://setu-discretemathematics.github.io/live/files/setup_practical_magic.py\")\n",
        "exec(open(content[0]).read())\n",
        "setup_practical(locals(),_ih)"
      ]
    },
    {
      "cell_type": "markdown",
      "metadata": {
        "id": "P9Ik45HRVssK"
      },
      "source": [
        "---\n",
        "## Introduction\n",
        "\n",
        "In this practical we will\n",
        "\n",
        "  * Demonstrate the Python implementation of the logical connectives that we covered in lectures,\n",
        "  * Use Python to build the (easy but boring and error-prone) truth tables.\n",
        "  * Use truth table to check expressions."
      ]
    },
    {
      "cell_type": "markdown",
      "metadata": {
        "id": "iM-VM_-Bdq-L"
      },
      "source": [
        "### Mathematics Concepts\n",
        "\n",
        " * Propositions\n",
        " * Fundamental logical connectives __not__, __and__, and __or__.\n",
        " * Satisfiability, tautologies and contradictions.\n",
        " * Logical equivalent expressions.\n"
      ]
    },
    {
      "cell_type": "markdown",
      "metadata": {
        "id": "1qGHTUHCVssL"
      },
      "source": [
        "### Python Concepts\n",
        "\n",
        " * Logical operators `not`, `and`, and `or`.\n",
        " * Command `TruthTable` to build a truth table of an expression.\n",
        "---\n"
      ]
    },
    {
      "cell_type": "markdown",
      "metadata": {
        "id": "zSmNMORPVssM"
      },
      "source": [
        "## Boolean Values and Expressions\n",
        "\n",
        "A Boolean value is either `True` or `False`. It is named after the British mathematician, [George Boole](https://en.wikipedia.org/wiki/George_Boole), who first formulated Boolean algebra &mdash; a set of  rules for reasoning about and combining `True` \\ `False` statements. This is the basis of all modern computer logic.\n",
        "\n",
        "In Python, the two Boolean values are __True__ and __False__ (Note: The capitalization must be exactly as shown. This differs from processing/java which both used lower case.), and the Python type is __bool__."
      ]
    },
    {
      "cell_type": "code",
      "execution_count": 29,
      "metadata": {
        "id": "vhT4tMdCVssN",
        "colab": {
          "base_uri": "https://localhost:8080/"
        },
        "outputId": "3e98e619-a696-4909-acae-ca0145ccc76a"
      },
      "outputs": [
        {
          "output_type": "execute_result",
          "data": {
            "text/plain": [
              "bool"
            ]
          },
          "metadata": {},
          "execution_count": 29
        }
      ],
      "source": [
        "type(True)"
      ]
    },
    {
      "cell_type": "code",
      "execution_count": 30,
      "metadata": {
        "id": "_4Z4Kf9uVssQ",
        "colab": {
          "base_uri": "https://localhost:8080/"
        },
        "outputId": "8d528540-93ce-4bf1-ec10-85ab52cbe77a"
      },
      "outputs": [
        {
          "output_type": "execute_result",
          "data": {
            "text/plain": [
              "bool"
            ]
          },
          "metadata": {},
          "execution_count": 30
        }
      ],
      "source": [
        "type(False)"
      ]
    },
    {
      "cell_type": "markdown",
      "metadata": {
        "id": "luybwjamVssT"
      },
      "source": [
        "In Python __False__ and __True__, map to __0__ and __1__ respectively."
      ]
    },
    {
      "cell_type": "code",
      "execution_count": 31,
      "metadata": {
        "id": "2738tHwWVssT",
        "colab": {
          "base_uri": "https://localhost:8080/"
        },
        "outputId": "35c59e04-c1ef-40d5-899c-7f10ad52bb12"
      },
      "outputs": [
        {
          "output_type": "execute_result",
          "data": {
            "text/plain": [
              "1"
            ]
          },
          "metadata": {},
          "execution_count": 31
        }
      ],
      "source": [
        "int(True)"
      ]
    },
    {
      "cell_type": "code",
      "execution_count": 32,
      "metadata": {
        "id": "xF2e43TnexoG",
        "colab": {
          "base_uri": "https://localhost:8080/"
        },
        "outputId": "330a989d-1173-402f-e921-bf528e2fc956"
      },
      "outputs": [
        {
          "output_type": "execute_result",
          "data": {
            "text/plain": [
              "0"
            ]
          },
          "metadata": {},
          "execution_count": 32
        }
      ],
      "source": [
        "int(False)"
      ]
    },
    {
      "cell_type": "markdown",
      "metadata": {
        "id": "expO9yRqfVi4"
      },
      "source": [
        "In arithmetic expressions involving `bool`s and and `int`s, the `bool`s are automatically converted to `int`. For example"
      ]
    },
    {
      "cell_type": "code",
      "execution_count": 33,
      "metadata": {
        "id": "6mvGKuFaVssW",
        "colab": {
          "base_uri": "https://localhost:8080/"
        },
        "outputId": "11834404-a734-4936-8624-0b8c06162fc0"
      },
      "outputs": [
        {
          "output_type": "execute_result",
          "data": {
            "text/plain": [
              "2"
            ]
          },
          "metadata": {},
          "execution_count": 33
        }
      ],
      "source": [
        "True + 1"
      ]
    },
    {
      "cell_type": "markdown",
      "metadata": {
        "id": "g4D8leSOVssY"
      },
      "source": [
        "A __Boolean expression__ is an expression that evaluates to produce a result which is a Boolean value. For example, the operator == tests if two values are equal. It produces (or yields) a Boolean value.\n",
        "\n",
        "Note\n",
        "\n",
        " * Unlike in mathematica where we use \"$=$\" for both assignment and testing in most programming languages we use two different symbols. In python (and in processing and in java) we use\n",
        "   * \"`='\" for assignment.\n",
        "   * \"`=='\" for testing for equality.\n",
        "   \n",
        " * Also we use \"`!=`\" for testing \"not equal to\"."
      ]
    },
    {
      "cell_type": "code",
      "execution_count": 34,
      "metadata": {
        "id": "7JbwdfrOVssY",
        "colab": {
          "base_uri": "https://localhost:8080/"
        },
        "outputId": "d8df434d-0ccf-4849-e8e4-cadc0352c0e2"
      },
      "outputs": [
        {
          "output_type": "execute_result",
          "data": {
            "text/plain": [
              "True"
            ]
          },
          "metadata": {},
          "execution_count": 34
        }
      ],
      "source": [
        "5 == (3 + 2)   # Is five equal 5 to the result of 3 + 2?"
      ]
    },
    {
      "cell_type": "code",
      "execution_count": 35,
      "metadata": {
        "id": "JdIyGR-hVssa",
        "colab": {
          "base_uri": "https://localhost:8080/"
        },
        "outputId": "cd89bcf6-a489-486e-b5a3-575cc6feaaa4"
      },
      "outputs": [
        {
          "output_type": "execute_result",
          "data": {
            "text/plain": [
              "False"
            ]
          },
          "metadata": {},
          "execution_count": 35
        }
      ],
      "source": [
        "5 == 6"
      ]
    },
    {
      "cell_type": "code",
      "execution_count": 36,
      "metadata": {
        "id": "CwnCDvEoVssc",
        "colab": {
          "base_uri": "https://localhost:8080/"
        },
        "outputId": "ad792039-f221-4110-d577-a4f54d4522b7"
      },
      "outputs": [
        {
          "output_type": "execute_result",
          "data": {
            "text/plain": [
              "False"
            ]
          },
          "metadata": {},
          "execution_count": 36
        }
      ],
      "source": [
        "3 == \"3\"    # a number and a string containing a number are different"
      ]
    },
    {
      "cell_type": "markdown",
      "metadata": {
        "id": "0occ6bw1Vsse"
      },
      "source": [
        "## Logical Operators\n",
        "\n",
        "The logical connectives that we use in Mathmatics have corresponding operators in Python.  \n",
        "\n",
        "|Mathematics | Python| precedence |\n",
        "|------------|-------|------------|\n",
        "| $\\lnot$    |  not  | high       |\n",
        "| $\\land$    |  and  | medium     |\n",
        "| $\\lor$     |   or  | low        |\n",
        "\n",
        "These logical operators can be used to construct arbitrary complex logical expressions.  Note that the operators have different precedence  (similar to multiplication over addition).  \n",
        "\n",
        "**When in doubt use brackets !!**"
      ]
    },
    {
      "cell_type": "code",
      "execution_count": 37,
      "metadata": {
        "id": "koO_LR_xVssf",
        "colab": {
          "base_uri": "https://localhost:8080/"
        },
        "outputId": "d207d06e-6063-4ad2-ac61-425f12181723"
      },
      "outputs": [
        {
          "output_type": "execute_result",
          "data": {
            "text/plain": [
              "True"
            ]
          },
          "metadata": {},
          "execution_count": 37
        }
      ],
      "source": [
        "not not True"
      ]
    },
    {
      "cell_type": "markdown",
      "metadata": {
        "id": "gZ7y7X4-Vssh"
      },
      "source": [
        "### Logical Operator precedence"
      ]
    },
    {
      "cell_type": "code",
      "execution_count": 38,
      "metadata": {
        "id": "8XhGikTAVssh",
        "colab": {
          "base_uri": "https://localhost:8080/"
        },
        "outputId": "12752cdd-f30f-4892-f013-d0fe645dfd14"
      },
      "outputs": [
        {
          "output_type": "execute_result",
          "data": {
            "text/plain": [
              "True"
            ]
          },
          "metadata": {},
          "execution_count": 38
        }
      ],
      "source": [
        "# which operator is computed first ?\n",
        "True or False and False"
      ]
    },
    {
      "cell_type": "code",
      "execution_count": 39,
      "metadata": {
        "id": "7MmTJGHcVssj",
        "colab": {
          "base_uri": "https://localhost:8080/"
        },
        "outputId": "81f7949b-e7d7-430c-cccd-7fa2a4374781"
      },
      "outputs": [
        {
          "output_type": "execute_result",
          "data": {
            "text/plain": [
              "False"
            ]
          },
          "metadata": {},
          "execution_count": 39
        }
      ],
      "source": [
        "# Applying the or operator first ...\n",
        "(True or False) and False"
      ]
    },
    {
      "cell_type": "code",
      "execution_count": 40,
      "metadata": {
        "id": "Wxpm-WrpVssl",
        "colab": {
          "base_uri": "https://localhost:8080/"
        },
        "outputId": "2c461c5d-9dee-4923-81ee-212df8187d96"
      },
      "outputs": [
        {
          "output_type": "execute_result",
          "data": {
            "text/plain": [
              "True"
            ]
          },
          "metadata": {},
          "execution_count": 40
        }
      ],
      "source": [
        "# Applying the and operator first ...\n",
        "True or (False and False)"
      ]
    },
    {
      "cell_type": "markdown",
      "metadata": {
        "id": "VlSAGHbkVssm"
      },
      "source": [
        "## Truth Tables\n",
        "\n",
        "Later in this module we will use Python loops to build truth tables. In the meantime, we will use a helper function, __TruthTable__ to make life easier. You can use  \n",
        "\n",
        " * __TruthTable('expression')__ to build the truth table for __expression__\n",
        "\n",
        "    This function can be used to check if an expression is _satisfiable_, is a _tautology_ or is a _contradiction_.\n",
        "\n",
        " * __TruthTable(['expression 1', 'expression 2'])__ to build the truth table for __expression 1__ and __expression 2__\n",
        " * __TruthTable(['expression 1', 'expression 2', 'expression 3'])__ to build the truth table for __expression 1__, __expression 2__ and __expression 3__, etc.\n",
        "\n",
        "  \n",
        " This function can be used to check if logical expressions are equivalent.\n",
        "\n",
        " * Finaly if you append option __ints=True__ then the __0__/__1__ will be used for __False__/__True__.\n"
      ]
    },
    {
      "cell_type": "code",
      "execution_count": 41,
      "metadata": {
        "id": "qnTq4q-oVssn",
        "colab": {
          "base_uri": "https://localhost:8080/",
          "height": 124
        },
        "outputId": "39ad0ba7-20c0-4dcf-eb7b-fcd47d9bd96b"
      },
      "outputs": [
        {
          "output_type": "execute_result",
          "data": {
            "text/plain": [
              "<IPython.core.display.HTML object>"
            ],
            "text/html": [
              "<table id=\"truthtable\">\n",
              "<thead><tr><th>a</th><th>b</th><th>not (not a or b)</th></tr></thead>\n",
              "<tbody>\n",
              "<tr><td>False</td><td>False</td><td>False</td></tr>\n",
              "<tr><td>False</td><td>True</td><td>False</td></tr>\n",
              "<tr><td>True</td><td>False</td><td>True</td></tr>\n",
              "<tr><td>True</td><td>True</td><td>False</td></tr>\n",
              "</tbody>\n",
              "</table>"
            ]
          },
          "metadata": {},
          "execution_count": 41
        }
      ],
      "source": [
        "TruthTable('not (not a or b)')"
      ]
    },
    {
      "cell_type": "code",
      "execution_count": 42,
      "metadata": {
        "id": "zBPyfZy8iBWi",
        "colab": {
          "base_uri": "https://localhost:8080/",
          "height": 124
        },
        "outputId": "5d21d2ef-a505-47da-a309-f536a777e530"
      },
      "outputs": [
        {
          "output_type": "execute_result",
          "data": {
            "text/plain": [
              "<IPython.core.display.HTML object>"
            ],
            "text/html": [
              "<table id=\"truthtable\">\n",
              "<thead><tr><th>a</th><th>b</th><th>not (not a or b)</th></tr></thead>\n",
              "<tbody>\n",
              "<tr><td>0</td><td>0</td><td>0</td></tr>\n",
              "<tr><td>0</td><td>1</td><td>0</td></tr>\n",
              "<tr><td>1</td><td>0</td><td>1</td></tr>\n",
              "<tr><td>1</td><td>1</td><td>0</td></tr>\n",
              "</tbody>\n",
              "</table>"
            ]
          },
          "metadata": {},
          "execution_count": 42
        }
      ],
      "source": [
        "TruthTable('not (not a or b)',  ints=True)"
      ]
    },
    {
      "cell_type": "code",
      "execution_count": 43,
      "metadata": {
        "id": "VTx2ZbLiVsso",
        "colab": {
          "base_uri": "https://localhost:8080/",
          "height": 124
        },
        "outputId": "d62b3918-1e79-4694-da82-e4425660c594"
      },
      "outputs": [
        {
          "output_type": "execute_result",
          "data": {
            "text/plain": [
              "<IPython.core.display.HTML object>"
            ],
            "text/html": [
              "<table id=\"truthtable\">\n",
              "<thead><tr><th>a</th><th>b</th><th>a or b</th><th>a and b</th></tr></thead>\n",
              "<tbody>\n",
              "<tr><td>False</td><td>False</td><td>False</td><td>False</td></tr>\n",
              "<tr><td>False</td><td>True</td><td>True</td><td>False</td></tr>\n",
              "<tr><td>True</td><td>False</td><td>True</td><td>False</td></tr>\n",
              "<tr><td>True</td><td>True</td><td>True</td><td>True</td></tr>\n",
              "</tbody>\n",
              "</table>"
            ]
          },
          "metadata": {},
          "execution_count": 43
        }
      ],
      "source": [
        "TruthTable(['a or b', 'a and b'])"
      ]
    },
    {
      "cell_type": "code",
      "execution_count": 44,
      "metadata": {
        "id": "sM0TL4XAVssq",
        "colab": {
          "base_uri": "https://localhost:8080/",
          "height": 208
        },
        "outputId": "3ff4ea87-d2c4-48da-984e-1b1632eee91e"
      },
      "outputs": [
        {
          "output_type": "execute_result",
          "data": {
            "text/plain": [
              "<IPython.core.display.HTML object>"
            ],
            "text/html": [
              "<table id=\"truthtable\">\n",
              "<thead><tr><th>p</th><th>q</th><th>r</th><th>(p or (p and q)) and (p or not r)</th><th>p or (q and not r)</th></tr></thead>\n",
              "<tbody>\n",
              "<tr><td>False</td><td>False</td><td>False</td><td>False</td><td>False</td></tr>\n",
              "<tr><td>False</td><td>False</td><td>True</td><td>False</td><td>False</td></tr>\n",
              "<tr><td>False</td><td>True</td><td>False</td><td>False</td><td>True</td></tr>\n",
              "<tr><td>False</td><td>True</td><td>True</td><td>False</td><td>False</td></tr>\n",
              "<tr><td>True</td><td>False</td><td>False</td><td>True</td><td>True</td></tr>\n",
              "<tr><td>True</td><td>False</td><td>True</td><td>True</td><td>True</td></tr>\n",
              "<tr><td>True</td><td>True</td><td>False</td><td>True</td><td>True</td></tr>\n",
              "<tr><td>True</td><td>True</td><td>True</td><td>True</td><td>True</td></tr>\n",
              "</tbody>\n",
              "</table>"
            ]
          },
          "metadata": {},
          "execution_count": 44
        }
      ],
      "source": [
        "TruthTable([\"(p or (p and q)) and (p or not r)\", \"p or (q and not r)\"])"
      ]
    },
    {
      "cell_type": "markdown",
      "metadata": {
        "id": "LnPvfdtcVsss"
      },
      "source": [
        "## Exercises"
      ]
    },
    {
      "cell_type": "markdown",
      "metadata": {
        "id": "qAufX-9aVsss"
      },
      "source": [
        "### Question 1\n",
        "\n",
        "Construct the truth table for $p \\lor (\\lnot p \\land q)$"
      ]
    },
    {
      "cell_type": "code",
      "execution_count": 45,
      "metadata": {
        "id": "jS4mrDbiVsss",
        "tags": [
          "Q1"
        ],
        "colab": {
          "base_uri": "https://localhost:8080/",
          "height": 124
        },
        "outputId": "985d68c5-7c37-4e0d-f1bc-6d608d6f2ecd"
      },
      "outputs": [
        {
          "output_type": "execute_result",
          "data": {
            "text/plain": [
              "<IPython.core.display.HTML object>"
            ],
            "text/html": [
              "<table id=\"truthtable\">\n",
              "<thead><tr><th>p</th><th>q</th><th>(p or (not p and q))</th></tr></thead>\n",
              "<tbody>\n",
              "<tr><td>False</td><td>False</td><td>False</td></tr>\n",
              "<tr><td>False</td><td>True</td><td>True</td></tr>\n",
              "<tr><td>True</td><td>False</td><td>True</td></tr>\n",
              "<tr><td>True</td><td>True</td><td>True</td></tr>\n",
              "</tbody>\n",
              "</table>"
            ]
          },
          "metadata": {},
          "execution_count": 45
        }
      ],
      "source": [
        "# Question 1\n",
        "TruthTable([\"(p or (not p and q))\"])"
      ]
    },
    {
      "cell_type": "markdown",
      "metadata": {
        "id": "i_dxxrcYVssv"
      },
      "source": [
        "### Question 2\n",
        "\n",
        "Construct the truth table for $\\lnot p \\land (p\\to q)$\n",
        "\n",
        "Note that you will need to express the conditional operator in terms of __not__, __and__, and __or__. (see notes)"
      ]
    },
    {
      "cell_type": "code",
      "execution_count": 58,
      "metadata": {
        "id": "U4IZ1k0EVssv",
        "tags": [
          "Q2"
        ],
        "colab": {
          "base_uri": "https://localhost:8080/",
          "height": 124
        },
        "outputId": "6b8c2456-f607-4ffe-ad28-a3b39812aab4"
      },
      "outputs": [
        {
          "output_type": "execute_result",
          "data": {
            "text/plain": [
              "<IPython.core.display.HTML object>"
            ],
            "text/html": [
              "<table id=\"truthtable\">\n",
              "<thead><tr><th>p</th><th>q</th><th>(not p and (not (p) or q))</th></tr></thead>\n",
              "<tbody>\n",
              "<tr><td>False</td><td>False</td><td>True</td></tr>\n",
              "<tr><td>False</td><td>True</td><td>True</td></tr>\n",
              "<tr><td>True</td><td>False</td><td>False</td></tr>\n",
              "<tr><td>True</td><td>True</td><td>False</td></tr>\n",
              "</tbody>\n",
              "</table>"
            ]
          },
          "metadata": {},
          "execution_count": 58
        }
      ],
      "source": [
        "# Question 2\n",
        "TruthTable([\"(not p and (not (p) or q))\"])"
      ]
    },
    {
      "cell_type": "markdown",
      "metadata": {
        "id": "jZ5tqdbvVssw"
      },
      "source": [
        "### Question 3\n",
        "\n",
        " **a)** Construct the truth table for $(p \\land (\\lnot(\\lnot p \\lor q))) \\lor (p \\land q)$\n",
        "\n",
        " **b)** Is the expression in part **a)** logically equivalent to $p$ (Given reason) ?"
      ]
    },
    {
      "cell_type": "code",
      "execution_count": 48,
      "metadata": {
        "id": "I0nZ2Bq6Vssx",
        "tags": [
          "Q3a"
        ],
        "colab": {
          "base_uri": "https://localhost:8080/",
          "height": 124
        },
        "outputId": "d134bff2-a97f-4e8c-da14-3fa73add532c"
      },
      "outputs": [
        {
          "output_type": "execute_result",
          "data": {
            "text/plain": [
              "<IPython.core.display.HTML object>"
            ],
            "text/html": [
              "<table id=\"truthtable\">\n",
              "<thead><tr><th>p</th><th>q</th><th>(p and (not(not p or q))) or ( p and q)</th></tr></thead>\n",
              "<tbody>\n",
              "<tr><td>False</td><td>False</td><td>False</td></tr>\n",
              "<tr><td>False</td><td>True</td><td>False</td></tr>\n",
              "<tr><td>True</td><td>False</td><td>True</td></tr>\n",
              "<tr><td>True</td><td>True</td><td>True</td></tr>\n",
              "</tbody>\n",
              "</table>"
            ]
          },
          "metadata": {},
          "execution_count": 48
        }
      ],
      "source": [
        "# Question 3(a)\n",
        "TruthTable([\"(p and (not(not p or q))) or ( p and q)\"])"
      ]
    },
    {
      "cell_type": "markdown",
      "metadata": {
        "id": "Yf98iHdCVssy",
        "tags": [
          "Q3b"
        ]
      },
      "source": [
        "Question 3(b)\n",
        "\n",
        "This is a markdown cell (not a code cell), so just type you answer here as normal text.\n",
        "\n"
      ]
    },
    {
      "cell_type": "markdown",
      "source": [
        "The expression in part (a) is logic equivalent to p is because the truth value of part (a) is match as p."
      ],
      "metadata": {
        "id": "zzTgVLguDqcc"
      }
    },
    {
      "cell_type": "markdown",
      "metadata": {
        "id": "0PKkopHuVssz"
      },
      "source": [
        "### Question 4\n",
        "\n",
        " **a)** Construct truth tables to determine whether the logical expressions\n",
        "\n",
        "$$\n",
        "     \\lnot(p \\lor q)\n",
        "     \\qquad\\text{and}\\qquad\n",
        "     (\\lnot p) \\land (\\lnot q)\n",
        " $$ are logically equivalent.\n",
        "\n",
        " **Hint:** They are and are called __De Morgan's laws__)"
      ]
    },
    {
      "cell_type": "code",
      "execution_count": 25,
      "metadata": {
        "id": "-lscqe2LVssz",
        "tags": [
          "Q4"
        ],
        "colab": {
          "base_uri": "https://localhost:8080/",
          "height": 124
        },
        "outputId": "a5868097-392c-4196-8e85-4909378ff394"
      },
      "outputs": [
        {
          "output_type": "execute_result",
          "data": {
            "text/plain": [
              "<IPython.core.display.HTML object>"
            ],
            "text/html": [
              "<table id=\"truthtable\">\n",
              "<thead><tr><th>p</th><th>q</th><th>((not(p or q)) and ((not p) and (not q)))</th></tr></thead>\n",
              "<tbody>\n",
              "<tr><td>False</td><td>False</td><td>True</td></tr>\n",
              "<tr><td>False</td><td>True</td><td>False</td></tr>\n",
              "<tr><td>True</td><td>False</td><td>False</td></tr>\n",
              "<tr><td>True</td><td>True</td><td>False</td></tr>\n",
              "</tbody>\n",
              "</table>"
            ]
          },
          "metadata": {},
          "execution_count": 25
        }
      ],
      "source": [
        "# Question 4\n",
        "TruthTable([\"((not(p or q)) and ((not p) and (not q)))\"])"
      ]
    },
    {
      "cell_type": "markdown",
      "metadata": {
        "id": "xhcWhb-9Vss1"
      },
      "source": [
        "### Question 5\n",
        "\n",
        "Construct the truth table for $p \\lor (\\lnot p \\land q) \\to (p \\land q)$.\n",
        "\n",
        "**Hint:** You need to replace the conditional operator with a logical equivalent expression in terms of given operators (see notes)."
      ]
    },
    {
      "cell_type": "code",
      "execution_count": 60,
      "metadata": {
        "id": "l8ODgkOfVss1",
        "tags": [
          "Q5"
        ],
        "colab": {
          "base_uri": "https://localhost:8080/",
          "height": 124
        },
        "outputId": "1ae8048b-319a-41fe-cfeb-2858396bc07a"
      },
      "outputs": [
        {
          "output_type": "execute_result",
          "data": {
            "text/plain": [
              "<IPython.core.display.HTML object>"
            ],
            "text/html": [
              "<table id=\"truthtable\">\n",
              "<thead><tr><th>p</th><th>q</th><th>(p or (not (not p and q)) or (p and q))</th></tr></thead>\n",
              "<tbody>\n",
              "<tr><td>False</td><td>False</td><td>True</td></tr>\n",
              "<tr><td>False</td><td>True</td><td>False</td></tr>\n",
              "<tr><td>True</td><td>False</td><td>True</td></tr>\n",
              "<tr><td>True</td><td>True</td><td>True</td></tr>\n",
              "</tbody>\n",
              "</table>"
            ]
          },
          "metadata": {},
          "execution_count": 60
        }
      ],
      "source": [
        "# Question 5\n",
        "TruthTable([\"(p or (not (not p and q)) or (p and q))\"])\n"
      ]
    },
    {
      "cell_type": "markdown",
      "metadata": {
        "id": "eoKiLcregqSH"
      },
      "source": [
        "---\n",
        "## Review/Feedback (P02)\n"
      ]
    },
    {
      "cell_type": "code",
      "execution_count": null,
      "metadata": {
        "cellView": "form",
        "id": "n3_Ipe9Vgcmb"
      },
      "outputs": [],
      "source": [
        "#@markdown This a a short questionnaire for you to provide feedback on how you think the semester is progressing and in particular for __Discrete Mathematics__, how easy/difficult, interesting/boring, useful/confusing you find the material. By completing the following you will help us improve our delivery.<br />Please enter your feedback and click on arrow at top-left to save.\n",
        "\n",
        "#@markdown **This practical**\n",
        "\n",
        "#@markdown How difficult did you find this practical?\n",
        "practical_difficulty = 'About right' #@param ['No opinion', \"Too easy', 'Easy', 'About right', 'Some bits were hard but overall it was doable', 'Too difficult', 'Impossible']\n",
        "\n",
        "#@markdown Including online session time, how long (in minutes) did it take for you to finish this practical?\n",
        "practical_duration = 10 #@param {type: \"number\"}\n",
        "\n",
        "#@markdown **This week's material**\n",
        "\n",
        "#@markdown How difficult did you find each of the following this week?\n",
        "lecture_difficulty = 'About right' #@param ['No opinion', \"Too easy', 'Easy', 'About right', 'Some bits were hard but overall it was doable', 'Too difficult', 'Impossible']\n",
        "\n",
        "tutorial_questions_difficulty = 'About right' #@param ['No opinion', \"Too easy', 'Easy', 'About right', 'Some bits were hard but overall it was doable', 'Too difficult', 'Impossible']\n",
        "\n",
        "#@markdown Use the line below to enter any comments &mdash; what you liked, what you did not like. Again all feedback is welcome.\n",
        "general_comment = \"-\" #@param {type: \"string\"}\n"
      ]
    },
    {
      "cell_type": "code",
      "execution_count": null,
      "metadata": {
        "id": "6qjrUx16gdMA"
      },
      "outputs": [],
      "source": []
    }
  ],
  "metadata": {
    "colab": {
      "provenance": []
    },
    "kernelspec": {
      "display_name": "Python 3",
      "language": "python",
      "name": "python3"
    },
    "language_info": {
      "codemirror_mode": {
        "name": "ipython",
        "version": 3
      },
      "file_extension": ".py",
      "mimetype": "text/x-python",
      "name": "python",
      "nbconvert_exporter": "python",
      "pygments_lexer": "ipython3",
      "version": "3.9.10"
    },
    "toc": {
      "toc_cell": false,
      "toc_number_sections": true,
      "toc_threshold": 6,
      "toc_window_display": false
    }
  },
  "nbformat": 4,
  "nbformat_minor": 0
}